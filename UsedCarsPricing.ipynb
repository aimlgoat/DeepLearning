{
  "cells": [
    {
      "cell_type": "markdown",
      "metadata": {
        "id": "view-in-github",
        "colab_type": "text"
      },
      "source": [
        "<a href=\"https://colab.research.google.com/github/aimlgoat/Generative-AI/blob/main/UsedCarsPricing.ipynb\" target=\"_parent\"><img src=\"https://colab.research.google.com/assets/colab-badge.svg\" alt=\"Open In Colab\"/></a>"
      ]
    },
    {
      "cell_type": "markdown",
      "metadata": {
        "id": "kf37d5GRU4PU"
      },
      "source": [
        "### **Context**\n",
        "\n",
        "The production rates of cars have been rising progressively during the past decade, with almost 92 million cars\n",
        "being produced in the year 2019. This big rise has allowed the used car market to now come\n",
        "into the picture as a growing industry. The manufacture fixes the costs of recent cars within the industry together with some additional costs that are\n",
        "incurred by the govt. majorly within the various types of taxes. So, customers that buy a replacement car remain\n",
        "assured of the money that they invest to be righteous. But because of such increase in prices of the new\n",
        "cars and therefore the inability of the many customers to shop for a replacement car thanks to the dearth of\n",
        "sufficient funds, they like used cars which has resulted into a world increase within the sales of used cars.\n",
        "Therefore, there's a necessity to possess a second hand car price prediction model to accurately determine the\n",
        "worthiness of the car considering a range of features."
      ]
    },
    {
      "cell_type": "markdown",
      "metadata": {
        "id": "783YLK7Fe7yV"
      },
      "source": [
        "## **Problem statement**\n",
        "\n",
        "A company named **Ucars** predicts the price of used cars. Lots of customers approach them to get an estimate of the price of the used car that they want to buy. You working aa a Data Scientist in the Ucars team developing the model that can predict the price of these used cars."
      ]
    },
    {
      "cell_type": "markdown",
      "source": [],
      "metadata": {
        "id": "Mw8jP18uqCxQ"
      }
    },
    {
      "cell_type": "markdown",
      "metadata": {
        "id": "IwAnuKeBgyhF"
      },
      "source": [
        "#### **Data Dictionary**\n",
        "\n",
        "We are using the cars dataset from Kaggle, and the description of the features is given below:\n",
        "\n",
        "**Model**: The brand and model of the car\n",
        "\n",
        "**Year**: The year or edition of the model\n",
        "\n",
        "**Transmission**: The type of transmission used by the car (Automatic / Manual)\n",
        "\n",
        "**Mileage**: The standard mileage offered by the car company in kmpl or km/kg\n",
        "\n",
        "**Price**: The price of the car\n",
        "\n",
        "**Color**: Color of the car"
      ]
    },
    {
      "cell_type": "code",
      "execution_count": null,
      "metadata": {
        "colab": {
          "base_uri": "https://localhost:8080/"
        },
        "id": "tvNefLdVoZNz",
        "outputId": "dda7e382-c5bb-4796-dab2-e45e7f229093"
      },
      "outputs": [
        {
          "output_type": "stream",
          "name": "stdout",
          "text": [
            "Requirement already satisfied: tensorflow in /usr/local/lib/python3.10/dist-packages (2.13.0)\n",
            "Requirement already satisfied: absl-py>=1.0.0 in /usr/local/lib/python3.10/dist-packages (from tensorflow) (1.4.0)\n",
            "Requirement already satisfied: astunparse>=1.6.0 in /usr/local/lib/python3.10/dist-packages (from tensorflow) (1.6.3)\n",
            "Requirement already satisfied: flatbuffers>=23.1.21 in /usr/local/lib/python3.10/dist-packages (from tensorflow) (23.5.26)\n",
            "Requirement already satisfied: gast<=0.4.0,>=0.2.1 in /usr/local/lib/python3.10/dist-packages (from tensorflow) (0.4.0)\n",
            "Requirement already satisfied: google-pasta>=0.1.1 in /usr/local/lib/python3.10/dist-packages (from tensorflow) (0.2.0)\n",
            "Requirement already satisfied: grpcio<2.0,>=1.24.3 in /usr/local/lib/python3.10/dist-packages (from tensorflow) (1.58.0)\n",
            "Requirement already satisfied: h5py>=2.9.0 in /usr/local/lib/python3.10/dist-packages (from tensorflow) (3.9.0)\n",
            "Requirement already satisfied: keras<2.14,>=2.13.1 in /usr/local/lib/python3.10/dist-packages (from tensorflow) (2.13.1)\n",
            "Requirement already satisfied: libclang>=13.0.0 in /usr/local/lib/python3.10/dist-packages (from tensorflow) (16.0.6)\n",
            "Requirement already satisfied: numpy<=1.24.3,>=1.22 in /usr/local/lib/python3.10/dist-packages (from tensorflow) (1.23.5)\n",
            "Requirement already satisfied: opt-einsum>=2.3.2 in /usr/local/lib/python3.10/dist-packages (from tensorflow) (3.3.0)\n",
            "Requirement already satisfied: packaging in /usr/local/lib/python3.10/dist-packages (from tensorflow) (23.1)\n",
            "Requirement already satisfied: protobuf!=4.21.0,!=4.21.1,!=4.21.2,!=4.21.3,!=4.21.4,!=4.21.5,<5.0.0dev,>=3.20.3 in /usr/local/lib/python3.10/dist-packages (from tensorflow) (3.20.3)\n",
            "Requirement already satisfied: setuptools in /usr/local/lib/python3.10/dist-packages (from tensorflow) (67.7.2)\n",
            "Requirement already satisfied: six>=1.12.0 in /usr/local/lib/python3.10/dist-packages (from tensorflow) (1.16.0)\n",
            "Requirement already satisfied: tensorboard<2.14,>=2.13 in /usr/local/lib/python3.10/dist-packages (from tensorflow) (2.13.0)\n",
            "Requirement already satisfied: tensorflow-estimator<2.14,>=2.13.0 in /usr/local/lib/python3.10/dist-packages (from tensorflow) (2.13.0)\n",
            "Requirement already satisfied: termcolor>=1.1.0 in /usr/local/lib/python3.10/dist-packages (from tensorflow) (2.3.0)\n",
            "Requirement already satisfied: typing-extensions<4.6.0,>=3.6.6 in /usr/local/lib/python3.10/dist-packages (from tensorflow) (4.5.0)\n",
            "Requirement already satisfied: wrapt>=1.11.0 in /usr/local/lib/python3.10/dist-packages (from tensorflow) (1.15.0)\n",
            "Requirement already satisfied: tensorflow-io-gcs-filesystem>=0.23.1 in /usr/local/lib/python3.10/dist-packages (from tensorflow) (0.34.0)\n",
            "Requirement already satisfied: wheel<1.0,>=0.23.0 in /usr/local/lib/python3.10/dist-packages (from astunparse>=1.6.0->tensorflow) (0.41.2)\n",
            "Requirement already satisfied: google-auth<3,>=1.6.3 in /usr/local/lib/python3.10/dist-packages (from tensorboard<2.14,>=2.13->tensorflow) (2.17.3)\n",
            "Requirement already satisfied: google-auth-oauthlib<1.1,>=0.5 in /usr/local/lib/python3.10/dist-packages (from tensorboard<2.14,>=2.13->tensorflow) (1.0.0)\n",
            "Requirement already satisfied: markdown>=2.6.8 in /usr/local/lib/python3.10/dist-packages (from tensorboard<2.14,>=2.13->tensorflow) (3.4.4)\n",
            "Requirement already satisfied: requests<3,>=2.21.0 in /usr/local/lib/python3.10/dist-packages (from tensorboard<2.14,>=2.13->tensorflow) (2.31.0)\n",
            "Requirement already satisfied: tensorboard-data-server<0.8.0,>=0.7.0 in /usr/local/lib/python3.10/dist-packages (from tensorboard<2.14,>=2.13->tensorflow) (0.7.1)\n",
            "Requirement already satisfied: werkzeug>=1.0.1 in /usr/local/lib/python3.10/dist-packages (from tensorboard<2.14,>=2.13->tensorflow) (2.3.7)\n",
            "Requirement already satisfied: cachetools<6.0,>=2.0.0 in /usr/local/lib/python3.10/dist-packages (from google-auth<3,>=1.6.3->tensorboard<2.14,>=2.13->tensorflow) (5.3.1)\n",
            "Requirement already satisfied: pyasn1-modules>=0.2.1 in /usr/local/lib/python3.10/dist-packages (from google-auth<3,>=1.6.3->tensorboard<2.14,>=2.13->tensorflow) (0.3.0)\n",
            "Requirement already satisfied: rsa<5,>=3.1.4 in /usr/local/lib/python3.10/dist-packages (from google-auth<3,>=1.6.3->tensorboard<2.14,>=2.13->tensorflow) (4.9)\n",
            "Requirement already satisfied: requests-oauthlib>=0.7.0 in /usr/local/lib/python3.10/dist-packages (from google-auth-oauthlib<1.1,>=0.5->tensorboard<2.14,>=2.13->tensorflow) (1.3.1)\n",
            "Requirement already satisfied: charset-normalizer<4,>=2 in /usr/local/lib/python3.10/dist-packages (from requests<3,>=2.21.0->tensorboard<2.14,>=2.13->tensorflow) (3.2.0)\n",
            "Requirement already satisfied: idna<4,>=2.5 in /usr/local/lib/python3.10/dist-packages (from requests<3,>=2.21.0->tensorboard<2.14,>=2.13->tensorflow) (3.4)\n",
            "Requirement already satisfied: urllib3<3,>=1.21.1 in /usr/local/lib/python3.10/dist-packages (from requests<3,>=2.21.0->tensorboard<2.14,>=2.13->tensorflow) (2.0.5)\n",
            "Requirement already satisfied: certifi>=2017.4.17 in /usr/local/lib/python3.10/dist-packages (from requests<3,>=2.21.0->tensorboard<2.14,>=2.13->tensorflow) (2023.7.22)\n",
            "Requirement already satisfied: MarkupSafe>=2.1.1 in /usr/local/lib/python3.10/dist-packages (from werkzeug>=1.0.1->tensorboard<2.14,>=2.13->tensorflow) (2.1.3)\n",
            "Requirement already satisfied: pyasn1<0.6.0,>=0.4.6 in /usr/local/lib/python3.10/dist-packages (from pyasn1-modules>=0.2.1->google-auth<3,>=1.6.3->tensorboard<2.14,>=2.13->tensorflow) (0.5.0)\n",
            "Requirement already satisfied: oauthlib>=3.0.0 in /usr/local/lib/python3.10/dist-packages (from requests-oauthlib>=0.7.0->google-auth-oauthlib<1.1,>=0.5->tensorboard<2.14,>=2.13->tensorflow) (3.2.2)\n"
          ]
        }
      ],
      "source": [
        "!pip install tensorflow"
      ]
    },
    {
      "cell_type": "markdown",
      "metadata": {
        "id": "ycFapGk6GTSi"
      },
      "source": [
        "#### Import required libraries"
      ]
    },
    {
      "cell_type": "code",
      "execution_count": null,
      "metadata": {
        "id": "QDAeZMkknNt4"
      },
      "outputs": [],
      "source": [
        "# Libraries to help with reading and manipulating data\n",
        "import pandas as pd\n",
        "import numpy as np\n",
        "# Library to split data\n",
        "from sklearn.model_selection import train_test_split\n",
        "# Library to encode the variables\n",
        "from sklearn import preprocessing\n",
        "# To plot confusion matrix\n",
        "from sklearn.metrics import confusion_matrix\n",
        "from sklearn.metrics import precision_score\n",
        "# libaries to help with data visualization\n",
        "import matplotlib.pyplot as plt\n",
        "import seaborn as sns\n",
        "# library to import to standardize the data\n",
        "from sklearn.preprocessing import StandardScaler\n",
        "#To import different metrics\n",
        "from sklearn import metrics\n",
        "import sklearn\n",
        "from tensorflow.keras import backend\n",
        "# Library to avoid the warnings\n",
        "import warnings\n",
        "warnings.filterwarnings(\"ignore\")\n",
        "# importing different functions to build models\n",
        "from tensorflow.keras.models import Sequential\n",
        "from tensorflow.keras.layers import Dense\n",
        "import tensorflow as tf"
      ]
    },
    {
      "cell_type": "markdown",
      "metadata": {
        "id": "fBYVOvFIkfdm"
      },
      "source": [
        "#### Reading the Dataset"
      ]
    },
    {
      "cell_type": "code",
      "source": [
        "from google.colab import drive\n",
        "drive.mount('/content/drive')"
      ],
      "metadata": {
        "colab": {
          "base_uri": "https://localhost:8080/"
        },
        "id": "0Ah77kcHovna",
        "outputId": "7f6ed215-36c2-41a7-aa3f-d6e1376e78ed"
      },
      "execution_count": null,
      "outputs": [
        {
          "output_type": "stream",
          "name": "stdout",
          "text": [
            "Drive already mounted at /content/drive; to attempt to forcibly remount, call drive.mount(\"/content/drive\", force_remount=True).\n"
          ]
        }
      ]
    },
    {
      "cell_type": "code",
      "source": [
        "f='/content/drive/MyDrive/aiml/dl/new_preprocessed_data.csv'"
      ],
      "metadata": {
        "id": "DLr6W4cYo7fT"
      },
      "execution_count": null,
      "outputs": []
    },
    {
      "cell_type": "code",
      "execution_count": null,
      "metadata": {
        "colab": {
          "base_uri": "https://localhost:8080/",
          "height": 206
        },
        "id": "C6z0aGDMnNt4",
        "outputId": "736f8292-bf6d-40de-b687-b26437dd141a"
      },
      "outputs": [
        {
          "output_type": "execute_result",
          "data": {
            "text/plain": [
              "   loan_status  Principal  age  education_Bechalor  \\\n",
              "0            0       1000   45                   0   \n",
              "1            0       1000   50                   1   \n",
              "2            0       1000   33                   1   \n",
              "3            0       1000   27                   0   \n",
              "4            0       1000   28                   0   \n",
              "\n",
              "   education_High School or Below  education_Master or Above  \\\n",
              "0                               1                          0   \n",
              "1                               0                          0   \n",
              "2                               0                          0   \n",
              "3                               0                          0   \n",
              "4                               0                          0   \n",
              "\n",
              "   education_college  Gender_female  Gender_male  terms_7  terms_15  terms_30  \n",
              "0                  0              0            1        0         0         1  \n",
              "1                  0              1            0        0         0         1  \n",
              "2                  0              1            0        0         0         1  \n",
              "3                  1              0            1        0         1         0  \n",
              "4                  1              1            0        0         0         1  "
            ],
            "text/html": [
              "\n",
              "  <div id=\"df-18c0c37d-befb-4740-8f12-84a9b5f33046\" class=\"colab-df-container\">\n",
              "    <div>\n",
              "<style scoped>\n",
              "    .dataframe tbody tr th:only-of-type {\n",
              "        vertical-align: middle;\n",
              "    }\n",
              "\n",
              "    .dataframe tbody tr th {\n",
              "        vertical-align: top;\n",
              "    }\n",
              "\n",
              "    .dataframe thead th {\n",
              "        text-align: right;\n",
              "    }\n",
              "</style>\n",
              "<table border=\"1\" class=\"dataframe\">\n",
              "  <thead>\n",
              "    <tr style=\"text-align: right;\">\n",
              "      <th></th>\n",
              "      <th>loan_status</th>\n",
              "      <th>Principal</th>\n",
              "      <th>age</th>\n",
              "      <th>education_Bechalor</th>\n",
              "      <th>education_High School or Below</th>\n",
              "      <th>education_Master or Above</th>\n",
              "      <th>education_college</th>\n",
              "      <th>Gender_female</th>\n",
              "      <th>Gender_male</th>\n",
              "      <th>terms_7</th>\n",
              "      <th>terms_15</th>\n",
              "      <th>terms_30</th>\n",
              "    </tr>\n",
              "  </thead>\n",
              "  <tbody>\n",
              "    <tr>\n",
              "      <th>0</th>\n",
              "      <td>0</td>\n",
              "      <td>1000</td>\n",
              "      <td>45</td>\n",
              "      <td>0</td>\n",
              "      <td>1</td>\n",
              "      <td>0</td>\n",
              "      <td>0</td>\n",
              "      <td>0</td>\n",
              "      <td>1</td>\n",
              "      <td>0</td>\n",
              "      <td>0</td>\n",
              "      <td>1</td>\n",
              "    </tr>\n",
              "    <tr>\n",
              "      <th>1</th>\n",
              "      <td>0</td>\n",
              "      <td>1000</td>\n",
              "      <td>50</td>\n",
              "      <td>1</td>\n",
              "      <td>0</td>\n",
              "      <td>0</td>\n",
              "      <td>0</td>\n",
              "      <td>1</td>\n",
              "      <td>0</td>\n",
              "      <td>0</td>\n",
              "      <td>0</td>\n",
              "      <td>1</td>\n",
              "    </tr>\n",
              "    <tr>\n",
              "      <th>2</th>\n",
              "      <td>0</td>\n",
              "      <td>1000</td>\n",
              "      <td>33</td>\n",
              "      <td>1</td>\n",
              "      <td>0</td>\n",
              "      <td>0</td>\n",
              "      <td>0</td>\n",
              "      <td>1</td>\n",
              "      <td>0</td>\n",
              "      <td>0</td>\n",
              "      <td>0</td>\n",
              "      <td>1</td>\n",
              "    </tr>\n",
              "    <tr>\n",
              "      <th>3</th>\n",
              "      <td>0</td>\n",
              "      <td>1000</td>\n",
              "      <td>27</td>\n",
              "      <td>0</td>\n",
              "      <td>0</td>\n",
              "      <td>0</td>\n",
              "      <td>1</td>\n",
              "      <td>0</td>\n",
              "      <td>1</td>\n",
              "      <td>0</td>\n",
              "      <td>1</td>\n",
              "      <td>0</td>\n",
              "    </tr>\n",
              "    <tr>\n",
              "      <th>4</th>\n",
              "      <td>0</td>\n",
              "      <td>1000</td>\n",
              "      <td>28</td>\n",
              "      <td>0</td>\n",
              "      <td>0</td>\n",
              "      <td>0</td>\n",
              "      <td>1</td>\n",
              "      <td>1</td>\n",
              "      <td>0</td>\n",
              "      <td>0</td>\n",
              "      <td>0</td>\n",
              "      <td>1</td>\n",
              "    </tr>\n",
              "  </tbody>\n",
              "</table>\n",
              "</div>\n",
              "    <div class=\"colab-df-buttons\">\n",
              "\n",
              "  <div class=\"colab-df-container\">\n",
              "    <button class=\"colab-df-convert\" onclick=\"convertToInteractive('df-18c0c37d-befb-4740-8f12-84a9b5f33046')\"\n",
              "            title=\"Convert this dataframe to an interactive table.\"\n",
              "            style=\"display:none;\">\n",
              "\n",
              "  <svg xmlns=\"http://www.w3.org/2000/svg\" height=\"24px\" viewBox=\"0 -960 960 960\">\n",
              "    <path d=\"M120-120v-720h720v720H120Zm60-500h600v-160H180v160Zm220 220h160v-160H400v160Zm0 220h160v-160H400v160ZM180-400h160v-160H180v160Zm440 0h160v-160H620v160ZM180-180h160v-160H180v160Zm440 0h160v-160H620v160Z\"/>\n",
              "  </svg>\n",
              "    </button>\n",
              "\n",
              "  <style>\n",
              "    .colab-df-container {\n",
              "      display:flex;\n",
              "      gap: 12px;\n",
              "    }\n",
              "\n",
              "    .colab-df-convert {\n",
              "      background-color: #E8F0FE;\n",
              "      border: none;\n",
              "      border-radius: 50%;\n",
              "      cursor: pointer;\n",
              "      display: none;\n",
              "      fill: #1967D2;\n",
              "      height: 32px;\n",
              "      padding: 0 0 0 0;\n",
              "      width: 32px;\n",
              "    }\n",
              "\n",
              "    .colab-df-convert:hover {\n",
              "      background-color: #E2EBFA;\n",
              "      box-shadow: 0px 1px 2px rgba(60, 64, 67, 0.3), 0px 1px 3px 1px rgba(60, 64, 67, 0.15);\n",
              "      fill: #174EA6;\n",
              "    }\n",
              "\n",
              "    .colab-df-buttons div {\n",
              "      margin-bottom: 4px;\n",
              "    }\n",
              "\n",
              "    [theme=dark] .colab-df-convert {\n",
              "      background-color: #3B4455;\n",
              "      fill: #D2E3FC;\n",
              "    }\n",
              "\n",
              "    [theme=dark] .colab-df-convert:hover {\n",
              "      background-color: #434B5C;\n",
              "      box-shadow: 0px 1px 3px 1px rgba(0, 0, 0, 0.15);\n",
              "      filter: drop-shadow(0px 1px 2px rgba(0, 0, 0, 0.3));\n",
              "      fill: #FFFFFF;\n",
              "    }\n",
              "  </style>\n",
              "\n",
              "    <script>\n",
              "      const buttonEl =\n",
              "        document.querySelector('#df-18c0c37d-befb-4740-8f12-84a9b5f33046 button.colab-df-convert');\n",
              "      buttonEl.style.display =\n",
              "        google.colab.kernel.accessAllowed ? 'block' : 'none';\n",
              "\n",
              "      async function convertToInteractive(key) {\n",
              "        const element = document.querySelector('#df-18c0c37d-befb-4740-8f12-84a9b5f33046');\n",
              "        const dataTable =\n",
              "          await google.colab.kernel.invokeFunction('convertToInteractive',\n",
              "                                                    [key], {});\n",
              "        if (!dataTable) return;\n",
              "\n",
              "        const docLinkHtml = 'Like what you see? Visit the ' +\n",
              "          '<a target=\"_blank\" href=https://colab.research.google.com/notebooks/data_table.ipynb>data table notebook</a>'\n",
              "          + ' to learn more about interactive tables.';\n",
              "        element.innerHTML = '';\n",
              "        dataTable['output_type'] = 'display_data';\n",
              "        await google.colab.output.renderOutput(dataTable, element);\n",
              "        const docLink = document.createElement('div');\n",
              "        docLink.innerHTML = docLinkHtml;\n",
              "        element.appendChild(docLink);\n",
              "      }\n",
              "    </script>\n",
              "  </div>\n",
              "\n",
              "\n",
              "<div id=\"df-0032f457-bce5-4eed-80b4-7c5425411ec7\">\n",
              "  <button class=\"colab-df-quickchart\" onclick=\"quickchart('df-0032f457-bce5-4eed-80b4-7c5425411ec7')\"\n",
              "            title=\"Suggest charts.\"\n",
              "            style=\"display:none;\">\n",
              "\n",
              "<svg xmlns=\"http://www.w3.org/2000/svg\" height=\"24px\"viewBox=\"0 0 24 24\"\n",
              "     width=\"24px\">\n",
              "    <g>\n",
              "        <path d=\"M19 3H5c-1.1 0-2 .9-2 2v14c0 1.1.9 2 2 2h14c1.1 0 2-.9 2-2V5c0-1.1-.9-2-2-2zM9 17H7v-7h2v7zm4 0h-2V7h2v10zm4 0h-2v-4h2v4z\"/>\n",
              "    </g>\n",
              "</svg>\n",
              "  </button>\n",
              "\n",
              "<style>\n",
              "  .colab-df-quickchart {\n",
              "      --bg-color: #E8F0FE;\n",
              "      --fill-color: #1967D2;\n",
              "      --hover-bg-color: #E2EBFA;\n",
              "      --hover-fill-color: #174EA6;\n",
              "      --disabled-fill-color: #AAA;\n",
              "      --disabled-bg-color: #DDD;\n",
              "  }\n",
              "\n",
              "  [theme=dark] .colab-df-quickchart {\n",
              "      --bg-color: #3B4455;\n",
              "      --fill-color: #D2E3FC;\n",
              "      --hover-bg-color: #434B5C;\n",
              "      --hover-fill-color: #FFFFFF;\n",
              "      --disabled-bg-color: #3B4455;\n",
              "      --disabled-fill-color: #666;\n",
              "  }\n",
              "\n",
              "  .colab-df-quickchart {\n",
              "    background-color: var(--bg-color);\n",
              "    border: none;\n",
              "    border-radius: 50%;\n",
              "    cursor: pointer;\n",
              "    display: none;\n",
              "    fill: var(--fill-color);\n",
              "    height: 32px;\n",
              "    padding: 0;\n",
              "    width: 32px;\n",
              "  }\n",
              "\n",
              "  .colab-df-quickchart:hover {\n",
              "    background-color: var(--hover-bg-color);\n",
              "    box-shadow: 0 1px 2px rgba(60, 64, 67, 0.3), 0 1px 3px 1px rgba(60, 64, 67, 0.15);\n",
              "    fill: var(--button-hover-fill-color);\n",
              "  }\n",
              "\n",
              "  .colab-df-quickchart-complete:disabled,\n",
              "  .colab-df-quickchart-complete:disabled:hover {\n",
              "    background-color: var(--disabled-bg-color);\n",
              "    fill: var(--disabled-fill-color);\n",
              "    box-shadow: none;\n",
              "  }\n",
              "\n",
              "  .colab-df-spinner {\n",
              "    border: 2px solid var(--fill-color);\n",
              "    border-color: transparent;\n",
              "    border-bottom-color: var(--fill-color);\n",
              "    animation:\n",
              "      spin 1s steps(1) infinite;\n",
              "  }\n",
              "\n",
              "  @keyframes spin {\n",
              "    0% {\n",
              "      border-color: transparent;\n",
              "      border-bottom-color: var(--fill-color);\n",
              "      border-left-color: var(--fill-color);\n",
              "    }\n",
              "    20% {\n",
              "      border-color: transparent;\n",
              "      border-left-color: var(--fill-color);\n",
              "      border-top-color: var(--fill-color);\n",
              "    }\n",
              "    30% {\n",
              "      border-color: transparent;\n",
              "      border-left-color: var(--fill-color);\n",
              "      border-top-color: var(--fill-color);\n",
              "      border-right-color: var(--fill-color);\n",
              "    }\n",
              "    40% {\n",
              "      border-color: transparent;\n",
              "      border-right-color: var(--fill-color);\n",
              "      border-top-color: var(--fill-color);\n",
              "    }\n",
              "    60% {\n",
              "      border-color: transparent;\n",
              "      border-right-color: var(--fill-color);\n",
              "    }\n",
              "    80% {\n",
              "      border-color: transparent;\n",
              "      border-right-color: var(--fill-color);\n",
              "      border-bottom-color: var(--fill-color);\n",
              "    }\n",
              "    90% {\n",
              "      border-color: transparent;\n",
              "      border-bottom-color: var(--fill-color);\n",
              "    }\n",
              "  }\n",
              "</style>\n",
              "\n",
              "  <script>\n",
              "    async function quickchart(key) {\n",
              "      const quickchartButtonEl =\n",
              "        document.querySelector('#' + key + ' button');\n",
              "      quickchartButtonEl.disabled = true;  // To prevent multiple clicks.\n",
              "      quickchartButtonEl.classList.add('colab-df-spinner');\n",
              "      try {\n",
              "        const charts = await google.colab.kernel.invokeFunction(\n",
              "            'suggestCharts', [key], {});\n",
              "      } catch (error) {\n",
              "        console.error('Error during call to suggestCharts:', error);\n",
              "      }\n",
              "      quickchartButtonEl.classList.remove('colab-df-spinner');\n",
              "      quickchartButtonEl.classList.add('colab-df-quickchart-complete');\n",
              "    }\n",
              "    (() => {\n",
              "      let quickchartButtonEl =\n",
              "        document.querySelector('#df-0032f457-bce5-4eed-80b4-7c5425411ec7 button');\n",
              "      quickchartButtonEl.style.display =\n",
              "        google.colab.kernel.accessAllowed ? 'block' : 'none';\n",
              "    })();\n",
              "  </script>\n",
              "</div>\n",
              "    </div>\n",
              "  </div>\n"
            ]
          },
          "metadata": {},
          "execution_count": 39
        }
      ],
      "source": [
        "cars_data = pd.read_csv(f)\n",
        "cars_data.head()"
      ]
    },
    {
      "cell_type": "markdown",
      "metadata": {
        "id": "TSs1V-H6Mqpl"
      },
      "source": [
        "##### Overview of Dataset"
      ]
    },
    {
      "cell_type": "markdown",
      "metadata": {
        "id": "0-FOadOi4aU1"
      },
      "source": [
        "Let's check the null values in each column of the dataset"
      ]
    },
    {
      "cell_type": "code",
      "execution_count": null,
      "metadata": {
        "colab": {
          "base_uri": "https://localhost:8080/"
        },
        "id": "nX1zbyI75RMi",
        "outputId": "2b1bcf9a-d73a-4fa7-e72f-c7edfd321bea"
      },
      "outputs": [
        {
          "output_type": "execute_result",
          "data": {
            "text/plain": [
              "loan_status                       0\n",
              "Principal                         0\n",
              "age                               0\n",
              "education_Bechalor                0\n",
              "education_High School or Below    0\n",
              "education_Master or Above         0\n",
              "education_college                 0\n",
              "Gender_female                     0\n",
              "Gender_male                       0\n",
              "terms_7                           0\n",
              "terms_15                          0\n",
              "terms_30                          0\n",
              "dtype: int64"
            ]
          },
          "metadata": {},
          "execution_count": 40
        }
      ],
      "source": [
        "cars_data.isna().sum()"
      ]
    },
    {
      "cell_type": "markdown",
      "metadata": {
        "id": "EqHbbtu2ii7k"
      },
      "source": [
        "* As you can see, there are no null values in any of the column"
      ]
    },
    {
      "cell_type": "markdown",
      "metadata": {
        "id": "OKflWRQOkUyJ"
      },
      "source": [
        "Exploring the column names"
      ]
    },
    {
      "cell_type": "code",
      "execution_count": null,
      "metadata": {
        "colab": {
          "base_uri": "https://localhost:8080/"
        },
        "id": "y4YBIUaZ5zG4",
        "outputId": "b058a6de-25d9-4fcf-a12d-41f271bcbe33"
      },
      "outputs": [
        {
          "output_type": "execute_result",
          "data": {
            "text/plain": [
              "Index(['loan_status', 'Principal', 'age', 'education_Bechalor',\n",
              "       'education_High School or Below', 'education_Master or Above',\n",
              "       'education_college', 'Gender_female', 'Gender_male', 'terms_7',\n",
              "       'terms_15', 'terms_30'],\n",
              "      dtype='object')"
            ]
          },
          "metadata": {},
          "execution_count": 41
        }
      ],
      "source": [
        "cars_data.columns"
      ]
    },
    {
      "cell_type": "markdown",
      "metadata": {
        "id": "2LzGCuYnieMm"
      },
      "source": [
        "### Univariate Analysis"
      ]
    },
    {
      "cell_type": "markdown",
      "metadata": {
        "id": "Yn6vpOVVFpeP"
      },
      "source": [
        "It’s always good to get some insight about the target variable. The target or dependent variable is price in our case.\n"
      ]
    },
    {
      "cell_type": "code",
      "execution_count": null,
      "metadata": {
        "colab": {
          "base_uri": "https://localhost:8080/"
        },
        "id": "_ggwGlB_E_mD",
        "outputId": "c369c707-ab7e-4d95-ead5-2c04a550c4f3"
      },
      "outputs": [
        {
          "output_type": "stream",
          "name": "stdout",
          "text": [
            "0.6\n",
            "0.0\n"
          ]
        }
      ],
      "source": [
        "df=cars_data\n",
        "print(df.loan_status.mean())\n",
        "print(df.loan_status.median())"
      ]
    },
    {
      "cell_type": "markdown",
      "metadata": {
        "id": "jP0_SbMEFx68"
      },
      "source": [
        "Mean is slightly  lesser than median which indicates there are few outliers or extreme values. Let’s also check maximum and minimum values:"
      ]
    },
    {
      "cell_type": "code",
      "execution_count": null,
      "metadata": {
        "colab": {
          "base_uri": "https://localhost:8080/"
        },
        "id": "zMfZWVhYFCzL",
        "outputId": "46b7798d-d002-426d-b828-56d45f85a19e"
      },
      "outputs": [
        {
          "output_type": "stream",
          "name": "stdout",
          "text": [
            "2\n",
            "0\n"
          ]
        }
      ],
      "source": [
        "print(df.loan_status.max())\n",
        "print(df.loan_status.min())"
      ]
    },
    {
      "cell_type": "code",
      "execution_count": null,
      "metadata": {
        "id": "-HV0zdqSo0xO"
      },
      "outputs": [],
      "source": [
        "# function to plot a boxplot and a histogram along the same scale.\n",
        "\n",
        "\n",
        "def histogram_boxplot(data, feature, figsize=(12, 7), kde=False, bins=None):\n",
        "    \"\"\"\n",
        "    Boxplot and histogram combined\n",
        "\n",
        "    data: dataframe\n",
        "    feature: dataframe column\n",
        "    figsize: size of figure (default (12,7))\n",
        "    kde: whether to show the density curve (default False)\n",
        "    bins: number of bins for histogram (default None)\n",
        "    \"\"\"\n",
        "    f2, (ax_box2, ax_hist2) = plt.subplots(\n",
        "        nrows=2,  # Number of rows of the subplot grid= 2\n",
        "        sharex=True,  # x-axis will be shared among all subplots\n",
        "        gridspec_kw={\"height_ratios\": (0.25, 0.75)},\n",
        "        figsize=figsize,\n",
        "    )  # creating the 2 subplots\n",
        "    sns.boxplot(\n",
        "        data=data, x=feature, ax=ax_box2, showmeans=True, color=\"violet\"\n",
        "    )  # boxplot will be created and a star will indicate the mean value of the column\n",
        "    sns.histplot(\n",
        "        data=data, x=feature, kde=kde, ax=ax_hist2, bins=bins, palette=\"winter\"\n",
        "    ) if bins else sns.histplot(\n",
        "        data=data, x=feature, kde=kde, ax=ax_hist2\n",
        "    )  # For histogram\n",
        "    ax_hist2.axvline(\n",
        "        data[feature].mean(), color=\"green\", linestyle=\"--\"\n",
        "    )  # Add mean to the histogram\n",
        "    ax_hist2.axvline(\n",
        "        data[feature].median(), color=\"black\", linestyle=\"-\"\n",
        "    )  # Add median to the histogram"
      ]
    },
    {
      "cell_type": "code",
      "execution_count": null,
      "metadata": {
        "id": "bFWNtRk4o8Ud"
      },
      "outputs": [],
      "source": [
        "#histogram_boxplot(df, \"loan_status\")"
      ]
    },
    {
      "cell_type": "markdown",
      "metadata": {
        "id": "DpPhF8aZGeL8"
      },
      "source": [
        "It can be seen from the graph that the data is looking approx symmetric and the peak is around 10000-15000. Another way of checking the distribution and outliers is boxplot:"
      ]
    },
    {
      "cell_type": "code",
      "source": [
        "sns.countplot(x=df.loan_status)"
      ],
      "metadata": {
        "colab": {
          "base_uri": "https://localhost:8080/",
          "height": 467
        },
        "id": "q6DyoUHSrZrL",
        "outputId": "bccb90cb-7759-4e21-ff30-436423320a65"
      },
      "execution_count": null,
      "outputs": [
        {
          "output_type": "execute_result",
          "data": {
            "text/plain": [
              "<Axes: xlabel='loan_status', ylabel='count'>"
            ]
          },
          "metadata": {},
          "execution_count": 46
        },
        {
          "output_type": "display_data",
          "data": {
            "text/plain": [
              "<Figure size 640x480 with 1 Axes>"
            ],
            "image/png": "[encoded data removed]"
          },
          "metadata": {}
        }
      ]
    },
    {
      "cell_type": "code",
      "source": [
        "df[df.loan_status==1]"
      ],
      "metadata": {
        "colab": {
          "base_uri": "https://localhost:8080/",
          "height": 424
        },
        "id": "KbyVKYhWr0cX",
        "outputId": "03f1d36d-8ae7-4b8a-9536-7c6c768e2a22"
      },
      "execution_count": null,
      "outputs": [
        {
          "output_type": "execute_result",
          "data": {
            "text/plain": [
              "     loan_status  Principal  age  education_Bechalor  \\\n",
              "400            1       1000   26                   0   \n",
              "401            1       1000   28                   0   \n",
              "402            1       1000   39                   0   \n",
              "403            1       1000   29                   1   \n",
              "404            1        800   33                   0   \n",
              "..           ...        ...  ...                 ...   \n",
              "495            1       1000   28                   0   \n",
              "496            1       1000   26                   0   \n",
              "497            1        800   30                   0   \n",
              "498            1       1000   38                   0   \n",
              "499            1       1000   28                   0   \n",
              "\n",
              "     education_High School or Below  education_Master or Above  \\\n",
              "400                               0                          0   \n",
              "401                               0                          0   \n",
              "402                               0                          0   \n",
              "403                               0                          0   \n",
              "404                               1                          0   \n",
              "..                              ...                        ...   \n",
              "495                               1                          0   \n",
              "496                               1                          0   \n",
              "497                               0                          0   \n",
              "498                               0                          0   \n",
              "499                               1                          0   \n",
              "\n",
              "     education_college  Gender_female  Gender_male  terms_7  terms_15  \\\n",
              "400                  1              0            1        0         0   \n",
              "401                  1              0            1        0         1   \n",
              "402                  1              0            1        0         0   \n",
              "403                  0              0            1        0         1   \n",
              "404                  0              0            1        0         1   \n",
              "..                 ...            ...          ...      ...       ...   \n",
              "495                  0              0            1        0         0   \n",
              "496                  0              0            1        0         1   \n",
              "497                  1              0            1        0         1   \n",
              "498                  1              1            0        0         0   \n",
              "499                  0              0            1        0         0   \n",
              "\n",
              "     terms_30  \n",
              "400         1  \n",
              "401         0  \n",
              "402         1  \n",
              "403         0  \n",
              "404         0  \n",
              "..        ...  \n",
              "495         1  \n",
              "496         0  \n",
              "497         0  \n",
              "498         1  \n",
              "499         1  \n",
              "\n",
              "[100 rows x 12 columns]"
            ],
            "text/html": [
              "\n",
              "  <div id=\"df-6d9d5c7a-9f8d-4968-abb0-419dba816d7d\" class=\"colab-df-container\">\n",
              "    <div>\n",
              "<style scoped>\n",
              "    .dataframe tbody tr th:only-of-type {\n",
              "        vertical-align: middle;\n",
              "    }\n",
              "\n",
              "    .dataframe tbody tr th {\n",
              "        vertical-align: top;\n",
              "    }\n",
              "\n",
              "    .dataframe thead th {\n",
              "        text-align: right;\n",
              "    }\n",
              "</style>\n",
              "<table border=\"1\" class=\"dataframe\">\n",
              "  <thead>\n",
              "    <tr style=\"text-align: right;\">\n",
              "      <th></th>\n",
              "      <th>loan_status</th>\n",
              "      <th>Principal</th>\n",
              "      <th>age</th>\n",
              "      <th>education_Bechalor</th>\n",
              "      <th>education_High School or Below</th>\n",
              "      <th>education_Master or Above</th>\n",
              "      <th>education_college</th>\n",
              "      <th>Gender_female</th>\n",
              "      <th>Gender_male</th>\n",
              "      <th>terms_7</th>\n",
              "      <th>terms_15</th>\n",
              "      <th>terms_30</th>\n",
              "    </tr>\n",
              "  </thead>\n",
              "  <tbody>\n",
              "    <tr>\n",
              "      <th>400</th>\n",
              "      <td>1</td>\n",
              "      <td>1000</td>\n",
              "      <td>26</td>\n",
              "      <td>0</td>\n",
              "      <td>0</td>\n",
              "      <td>0</td>\n",
              "      <td>1</td>\n",
              "      <td>0</td>\n",
              "      <td>1</td>\n",
              "      <td>0</td>\n",
              "      <td>0</td>\n",
              "      <td>1</td>\n",
              "    </tr>\n",
              "    <tr>\n",
              "      <th>401</th>\n",
              "      <td>1</td>\n",
              "      <td>1000</td>\n",
              "      <td>28</td>\n",
              "      <td>0</td>\n",
              "      <td>0</td>\n",
              "      <td>0</td>\n",
              "      <td>1</td>\n",
              "      <td>0</td>\n",
              "      <td>1</td>\n",
              "      <td>0</td>\n",
              "      <td>1</td>\n",
              "      <td>0</td>\n",
              "    </tr>\n",
              "    <tr>\n",
              "      <th>402</th>\n",
              "      <td>1</td>\n",
              "      <td>1000</td>\n",
              "      <td>39</td>\n",
              "      <td>0</td>\n",
              "      <td>0</td>\n",
              "      <td>0</td>\n",
              "      <td>1</td>\n",
              "      <td>0</td>\n",
              "      <td>1</td>\n",
              "      <td>0</td>\n",
              "      <td>0</td>\n",
              "      <td>1</td>\n",
              "    </tr>\n",
              "    <tr>\n",
              "      <th>403</th>\n",
              "      <td>1</td>\n",
              "      <td>1000</td>\n",
              "      <td>29</td>\n",
              "      <td>1</td>\n",
              "      <td>0</td>\n",
              "      <td>0</td>\n",
              "      <td>0</td>\n",
              "      <td>0</td>\n",
              "      <td>1</td>\n",
              "      <td>0</td>\n",
              "      <td>1</td>\n",
              "      <td>0</td>\n",
              "    </tr>\n",
              "    <tr>\n",
              "      <th>404</th>\n",
              "      <td>1</td>\n",
              "      <td>800</td>\n",
              "      <td>33</td>\n",
              "      <td>0</td>\n",
              "      <td>1</td>\n",
              "      <td>0</td>\n",
              "      <td>0</td>\n",
              "      <td>0</td>\n",
              "      <td>1</td>\n",
              "      <td>0</td>\n",
              "      <td>1</td>\n",
              "      <td>0</td>\n",
              "    </tr>\n",
              "    <tr>\n",
              "      <th>...</th>\n",
              "      <td>...</td>\n",
              "      <td>...</td>\n",
              "      <td>...</td>\n",
              "      <td>...</td>\n",
              "      <td>...</td>\n",
              "      <td>...</td>\n",
              "      <td>...</td>\n",
              "      <td>...</td>\n",
              "      <td>...</td>\n",
              "      <td>...</td>\n",
              "      <td>...</td>\n",
              "      <td>...</td>\n",
              "    </tr>\n",
              "    <tr>\n",
              "      <th>495</th>\n",
              "      <td>1</td>\n",
              "      <td>1000</td>\n",
              "      <td>28</td>\n",
              "      <td>0</td>\n",
              "      <td>1</td>\n",
              "      <td>0</td>\n",
              "      <td>0</td>\n",
              "      <td>0</td>\n",
              "      <td>1</td>\n",
              "      <td>0</td>\n",
              "      <td>0</td>\n",
              "      <td>1</td>\n",
              "    </tr>\n",
              "    <tr>\n",
              "      <th>496</th>\n",
              "      <td>1</td>\n",
              "      <td>1000</td>\n",
              "      <td>26</td>\n",
              "      <td>0</td>\n",
              "      <td>1</td>\n",
              "      <td>0</td>\n",
              "      <td>0</td>\n",
              "      <td>0</td>\n",
              "      <td>1</td>\n",
              "      <td>0</td>\n",
              "      <td>1</td>\n",
              "      <td>0</td>\n",
              "    </tr>\n",
              "    <tr>\n",
              "      <th>497</th>\n",
              "      <td>1</td>\n",
              "      <td>800</td>\n",
              "      <td>30</td>\n",
              "      <td>0</td>\n",
              "      <td>0</td>\n",
              "      <td>0</td>\n",
              "      <td>1</td>\n",
              "      <td>0</td>\n",
              "      <td>1</td>\n",
              "      <td>0</td>\n",
              "      <td>1</td>\n",
              "      <td>0</td>\n",
              "    </tr>\n",
              "    <tr>\n",
              "      <th>498</th>\n",
              "      <td>1</td>\n",
              "      <td>1000</td>\n",
              "      <td>38</td>\n",
              "      <td>0</td>\n",
              "      <td>0</td>\n",
              "      <td>0</td>\n",
              "      <td>1</td>\n",
              "      <td>1</td>\n",
              "      <td>0</td>\n",
              "      <td>0</td>\n",
              "      <td>0</td>\n",
              "      <td>1</td>\n",
              "    </tr>\n",
              "    <tr>\n",
              "      <th>499</th>\n",
              "      <td>1</td>\n",
              "      <td>1000</td>\n",
              "      <td>28</td>\n",
              "      <td>0</td>\n",
              "      <td>1</td>\n",
              "      <td>0</td>\n",
              "      <td>0</td>\n",
              "      <td>0</td>\n",
              "      <td>1</td>\n",
              "      <td>0</td>\n",
              "      <td>0</td>\n",
              "      <td>1</td>\n",
              "    </tr>\n",
              "  </tbody>\n",
              "</table>\n",
              "<p>100 rows × 12 columns</p>\n",
              "</div>\n",
              "    <div class=\"colab-df-buttons\">\n",
              "\n",
              "  <div class=\"colab-df-container\">\n",
              "    <button class=\"colab-df-convert\" onclick=\"convertToInteractive('df-6d9d5c7a-9f8d-4968-abb0-419dba816d7d')\"\n",
              "            title=\"Convert this dataframe to an interactive table.\"\n",
              "            style=\"display:none;\">\n",
              "\n",
              "  <svg xmlns=\"http://www.w3.org/2000/svg\" height=\"24px\" viewBox=\"0 -960 960 960\">\n",
              "    <path d=\"M120-120v-720h720v720H120Zm60-500h600v-160H180v160Zm220 220h160v-160H400v160Zm0 220h160v-160H400v160ZM180-400h160v-160H180v160Zm440 0h160v-160H620v160ZM180-180h160v-160H180v160Zm440 0h160v-160H620v160Z\"/>\n",
              "  </svg>\n",
              "    </button>\n",
              "\n",
              "  <style>\n",
              "    .colab-df-container {\n",
              "      display:flex;\n",
              "      gap: 12px;\n",
              "    }\n",
              "\n",
              "    .colab-df-convert {\n",
              "      background-color: #E8F0FE;\n",
              "      border: none;\n",
              "      border-radius: 50%;\n",
              "      cursor: pointer;\n",
              "      display: none;\n",
              "      fill: #1967D2;\n",
              "      height: 32px;\n",
              "      padding: 0 0 0 0;\n",
              "      width: 32px;\n",
              "    }\n",
              "\n",
              "    .colab-df-convert:hover {\n",
              "      background-color: #E2EBFA;\n",
              "      box-shadow: 0px 1px 2px rgba(60, 64, 67, 0.3), 0px 1px 3px 1px rgba(60, 64, 67, 0.15);\n",
              "      fill: #174EA6;\n",
              "    }\n",
              "\n",
              "    .colab-df-buttons div {\n",
              "      margin-bottom: 4px;\n",
              "    }\n",
              "\n",
              "    [theme=dark] .colab-df-convert {\n",
              "      background-color: #3B4455;\n",
              "      fill: #D2E3FC;\n",
              "    }\n",
              "\n",
              "    [theme=dark] .colab-df-convert:hover {\n",
              "      background-color: #434B5C;\n",
              "      box-shadow: 0px 1px 3px 1px rgba(0, 0, 0, 0.15);\n",
              "      filter: drop-shadow(0px 1px 2px rgba(0, 0, 0, 0.3));\n",
              "      fill: #FFFFFF;\n",
              "    }\n",
              "  </style>\n",
              "\n",
              "    <script>\n",
              "      const buttonEl =\n",
              "        document.querySelector('#df-6d9d5c7a-9f8d-4968-abb0-419dba816d7d button.colab-df-convert');\n",
              "      buttonEl.style.display =\n",
              "        google.colab.kernel.accessAllowed ? 'block' : 'none';\n",
              "\n",
              "      async function convertToInteractive(key) {\n",
              "        const element = document.querySelector('#df-6d9d5c7a-9f8d-4968-abb0-419dba816d7d');\n",
              "        const dataTable =\n",
              "          await google.colab.kernel.invokeFunction('convertToInteractive',\n",
              "                                                    [key], {});\n",
              "        if (!dataTable) return;\n",
              "\n",
              "        const docLinkHtml = 'Like what you see? Visit the ' +\n",
              "          '<a target=\"_blank\" href=https://colab.research.google.com/notebooks/data_table.ipynb>data table notebook</a>'\n",
              "          + ' to learn more about interactive tables.';\n",
              "        element.innerHTML = '';\n",
              "        dataTable['output_type'] = 'display_data';\n",
              "        await google.colab.output.renderOutput(dataTable, element);\n",
              "        const docLink = document.createElement('div');\n",
              "        docLink.innerHTML = docLinkHtml;\n",
              "        element.appendChild(docLink);\n",
              "      }\n",
              "    </script>\n",
              "  </div>\n",
              "\n",
              "\n",
              "<div id=\"df-0d4d5742-81ab-45d4-a4a0-83fe7ca5845d\">\n",
              "  <button class=\"colab-df-quickchart\" onclick=\"quickchart('df-0d4d5742-81ab-45d4-a4a0-83fe7ca5845d')\"\n",
              "            title=\"Suggest charts.\"\n",
              "            style=\"display:none;\">\n",
              "\n",
              "<svg xmlns=\"http://www.w3.org/2000/svg\" height=\"24px\"viewBox=\"0 0 24 24\"\n",
              "     width=\"24px\">\n",
              "    <g>\n",
              "        <path d=\"M19 3H5c-1.1 0-2 .9-2 2v14c0 1.1.9 2 2 2h14c1.1 0 2-.9 2-2V5c0-1.1-.9-2-2-2zM9 17H7v-7h2v7zm4 0h-2V7h2v10zm4 0h-2v-4h2v4z\"/>\n",
              "    </g>\n",
              "</svg>\n",
              "  </button>\n",
              "\n",
              "<style>\n",
              "  .colab-df-quickchart {\n",
              "      --bg-color: #E8F0FE;\n",
              "      --fill-color: #1967D2;\n",
              "      --hover-bg-color: #E2EBFA;\n",
              "      --hover-fill-color: #174EA6;\n",
              "      --disabled-fill-color: #AAA;\n",
              "      --disabled-bg-color: #DDD;\n",
              "  }\n",
              "\n",
              "  [theme=dark] .colab-df-quickchart {\n",
              "      --bg-color: #3B4455;\n",
              "      --fill-color: #D2E3FC;\n",
              "      --hover-bg-color: #434B5C;\n",
              "      --hover-fill-color: #FFFFFF;\n",
              "      --disabled-bg-color: #3B4455;\n",
              "      --disabled-fill-color: #666;\n",
              "  }\n",
              "\n",
              "  .colab-df-quickchart {\n",
              "    background-color: var(--bg-color);\n",
              "    border: none;\n",
              "    border-radius: 50%;\n",
              "    cursor: pointer;\n",
              "    display: none;\n",
              "    fill: var(--fill-color);\n",
              "    height: 32px;\n",
              "    padding: 0;\n",
              "    width: 32px;\n",
              "  }\n",
              "\n",
              "  .colab-df-quickchart:hover {\n",
              "    background-color: var(--hover-bg-color);\n",
              "    box-shadow: 0 1px 2px rgba(60, 64, 67, 0.3), 0 1px 3px 1px rgba(60, 64, 67, 0.15);\n",
              "    fill: var(--button-hover-fill-color);\n",
              "  }\n",
              "\n",
              "  .colab-df-quickchart-complete:disabled,\n",
              "  .colab-df-quickchart-complete:disabled:hover {\n",
              "    background-color: var(--disabled-bg-color);\n",
              "    fill: var(--disabled-fill-color);\n",
              "    box-shadow: none;\n",
              "  }\n",
              "\n",
              "  .colab-df-spinner {\n",
              "    border: 2px solid var(--fill-color);\n",
              "    border-color: transparent;\n",
              "    border-bottom-color: var(--fill-color);\n",
              "    animation:\n",
              "      spin 1s steps(1) infinite;\n",
              "  }\n",
              "\n",
              "  @keyframes spin {\n",
              "    0% {\n",
              "      border-color: transparent;\n",
              "      border-bottom-color: var(--fill-color);\n",
              "      border-left-color: var(--fill-color);\n",
              "    }\n",
              "    20% {\n",
              "      border-color: transparent;\n",
              "      border-left-color: var(--fill-color);\n",
              "      border-top-color: var(--fill-color);\n",
              "    }\n",
              "    30% {\n",
              "      border-color: transparent;\n",
              "      border-left-color: var(--fill-color);\n",
              "      border-top-color: var(--fill-color);\n",
              "      border-right-color: var(--fill-color);\n",
              "    }\n",
              "    40% {\n",
              "      border-color: transparent;\n",
              "      border-right-color: var(--fill-color);\n",
              "      border-top-color: var(--fill-color);\n",
              "    }\n",
              "    60% {\n",
              "      border-color: transparent;\n",
              "      border-right-color: var(--fill-color);\n",
              "    }\n",
              "    80% {\n",
              "      border-color: transparent;\n",
              "      border-right-color: var(--fill-color);\n",
              "      border-bottom-color: var(--fill-color);\n",
              "    }\n",
              "    90% {\n",
              "      border-color: transparent;\n",
              "      border-bottom-color: var(--fill-color);\n",
              "    }\n",
              "  }\n",
              "</style>\n",
              "\n",
              "  <script>\n",
              "    async function quickchart(key) {\n",
              "      const quickchartButtonEl =\n",
              "        document.querySelector('#' + key + ' button');\n",
              "      quickchartButtonEl.disabled = true;  // To prevent multiple clicks.\n",
              "      quickchartButtonEl.classList.add('colab-df-spinner');\n",
              "      try {\n",
              "        const charts = await google.colab.kernel.invokeFunction(\n",
              "            'suggestCharts', [key], {});\n",
              "      } catch (error) {\n",
              "        console.error('Error during call to suggestCharts:', error);\n",
              "      }\n",
              "      quickchartButtonEl.classList.remove('colab-df-spinner');\n",
              "      quickchartButtonEl.classList.add('colab-df-quickchart-complete');\n",
              "    }\n",
              "    (() => {\n",
              "      let quickchartButtonEl =\n",
              "        document.querySelector('#df-0d4d5742-81ab-45d4-a4a0-83fe7ca5845d button');\n",
              "      quickchartButtonEl.style.display =\n",
              "        google.colab.kernel.accessAllowed ? 'block' : 'none';\n",
              "    })();\n",
              "  </script>\n",
              "</div>\n",
              "    </div>\n",
              "  </div>\n"
            ]
          },
          "metadata": {},
          "execution_count": 47
        }
      ]
    },
    {
      "cell_type": "markdown",
      "metadata": {
        "id": "6FEJ78DGLoVP"
      },
      "source": [
        "#### Removing Outliers\n",
        "\n",
        "Dependent variable \"price\" contains  4 data points which are outliers. The loss function which will be used for regression is MSE and it tries to model the mean of the dependent variable. Having outliers in the response variable might give biased model. Let's remove these data points .\n",
        "\n",
        "\n",
        "\n"
      ]
    },
    {
      "cell_type": "code",
      "execution_count": null,
      "metadata": {
        "id": "yI8NP_tGKC-k"
      },
      "outputs": [],
      "source": [
        "#Removing the outlier datapoints because these point might disrupt the modelling\n",
        "#df.drop(df[df.price>20000].index,inplace=True,axis=0)"
      ]
    },
    {
      "cell_type": "markdown",
      "metadata": {
        "id": "7u__iOsOijWW"
      },
      "source": [
        "### Bivariate analysis"
      ]
    },
    {
      "cell_type": "code",
      "source": [
        "import seaborn as sns\n",
        "import matplotlib.pyplot as plt\n",
        "\n",
        "# Example data (in a DataFrame)\n",
        "import pandas as pd\n",
        "data = pd.DataFrame({'Feature1': [1, 2, 3, 4, 5],\n",
        "                     'Feature2': [3, 4, 1, 2, 5],\n",
        "                     'Feature3': [2, 5, 3, 4, 1],\n",
        "                     'Category': ['A', 'B', 'A', 'B', 'A']})\n",
        "\n",
        "# Create a pairplot with hue\n",
        "sns.pairplot(data, hue='Category')\n",
        "\n"
      ],
      "metadata": {
        "colab": {
          "base_uri": "https://localhost:8080/",
          "height": 775
        },
        "id": "8mx6Cs1w1hL0",
        "outputId": "02a5313b-11ab-4f5e-83b8-2e908051be93"
      },
      "execution_count": null,
      "outputs": [
        {
          "output_type": "execute_result",
          "data": {
            "text/plain": [
              "<seaborn.axisgrid.PairGrid at 0x7ecef0197d90>"
            ]
          },
          "metadata": {},
          "execution_count": 49
        },
        {
          "output_type": "display_data",
          "data": {
            "text/plain": [
              "<Figure size 824.861x750 with 12 Axes>"
            ],
            "image/png": "[encoded data removed]"
          },
          "metadata": {}
        }
      ]
    },
    {
      "cell_type": "markdown",
      "metadata": {
        "id": "eGEUMkqqX6DZ"
      },
      "source": [
        "Manual and Automatic Cars"
      ]
    },
    {
      "cell_type": "code",
      "execution_count": null,
      "metadata": {
        "id": "ILfsLrekURMt"
      },
      "outputs": [],
      "source": [
        "# sns.pairplot(df,hue = 'loan_status',diag_kind = \"kde\",kind = \"scatter\",palette = \"dark\",height=3.5)\n",
        "# plt.legend(title='loan_status')\n",
        "# plt.show()"
      ]
    },
    {
      "cell_type": "markdown",
      "metadata": {
        "id": "OlKxUNMtWEem"
      },
      "source": [
        "We can see that automatic cars have higher price range than manual type cars though the distribution of automatic cars were skewed to the right. We can also see the increament in price of automatic cars between 2010 and 2015."
      ]
    },
    {
      "cell_type": "markdown",
      "metadata": {
        "id": "Ee3q4POBFDFo"
      },
      "source": [
        "Let’s try to have a quick look at the joint distribution of a few pairs of columns from the training set."
      ]
    },
    {
      "cell_type": "code",
      "execution_count": null,
      "metadata": {
        "id": "LaOcz09Dk2Ql"
      },
      "outputs": [],
      "source": [
        "#sns.pairplot(df[['year', 'price', 'mileage']], diag_kind=\"kde\")"
      ]
    },
    {
      "cell_type": "markdown",
      "metadata": {
        "id": "3HECmt2Wpmx0"
      },
      "source": [
        "* year and price have some amount of linear relationship which means cars which are manufactured recently are costly\n",
        "\n",
        "* price and mileage are having linear relationship with negative slope which means costly cars have less mileage."
      ]
    },
    {
      "cell_type": "markdown",
      "metadata": {
        "id": "3ltIeMQD6zK5"
      },
      "source": [
        "Lets visualize  the correlation between the features"
      ]
    },
    {
      "cell_type": "code",
      "execution_count": null,
      "metadata": {
        "colab": {
          "base_uri": "https://localhost:8080/",
          "height": 1000
        },
        "id": "YiolckalnNt_",
        "outputId": "f908604f-660d-4182-c3fe-f6998b535f2b"
      },
      "outputs": [
        {
          "output_type": "execute_result",
          "data": {
            "text/plain": [
              "<Axes: >"
            ]
          },
          "metadata": {},
          "execution_count": 52
        },
        {
          "output_type": "display_data",
          "data": {
            "text/plain": [
              "<Figure size 1500x1500 with 2 Axes>"
            ],
            "image/png": "[encoded data removed]"
          },
          "metadata": {}
        }
      ],
      "source": [
        "fig, ax = plt.subplots(figsize=(15,15))\n",
        "sns.heatmap(df.corr(),cmap=\"Spectral\",ax=ax,annot=True)"
      ]
    },
    {
      "cell_type": "markdown",
      "metadata": {
        "id": "Up-Jb9QmoV2V"
      },
      "source": [
        "* year and price are having high positive correlation.\n",
        "\n",
        "* mileage and price are having high negative corrlation.\n",
        "\n",
        "* year and mileage are having high negative correlation.\n"
      ]
    },
    {
      "cell_type": "code",
      "source": [
        "sns.scatterplot(x=df.loan_status,y=df.Principal,)"
      ],
      "metadata": {
        "colab": {
          "base_uri": "https://localhost:8080/",
          "height": 467
        },
        "id": "cMTDJFihJ7EP",
        "outputId": "2625dc3d-4c3c-4c95-ffb7-de2ca3a4b072"
      },
      "execution_count": null,
      "outputs": [
        {
          "output_type": "execute_result",
          "data": {
            "text/plain": [
              "<Axes: xlabel='loan_status', ylabel='Principal'>"
            ]
          },
          "metadata": {},
          "execution_count": 53
        },
        {
          "output_type": "display_data",
          "data": {
            "text/plain": [
              "<Figure size 640x480 with 1 Axes>"
            ],
            "image/png": "[encoded data removed]"
          },
          "metadata": {}
        }
      ]
    },
    {
      "cell_type": "code",
      "source": [
        "sns.boxplot(data=df,x='loan_status',y='Principal')"
      ],
      "metadata": {
        "colab": {
          "base_uri": "https://localhost:8080/",
          "height": 467
        },
        "id": "p-LgolGwKrNE",
        "outputId": "5c70ba57-fefa-4433-ffa6-ed11408575e3"
      },
      "execution_count": null,
      "outputs": [
        {
          "output_type": "execute_result",
          "data": {
            "text/plain": [
              "<Axes: xlabel='loan_status', ylabel='Principal'>"
            ]
          },
          "metadata": {},
          "execution_count": 54
        },
        {
          "output_type": "display_data",
          "data": {
            "text/plain": [
              "<Figure size 640x480 with 1 Axes>"
            ],
            "image/png": "[encoded data removed]"
          },
          "metadata": {}
        }
      ]
    },
    {
      "cell_type": "markdown",
      "metadata": {
        "id": "ISvXubVWmeee"
      },
      "source": [
        "### Separate the features from labels\n",
        "\n"
      ]
    },
    {
      "cell_type": "code",
      "execution_count": null,
      "metadata": {
        "id": "8Glng4BjmvBr"
      },
      "outputs": [],
      "source": [
        "#getting the features and labels and finally splitting the test and train data.\n",
        "X = df.drop('loan_status',axis=1)\n",
        "Y = df['loan_status']"
      ]
    },
    {
      "cell_type": "markdown",
      "metadata": {
        "id": "uA0vS4tHm4tg"
      },
      "source": [
        "#### Splitting the dataset"
      ]
    },
    {
      "cell_type": "code",
      "execution_count": null,
      "metadata": {
        "id": "xhihQaPY6LfN"
      },
      "outputs": [],
      "source": [
        "#Splitting the training and test set\n",
        "X_train, X_test, y_train, y_test = train_test_split(X, Y, test_size=0.20, random_state=1,shuffle=True)"
      ]
    },
    {
      "cell_type": "markdown",
      "metadata": {
        "id": "ajRLt_tznNuA"
      },
      "source": [
        "Notice that the last three columns (color, Transmission, Model) are not numerical values, but categorical entries?\n",
        "\n",
        "To utilise the columns, we’ll need to find a way to make them numerical, and a perfect technique is One-hot Encoding"
      ]
    },
    {
      "cell_type": "code",
      "execution_count": null,
      "metadata": {
        "id": "vuotLSo_nNuA"
      },
      "outputs": [],
      "source": [
        "#X_train = pd.get_dummies(X_train,columns= ['model','color','transmission','year'],drop_first =True)\n",
        "#X_test = pd.get_dummies(X_test,columns= ['model','color','transmission','year'],drop_first =True)"
      ]
    },
    {
      "cell_type": "code",
      "execution_count": null,
      "metadata": {
        "colab": {
          "base_uri": "https://localhost:8080/"
        },
        "id": "OoXXlakunNuA",
        "outputId": "376aeb80-44ec-4e96-9a55-a8e665028f44"
      },
      "outputs": [
        {
          "output_type": "stream",
          "name": "stdout",
          "text": [
            "(400, 11)\n",
            "(100, 11)\n"
          ]
        }
      ],
      "source": [
        "# Checking the shape of train and test data\n",
        "print(X_train.shape)\n",
        "print(X_test.shape)"
      ]
    },
    {
      "cell_type": "code",
      "source": [
        "X_train.columns"
      ],
      "metadata": {
        "colab": {
          "base_uri": "https://localhost:8080/"
        },
        "id": "pFm7yTOzuP1m",
        "outputId": "ccbd0a94-e404-4b13-fef8-596a8f97b88f"
      },
      "execution_count": null,
      "outputs": [
        {
          "output_type": "execute_result",
          "data": {
            "text/plain": [
              "Index(['Principal', 'age', 'education_Bechalor',\n",
              "       'education_High School or Below', 'education_Master or Above',\n",
              "       'education_college', 'Gender_female', 'Gender_male', 'terms_7',\n",
              "       'terms_15', 'terms_30'],\n",
              "      dtype='object')"
            ]
          },
          "metadata": {},
          "execution_count": 59
        }
      ]
    },
    {
      "cell_type": "code",
      "source": [
        "from keras.utils import to_categorical\n",
        "y_train_tc=to_categorical(y_train,num_classes=3)\n",
        "y_test_tc=to_categorical(y_test,num_classes=3)\n",
        "y_train_tc"
      ],
      "metadata": {
        "colab": {
          "base_uri": "https://localhost:8080/"
        },
        "id": "x99CWHg_Xdz7",
        "outputId": "b9bc077f-0ef3-4a82-c2a9-4db30cd464f9"
      },
      "execution_count": null,
      "outputs": [
        {
          "output_type": "execute_result",
          "data": {
            "text/plain": [
              "array([[1., 0., 0.],\n",
              "       [0., 1., 0.],\n",
              "       [0., 1., 0.],\n",
              "       ...,\n",
              "       [0., 0., 1.],\n",
              "       [1., 0., 0.],\n",
              "       [1., 0., 0.]], dtype=float32)"
            ]
          },
          "metadata": {},
          "execution_count": 60
        }
      ]
    },
    {
      "cell_type": "markdown",
      "metadata": {
        "id": "LRffP2lZHIX_"
      },
      "source": [
        "#### Normalizing the train and test data separately"
      ]
    },
    {
      "cell_type": "code",
      "execution_count": null,
      "metadata": {
        "id": "r0V-omBDnNuB"
      },
      "outputs": [],
      "source": [
        "sc=StandardScaler()\n",
        "ndf=X_train[[\"Principal\",\"age\"]]\n",
        "temp = sc.fit(ndf)\n",
        "X_train[[\"Principal\",\"age\"]] = temp.transform(ndf)\n",
        "X_test[[\"Principal\",\"age\"]] = temp.transform(X_test[[\"Principal\",\"age\"]])"
      ]
    },
    {
      "cell_type": "markdown",
      "metadata": {
        "id": "iUDys-KUnNuB"
      },
      "source": [
        "We need to scale the target column since it is a numerical column."
      ]
    },
    {
      "cell_type": "code",
      "source": [
        "y_train\n",
        "type(y_train)"
      ],
      "metadata": {
        "colab": {
          "base_uri": "https://localhost:8080/"
        },
        "id": "D1C3GGEoXg5P",
        "outputId": "9d83936a-d013-4b4d-8a0a-55bd4b71a2c3"
      },
      "execution_count": null,
      "outputs": [
        {
          "output_type": "execute_result",
          "data": {
            "text/plain": [
              "pandas.core.series.Series"
            ]
          },
          "metadata": {},
          "execution_count": 62
        }
      ]
    },
    {
      "cell_type": "markdown",
      "metadata": {
        "id": "0-rlwxfvDBMd"
      },
      "source": [
        "### Model building"
      ]
    },
    {
      "cell_type": "markdown",
      "metadata": {
        "id": "XvxfRLOhDPin"
      },
      "source": [
        "#### Lets build a build using Keras"
      ]
    },
    {
      "cell_type": "markdown",
      "metadata": {
        "id": "aT-msCH6EN8x"
      },
      "source": [
        "We’ll use a Sequential model with  multiple connected hidden layers, and an output layer that returns a single, continuous value."
      ]
    },
    {
      "cell_type": "markdown",
      "metadata": {
        "id": "gxjwVDINfzbn"
      },
      "source": [
        "**What Are Keras and tf.keras?**\n",
        "\n",
        "\n",
        "Keras is an open-source deep learning library written in Python.\n",
        "\n",
        "The project was started in 2015 by Francois Chollet. It quickly became a popular framework for developers, becoming one of, if not the most, popular deep learning libraries.\n",
        "\n",
        "During the period of 2015-2019, developing deep learning models using mathematical libraries like TensorFlow, Theano, and PyTorch was cumbersome, requiring tens or even hundreds of lines of code to achieve the simplest tasks. The focus of these libraries was on research, flexibility, and speed, not ease of use.\n",
        "\n",
        "Keras was popular because the API was clean and simple, allowing standard deep learning models to be defined, fit, and evaluated in just a few lines of code.\n",
        "\n",
        "A secondary reason Keras took-off was because it allowed you to use any one among the range of popular deep learning mathematical libraries as the backend (e.g. used to perform the computation), such as TensorFlow, Theano, and later, CNTK. This allowed the power of these libraries to be harnessed (e.g. GPUs) with a very clean and simple interface.\n",
        "\n",
        "In 2019, Google released a new version of their TensorFlow deep learning library (TensorFlow 2) that integrated the Keras API directly and promoted this interface as the default or standard interface for deep learning development on the platform.\n",
        "\n",
        "This integration is commonly referred to as the tf.keras interface or API (“tf” is short for “TensorFlow“). This is to distinguish it from the so-called standalone Keras open source project.\n",
        "\n",
        "**Standalone Keras** The standalone open source project that supports TensorFlow, Theano and CNTK backends.\n",
        "\n",
        "**tf.keras** The Keras API integrated into TensorFlow 2.\n",
        "The Keras API implementation in Keras is referred to as “tf.keras” because this is the Python idiom used when referencing the API. First, the TensorFlow module is imported and named “tf“; then, Keras API elements are accessed via calls to tf.keras; for example:\n",
        "\n",
        "# example of tf.keras python\n",
        "import tensorflow as tf\n",
        "# use keras API\n",
        "model = tf.keras.Sequential()\n"
      ]
    },
    {
      "cell_type": "markdown",
      "metadata": {
        "id": "RTM8KkHCfW8M"
      },
      "source": [
        "### Building the model using tf.keras:\n",
        "\n"
      ]
    },
    {
      "cell_type": "code",
      "execution_count": null,
      "metadata": {
        "id": "Bus196NOnNuC"
      },
      "outputs": [],
      "source": [
        "backend.clear_session()\n",
        "#Fixing the seed for random number generators so that we can ensure we receive the same output everytime\n",
        "np.random.seed(1)\n",
        "import random\n",
        "random.seed(1)\n",
        "tf.random.set_seed(1)"
      ]
    },
    {
      "cell_type": "code",
      "execution_count": null,
      "metadata": {
        "id": "NyPLHXCqa_V9"
      },
      "outputs": [],
      "source": [
        "def build_model():\n",
        "  ## Initializing the ANN\n",
        "  model = Sequential()\n",
        "  # This adds the input layer (by specifying input dimension) AND the first hidden layer (units)\n",
        "  input_layer = Dense(32, input_shape=(X_train.shape[1],),activation='relu')\n",
        "  model.add(input_layer) #\n",
        "  #Adding the hidden layer\n",
        "  # Notice that we do not need to specify input dim.\n",
        "  hidden_layer = Dense(64, activation='relu');\n",
        "  model.add(hidden_layer)\n",
        "  model.add(Dense(128, activation='relu'))\n",
        "  #Adding the output layer\n",
        "  # Notice that we do not need to specify input dim.\n",
        "  # Since we are predicting the price (Numerical value), we need to pass only one neuron in the output layer.\n",
        "  output_layer = Dense(3, activation='softmax')\n",
        "  model.add(output_layer)\n",
        "\n",
        "  # Defining the optimizer\n",
        "  optimizer = tf.keras.optimizers.Adam(0.001)  # Defining the optimizer\n",
        "  # Compiling the model\n",
        "  model.compile(loss='categorical_crossentropy',\n",
        "                optimizer=optimizer,\n",
        "                metrics=[ 'categorical_accuracy'])  # Defining the loss function, optimizer and metrices\n",
        "  return model"
      ]
    },
    {
      "cell_type": "markdown",
      "metadata": {
        "id": "6x4o9vmCDrhh"
      },
      "source": [
        "Build the model and view the summary"
      ]
    },
    {
      "cell_type": "code",
      "source": [],
      "metadata": {
        "id": "6us6pck8ux6G"
      },
      "execution_count": null,
      "outputs": []
    },
    {
      "cell_type": "code",
      "execution_count": null,
      "metadata": {
        "colab": {
          "base_uri": "https://localhost:8080/"
        },
        "id": "8XFXVLmPDruT",
        "outputId": "dd3563a6-46dd-4e7b-97f1-f46e3af84bcd"
      },
      "outputs": [
        {
          "output_type": "stream",
          "name": "stdout",
          "text": [
            "Model: \"sequential\"\n",
            "_________________________________________________________________\n",
            " Layer (type)                Output Shape              Param #   \n",
            "=================================================================\n",
            " dense (Dense)               (None, 32)                384       \n",
            "                                                                 \n",
            " dense_1 (Dense)             (None, 64)                2112      \n",
            "                                                                 \n",
            " dense_2 (Dense)             (None, 128)               8320      \n",
            "                                                                 \n",
            " dense_3 (Dense)             (None, 3)                 387       \n",
            "                                                                 \n",
            "=================================================================\n",
            "Total params: 11203 (43.76 KB)\n",
            "Trainable params: 11203 (43.76 KB)\n",
            "Non-trainable params: 0 (0.00 Byte)\n",
            "_________________________________________________________________\n"
          ]
        }
      ],
      "source": [
        "#Getting the model summary. We are uisng standalone keras to build our model\n",
        "model = build_model()\n",
        "model.summary()"
      ]
    },
    {
      "cell_type": "markdown",
      "metadata": {
        "id": "mEHRg17HDver"
      },
      "source": [
        "Let’s now train the model for 50 epochs, and record the training and validation accuracy in ‘history’."
      ]
    },
    {
      "cell_type": "code",
      "execution_count": null,
      "metadata": {
        "colab": {
          "base_uri": "https://localhost:8080/"
        },
        "id": "ZKT_6JzZDvrm",
        "outputId": "776d575c-3f61-438c-f40e-db1268d1920b",
        "scrolled": true
      },
      "outputs": [
        {
          "output_type": "stream",
          "name": "stdout",
          "text": [
            "Epoch 1/600\n",
            "10/10 [==============================] - 2s 24ms/step - loss: 1.0282 - categorical_accuracy: 0.5375 - val_loss: 0.9594 - val_categorical_accuracy: 0.6125\n",
            "Epoch 2/600\n",
            "10/10 [==============================] - 0s 10ms/step - loss: 0.9285 - categorical_accuracy: 0.6250 - val_loss: 0.9613 - val_categorical_accuracy: 0.6125\n",
            "Epoch 3/600\n",
            "10/10 [==============================] - 0s 7ms/step - loss: 0.9234 - categorical_accuracy: 0.6250 - val_loss: 0.9518 - val_categorical_accuracy: 0.6125\n",
            "Epoch 4/600\n",
            "10/10 [==============================] - 0s 6ms/step - loss: 0.9132 - categorical_accuracy: 0.6250 - val_loss: 0.9404 - val_categorical_accuracy: 0.6125\n",
            "Epoch 5/600\n",
            "10/10 [==============================] - 0s 6ms/step - loss: 0.9063 - categorical_accuracy: 0.6250 - val_loss: 0.9359 - val_categorical_accuracy: 0.6125\n",
            "Epoch 6/600\n",
            "10/10 [==============================] - 0s 6ms/step - loss: 0.9009 - categorical_accuracy: 0.6250 - val_loss: 0.9341 - val_categorical_accuracy: 0.6125\n",
            "Epoch 7/600\n",
            "10/10 [==============================] - 0s 6ms/step - loss: 0.8964 - categorical_accuracy: 0.6250 - val_loss: 0.9332 - val_categorical_accuracy: 0.6125\n",
            "Epoch 8/600\n",
            "10/10 [==============================] - 0s 8ms/step - loss: 0.8923 - categorical_accuracy: 0.6250 - val_loss: 0.9335 - val_categorical_accuracy: 0.6125\n",
            "Epoch 9/600\n",
            "10/10 [==============================] - 0s 7ms/step - loss: 0.8873 - categorical_accuracy: 0.6250 - val_loss: 0.9260 - val_categorical_accuracy: 0.6125\n",
            "Epoch 10/600\n",
            "10/10 [==============================] - 0s 6ms/step - loss: 0.8848 - categorical_accuracy: 0.6250 - val_loss: 0.9207 - val_categorical_accuracy: 0.6125\n",
            "Epoch 11/600\n",
            "10/10 [==============================] - 0s 7ms/step - loss: 0.8807 - categorical_accuracy: 0.6250 - val_loss: 0.9207 - val_categorical_accuracy: 0.6125\n",
            "Epoch 12/600\n",
            "10/10 [==============================] - 0s 7ms/step - loss: 0.8749 - categorical_accuracy: 0.6250 - val_loss: 0.9206 - val_categorical_accuracy: 0.6125\n",
            "Epoch 13/600\n",
            "10/10 [==============================] - 0s 7ms/step - loss: 0.8706 - categorical_accuracy: 0.6250 - val_loss: 0.9213 - val_categorical_accuracy: 0.6125\n",
            "Epoch 14/600\n",
            "10/10 [==============================] - 0s 6ms/step - loss: 0.8687 - categorical_accuracy: 0.6250 - val_loss: 0.9157 - val_categorical_accuracy: 0.6125\n",
            "Epoch 15/600\n",
            "10/10 [==============================] - 0s 6ms/step - loss: 0.8629 - categorical_accuracy: 0.6250 - val_loss: 0.9144 - val_categorical_accuracy: 0.6125\n",
            "Epoch 16/600\n",
            "10/10 [==============================] - 0s 7ms/step - loss: 0.8587 - categorical_accuracy: 0.6250 - val_loss: 0.9109 - val_categorical_accuracy: 0.6125\n",
            "Epoch 17/600\n",
            "10/10 [==============================] - 0s 7ms/step - loss: 0.8536 - categorical_accuracy: 0.6250 - val_loss: 0.9136 - val_categorical_accuracy: 0.6125\n",
            "Epoch 18/600\n",
            "10/10 [==============================] - 0s 6ms/step - loss: 0.8496 - categorical_accuracy: 0.6250 - val_loss: 0.9124 - val_categorical_accuracy: 0.6125\n",
            "Epoch 19/600\n",
            "10/10 [==============================] - 0s 7ms/step - loss: 0.8454 - categorical_accuracy: 0.6281 - val_loss: 0.9164 - val_categorical_accuracy: 0.6125\n",
            "Epoch 20/600\n",
            "10/10 [==============================] - 0s 6ms/step - loss: 0.8420 - categorical_accuracy: 0.6250 - val_loss: 0.9142 - val_categorical_accuracy: 0.6125\n",
            "Epoch 21/600\n",
            "10/10 [==============================] - 0s 9ms/step - loss: 0.8388 - categorical_accuracy: 0.6250 - val_loss: 0.9147 - val_categorical_accuracy: 0.6125\n",
            "Epoch 22/600\n",
            "10/10 [==============================] - 0s 6ms/step - loss: 0.8337 - categorical_accuracy: 0.6250 - val_loss: 0.9223 - val_categorical_accuracy: 0.6125\n",
            "Epoch 23/600\n",
            "10/10 [==============================] - 0s 6ms/step - loss: 0.8296 - categorical_accuracy: 0.6250 - val_loss: 0.9182 - val_categorical_accuracy: 0.6125\n",
            "Epoch 24/600\n",
            "10/10 [==============================] - 0s 6ms/step - loss: 0.8278 - categorical_accuracy: 0.6344 - val_loss: 0.9090 - val_categorical_accuracy: 0.6125\n",
            "Epoch 25/600\n",
            "10/10 [==============================] - 0s 7ms/step - loss: 0.8266 - categorical_accuracy: 0.6281 - val_loss: 0.9242 - val_categorical_accuracy: 0.6125\n",
            "Epoch 26/600\n",
            "10/10 [==============================] - 0s 8ms/step - loss: 0.8188 - categorical_accuracy: 0.6344 - val_loss: 0.9205 - val_categorical_accuracy: 0.6125\n",
            "Epoch 27/600\n",
            "10/10 [==============================] - 0s 7ms/step - loss: 0.8161 - categorical_accuracy: 0.6375 - val_loss: 0.9176 - val_categorical_accuracy: 0.6125\n",
            "Epoch 28/600\n",
            "10/10 [==============================] - 0s 7ms/step - loss: 0.8145 - categorical_accuracy: 0.6344 - val_loss: 0.9321 - val_categorical_accuracy: 0.6000\n",
            "Epoch 29/600\n",
            "10/10 [==============================] - 0s 6ms/step - loss: 0.8113 - categorical_accuracy: 0.6406 - val_loss: 0.9181 - val_categorical_accuracy: 0.6000\n",
            "Epoch 30/600\n",
            "10/10 [==============================] - 0s 6ms/step - loss: 0.8049 - categorical_accuracy: 0.6375 - val_loss: 0.9262 - val_categorical_accuracy: 0.6125\n",
            "Epoch 31/600\n",
            "10/10 [==============================] - 0s 6ms/step - loss: 0.7986 - categorical_accuracy: 0.6375 - val_loss: 0.9289 - val_categorical_accuracy: 0.5875\n",
            "Epoch 32/600\n",
            "10/10 [==============================] - 0s 7ms/step - loss: 0.7973 - categorical_accuracy: 0.6375 - val_loss: 0.9328 - val_categorical_accuracy: 0.6000\n",
            "Epoch 33/600\n",
            "10/10 [==============================] - 0s 6ms/step - loss: 0.7899 - categorical_accuracy: 0.6406 - val_loss: 0.9247 - val_categorical_accuracy: 0.6000\n",
            "Epoch 34/600\n",
            "10/10 [==============================] - 0s 7ms/step - loss: 0.7901 - categorical_accuracy: 0.6469 - val_loss: 0.9310 - val_categorical_accuracy: 0.6000\n",
            "Epoch 35/600\n",
            "10/10 [==============================] - 0s 8ms/step - loss: 0.7815 - categorical_accuracy: 0.6469 - val_loss: 0.9334 - val_categorical_accuracy: 0.5875\n",
            "Epoch 36/600\n",
            "10/10 [==============================] - 0s 6ms/step - loss: 0.7803 - categorical_accuracy: 0.6469 - val_loss: 0.9393 - val_categorical_accuracy: 0.5875\n",
            "Epoch 37/600\n",
            "10/10 [==============================] - 0s 6ms/step - loss: 0.7805 - categorical_accuracy: 0.6438 - val_loss: 0.9468 - val_categorical_accuracy: 0.5875\n",
            "Epoch 38/600\n",
            "10/10 [==============================] - 0s 7ms/step - loss: 0.7820 - categorical_accuracy: 0.6531 - val_loss: 0.9433 - val_categorical_accuracy: 0.5750\n",
            "Epoch 39/600\n",
            "10/10 [==============================] - 0s 7ms/step - loss: 0.7660 - categorical_accuracy: 0.6500 - val_loss: 0.9518 - val_categorical_accuracy: 0.5875\n",
            "Epoch 40/600\n",
            "10/10 [==============================] - 0s 8ms/step - loss: 0.7722 - categorical_accuracy: 0.6500 - val_loss: 0.9371 - val_categorical_accuracy: 0.5625\n",
            "Epoch 41/600\n",
            "10/10 [==============================] - 0s 24ms/step - loss: 0.7626 - categorical_accuracy: 0.6562 - val_loss: 0.9457 - val_categorical_accuracy: 0.5875\n",
            "Epoch 42/600\n",
            "10/10 [==============================] - 0s 21ms/step - loss: 0.7624 - categorical_accuracy: 0.6562 - val_loss: 0.9625 - val_categorical_accuracy: 0.5750\n",
            "Epoch 43/600\n",
            "10/10 [==============================] - 0s 21ms/step - loss: 0.7581 - categorical_accuracy: 0.6594 - val_loss: 0.9565 - val_categorical_accuracy: 0.5625\n",
            "Epoch 44/600\n",
            "10/10 [==============================] - 0s 15ms/step - loss: 0.7554 - categorical_accuracy: 0.6531 - val_loss: 0.9457 - val_categorical_accuracy: 0.5875\n",
            "Epoch 45/600\n",
            "10/10 [==============================] - 0s 16ms/step - loss: 0.7617 - categorical_accuracy: 0.6625 - val_loss: 0.9816 - val_categorical_accuracy: 0.5750\n",
            "Epoch 46/600\n",
            "10/10 [==============================] - 0s 28ms/step - loss: 0.7494 - categorical_accuracy: 0.6562 - val_loss: 0.9665 - val_categorical_accuracy: 0.5875\n",
            "Epoch 47/600\n",
            "10/10 [==============================] - 0s 22ms/step - loss: 0.7445 - categorical_accuracy: 0.6562 - val_loss: 0.9701 - val_categorical_accuracy: 0.5750\n",
            "Epoch 48/600\n",
            "10/10 [==============================] - 0s 23ms/step - loss: 0.7418 - categorical_accuracy: 0.6625 - val_loss: 0.9770 - val_categorical_accuracy: 0.5875\n",
            "Epoch 49/600\n",
            "10/10 [==============================] - 0s 20ms/step - loss: 0.7403 - categorical_accuracy: 0.6562 - val_loss: 0.9649 - val_categorical_accuracy: 0.5750\n",
            "Epoch 50/600\n",
            "10/10 [==============================] - 0s 25ms/step - loss: 0.7412 - categorical_accuracy: 0.6562 - val_loss: 0.9843 - val_categorical_accuracy: 0.5500\n",
            "Epoch 51/600\n",
            "10/10 [==============================] - 0s 33ms/step - loss: 0.7449 - categorical_accuracy: 0.6656 - val_loss: 0.9931 - val_categorical_accuracy: 0.5875\n",
            "Epoch 52/600\n",
            "10/10 [==============================] - 0s 17ms/step - loss: 0.7411 - categorical_accuracy: 0.6719 - val_loss: 0.9773 - val_categorical_accuracy: 0.5625\n",
            "Epoch 53/600\n",
            "10/10 [==============================] - 0s 16ms/step - loss: 0.7294 - categorical_accuracy: 0.6625 - val_loss: 0.9905 - val_categorical_accuracy: 0.5875\n",
            "Epoch 54/600\n",
            "10/10 [==============================] - 0s 32ms/step - loss: 0.7291 - categorical_accuracy: 0.6719 - val_loss: 1.0072 - val_categorical_accuracy: 0.5500\n",
            "Epoch 55/600\n",
            "10/10 [==============================] - 0s 16ms/step - loss: 0.7249 - categorical_accuracy: 0.6656 - val_loss: 0.9969 - val_categorical_accuracy: 0.5625\n",
            "Epoch 56/600\n",
            "10/10 [==============================] - 0s 23ms/step - loss: 0.7210 - categorical_accuracy: 0.6594 - val_loss: 1.0021 - val_categorical_accuracy: 0.5750\n",
            "Epoch 57/600\n",
            "10/10 [==============================] - 0s 14ms/step - loss: 0.7194 - categorical_accuracy: 0.6750 - val_loss: 1.0218 - val_categorical_accuracy: 0.5750\n",
            "Epoch 58/600\n",
            "10/10 [==============================] - 0s 18ms/step - loss: 0.7194 - categorical_accuracy: 0.6656 - val_loss: 1.0132 - val_categorical_accuracy: 0.5625\n",
            "Epoch 59/600\n",
            "10/10 [==============================] - 0s 19ms/step - loss: 0.7167 - categorical_accuracy: 0.6844 - val_loss: 1.0083 - val_categorical_accuracy: 0.5750\n",
            "Epoch 60/600\n",
            "10/10 [==============================] - 0s 20ms/step - loss: 0.7203 - categorical_accuracy: 0.6687 - val_loss: 1.0285 - val_categorical_accuracy: 0.5625\n",
            "Epoch 61/600\n",
            "10/10 [==============================] - 0s 17ms/step - loss: 0.7211 - categorical_accuracy: 0.6781 - val_loss: 1.0363 - val_categorical_accuracy: 0.5750\n",
            "Epoch 62/600\n",
            "10/10 [==============================] - 0s 10ms/step - loss: 0.7048 - categorical_accuracy: 0.6687 - val_loss: 1.0266 - val_categorical_accuracy: 0.5750\n",
            "Epoch 63/600\n",
            "10/10 [==============================] - 0s 16ms/step - loss: 0.7006 - categorical_accuracy: 0.6687 - val_loss: 1.0397 - val_categorical_accuracy: 0.5625\n",
            "Epoch 64/600\n",
            "10/10 [==============================] - 0s 17ms/step - loss: 0.7026 - categorical_accuracy: 0.6812 - val_loss: 1.0359 - val_categorical_accuracy: 0.5625\n",
            "Epoch 65/600\n",
            "10/10 [==============================] - 0s 14ms/step - loss: 0.6961 - categorical_accuracy: 0.6844 - val_loss: 1.0383 - val_categorical_accuracy: 0.5375\n",
            "Epoch 66/600\n",
            "10/10 [==============================] - 0s 13ms/step - loss: 0.7073 - categorical_accuracy: 0.6625 - val_loss: 1.0579 - val_categorical_accuracy: 0.5375\n",
            "Epoch 67/600\n",
            "10/10 [==============================] - 0s 11ms/step - loss: 0.7063 - categorical_accuracy: 0.6687 - val_loss: 1.0552 - val_categorical_accuracy: 0.5625\n",
            "Epoch 68/600\n",
            "10/10 [==============================] - 0s 14ms/step - loss: 0.7042 - categorical_accuracy: 0.6781 - val_loss: 1.0424 - val_categorical_accuracy: 0.5500\n",
            "Epoch 69/600\n",
            "10/10 [==============================] - 0s 13ms/step - loss: 0.6996 - categorical_accuracy: 0.6812 - val_loss: 1.0741 - val_categorical_accuracy: 0.5500\n",
            "Epoch 70/600\n",
            "10/10 [==============================] - 0s 10ms/step - loss: 0.6916 - categorical_accuracy: 0.6781 - val_loss: 1.0484 - val_categorical_accuracy: 0.5625\n",
            "Epoch 71/600\n",
            "10/10 [==============================] - 0s 15ms/step - loss: 0.6929 - categorical_accuracy: 0.6812 - val_loss: 1.0635 - val_categorical_accuracy: 0.5625\n",
            "Epoch 72/600\n",
            "10/10 [==============================] - 0s 16ms/step - loss: 0.6851 - categorical_accuracy: 0.6812 - val_loss: 1.0792 - val_categorical_accuracy: 0.5500\n",
            "Epoch 73/600\n",
            "10/10 [==============================] - 0s 11ms/step - loss: 0.6926 - categorical_accuracy: 0.6781 - val_loss: 1.0861 - val_categorical_accuracy: 0.5625\n",
            "Epoch 74/600\n",
            "10/10 [==============================] - 0s 14ms/step - loss: 0.7008 - categorical_accuracy: 0.6719 - val_loss: 1.0787 - val_categorical_accuracy: 0.5125\n",
            "Epoch 75/600\n",
            "10/10 [==============================] - 0s 16ms/step - loss: 0.6805 - categorical_accuracy: 0.6781 - val_loss: 1.1068 - val_categorical_accuracy: 0.5625\n",
            "Epoch 76/600\n",
            "10/10 [==============================] - 0s 22ms/step - loss: 0.6944 - categorical_accuracy: 0.6406 - val_loss: 1.0789 - val_categorical_accuracy: 0.5125\n",
            "Epoch 77/600\n",
            "10/10 [==============================] - 0s 18ms/step - loss: 0.6848 - categorical_accuracy: 0.6781 - val_loss: 1.1003 - val_categorical_accuracy: 0.5625\n",
            "Epoch 78/600\n",
            "10/10 [==============================] - 0s 19ms/step - loss: 0.6780 - categorical_accuracy: 0.6875 - val_loss: 1.0893 - val_categorical_accuracy: 0.5375\n",
            "Epoch 79/600\n",
            "10/10 [==============================] - 0s 18ms/step - loss: 0.6800 - categorical_accuracy: 0.6687 - val_loss: 1.0889 - val_categorical_accuracy: 0.5500\n",
            "Epoch 80/600\n",
            "10/10 [==============================] - 0s 12ms/step - loss: 0.6806 - categorical_accuracy: 0.6719 - val_loss: 1.0985 - val_categorical_accuracy: 0.5500\n",
            "Epoch 81/600\n",
            "10/10 [==============================] - 0s 13ms/step - loss: 0.6820 - categorical_accuracy: 0.6750 - val_loss: 1.1008 - val_categorical_accuracy: 0.5500\n",
            "Epoch 82/600\n",
            "10/10 [==============================] - 0s 11ms/step - loss: 0.6750 - categorical_accuracy: 0.6906 - val_loss: 1.1228 - val_categorical_accuracy: 0.5375\n",
            "Epoch 83/600\n",
            "10/10 [==============================] - 0s 10ms/step - loss: 0.6782 - categorical_accuracy: 0.6875 - val_loss: 1.1075 - val_categorical_accuracy: 0.5500\n",
            "Epoch 84/600\n",
            "10/10 [==============================] - 0s 17ms/step - loss: 0.6776 - categorical_accuracy: 0.6844 - val_loss: 1.1314 - val_categorical_accuracy: 0.5375\n",
            "Epoch 85/600\n",
            "10/10 [==============================] - 0s 9ms/step - loss: 0.6823 - categorical_accuracy: 0.6562 - val_loss: 1.1251 - val_categorical_accuracy: 0.5375\n",
            "Epoch 86/600\n",
            "10/10 [==============================] - 0s 10ms/step - loss: 0.6832 - categorical_accuracy: 0.6812 - val_loss: 1.1231 - val_categorical_accuracy: 0.5250\n",
            "Epoch 87/600\n",
            "10/10 [==============================] - 0s 16ms/step - loss: 0.6859 - categorical_accuracy: 0.6812 - val_loss: 1.1458 - val_categorical_accuracy: 0.5500\n",
            "Epoch 88/600\n",
            "10/10 [==============================] - 0s 14ms/step - loss: 0.6830 - categorical_accuracy: 0.6719 - val_loss: 1.1252 - val_categorical_accuracy: 0.5375\n",
            "Epoch 89/600\n",
            "10/10 [==============================] - 0s 11ms/step - loss: 0.6796 - categorical_accuracy: 0.6656 - val_loss: 1.1308 - val_categorical_accuracy: 0.5375\n",
            "Epoch 90/600\n",
            "10/10 [==============================] - 0s 10ms/step - loss: 0.6691 - categorical_accuracy: 0.6844 - val_loss: 1.1374 - val_categorical_accuracy: 0.5500\n",
            "Epoch 91/600\n",
            "10/10 [==============================] - 0s 12ms/step - loss: 0.6668 - categorical_accuracy: 0.6938 - val_loss: 1.1501 - val_categorical_accuracy: 0.5500\n",
            "Epoch 92/600\n",
            "10/10 [==============================] - 0s 16ms/step - loss: 0.6635 - categorical_accuracy: 0.6875 - val_loss: 1.1367 - val_categorical_accuracy: 0.5500\n",
            "Epoch 93/600\n",
            "10/10 [==============================] - 0s 14ms/step - loss: 0.6714 - categorical_accuracy: 0.6687 - val_loss: 1.1544 - val_categorical_accuracy: 0.5375\n",
            "Epoch 94/600\n",
            "10/10 [==============================] - 0s 14ms/step - loss: 0.6609 - categorical_accuracy: 0.6781 - val_loss: 1.1476 - val_categorical_accuracy: 0.5500\n",
            "Epoch 95/600\n",
            "10/10 [==============================] - 0s 9ms/step - loss: 0.6573 - categorical_accuracy: 0.6812 - val_loss: 1.1581 - val_categorical_accuracy: 0.5375\n",
            "Epoch 96/600\n",
            "10/10 [==============================] - 0s 12ms/step - loss: 0.6680 - categorical_accuracy: 0.6844 - val_loss: 1.1603 - val_categorical_accuracy: 0.5250\n",
            "Epoch 97/600\n",
            "10/10 [==============================] - 0s 13ms/step - loss: 0.6759 - categorical_accuracy: 0.6562 - val_loss: 1.1695 - val_categorical_accuracy: 0.5500\n",
            "Epoch 98/600\n",
            "10/10 [==============================] - 0s 16ms/step - loss: 0.6688 - categorical_accuracy: 0.6687 - val_loss: 1.1693 - val_categorical_accuracy: 0.5375\n",
            "Epoch 99/600\n",
            "10/10 [==============================] - 0s 17ms/step - loss: 0.6628 - categorical_accuracy: 0.6656 - val_loss: 1.1622 - val_categorical_accuracy: 0.5625\n",
            "Epoch 100/600\n",
            "10/10 [==============================] - 0s 9ms/step - loss: 0.6603 - categorical_accuracy: 0.6812 - val_loss: 1.1902 - val_categorical_accuracy: 0.5125\n",
            "Epoch 101/600\n",
            "10/10 [==============================] - 0s 9ms/step - loss: 0.6570 - categorical_accuracy: 0.6906 - val_loss: 1.1718 - val_categorical_accuracy: 0.5500\n",
            "Epoch 102/600\n",
            "10/10 [==============================] - 0s 10ms/step - loss: 0.6711 - categorical_accuracy: 0.6812 - val_loss: 1.1776 - val_categorical_accuracy: 0.5125\n",
            "Epoch 103/600\n",
            "10/10 [==============================] - 0s 10ms/step - loss: 0.6664 - categorical_accuracy: 0.6844 - val_loss: 1.1978 - val_categorical_accuracy: 0.5375\n",
            "Epoch 104/600\n",
            "10/10 [==============================] - 0s 12ms/step - loss: 0.6497 - categorical_accuracy: 0.6844 - val_loss: 1.1765 - val_categorical_accuracy: 0.5250\n",
            "Epoch 105/600\n",
            "10/10 [==============================] - 0s 10ms/step - loss: 0.6500 - categorical_accuracy: 0.6938 - val_loss: 1.2057 - val_categorical_accuracy: 0.5250\n",
            "Epoch 106/600\n",
            "10/10 [==============================] - 0s 11ms/step - loss: 0.6500 - categorical_accuracy: 0.6969 - val_loss: 1.1966 - val_categorical_accuracy: 0.5250\n",
            "Epoch 107/600\n",
            "10/10 [==============================] - 0s 18ms/step - loss: 0.6463 - categorical_accuracy: 0.6875 - val_loss: 1.2052 - val_categorical_accuracy: 0.5250\n",
            "Epoch 108/600\n",
            "10/10 [==============================] - 0s 12ms/step - loss: 0.6499 - categorical_accuracy: 0.6875 - val_loss: 1.1895 - val_categorical_accuracy: 0.5250\n",
            "Epoch 109/600\n",
            "10/10 [==============================] - 0s 12ms/step - loss: 0.6483 - categorical_accuracy: 0.6812 - val_loss: 1.2219 - val_categorical_accuracy: 0.5500\n",
            "Epoch 110/600\n",
            "10/10 [==============================] - 0s 23ms/step - loss: 0.6516 - categorical_accuracy: 0.6875 - val_loss: 1.2305 - val_categorical_accuracy: 0.5625\n",
            "Epoch 111/600\n",
            "10/10 [==============================] - 0s 12ms/step - loss: 0.6451 - categorical_accuracy: 0.6875 - val_loss: 1.2121 - val_categorical_accuracy: 0.5250\n",
            "Epoch 112/600\n",
            "10/10 [==============================] - 0s 17ms/step - loss: 0.6384 - categorical_accuracy: 0.6906 - val_loss: 1.2341 - val_categorical_accuracy: 0.5375\n",
            "Epoch 113/600\n",
            "10/10 [==============================] - 0s 11ms/step - loss: 0.6367 - categorical_accuracy: 0.7000 - val_loss: 1.2353 - val_categorical_accuracy: 0.5375\n",
            "Epoch 114/600\n",
            "10/10 [==============================] - 0s 15ms/step - loss: 0.6437 - categorical_accuracy: 0.6938 - val_loss: 1.2493 - val_categorical_accuracy: 0.5500\n",
            "Epoch 115/600\n",
            "10/10 [==============================] - 0s 10ms/step - loss: 0.6385 - categorical_accuracy: 0.6969 - val_loss: 1.2443 - val_categorical_accuracy: 0.5250\n",
            "Epoch 116/600\n",
            "10/10 [==============================] - 0s 11ms/step - loss: 0.6367 - categorical_accuracy: 0.6969 - val_loss: 1.2490 - val_categorical_accuracy: 0.5375\n",
            "Epoch 117/600\n",
            "10/10 [==============================] - 0s 22ms/step - loss: 0.6405 - categorical_accuracy: 0.6875 - val_loss: 1.2525 - val_categorical_accuracy: 0.5375\n",
            "Epoch 118/600\n",
            "10/10 [==============================] - 0s 12ms/step - loss: 0.6332 - categorical_accuracy: 0.6781 - val_loss: 1.2480 - val_categorical_accuracy: 0.5125\n",
            "Epoch 119/600\n",
            "10/10 [==============================] - 0s 18ms/step - loss: 0.6360 - categorical_accuracy: 0.6875 - val_loss: 1.2574 - val_categorical_accuracy: 0.5375\n",
            "Epoch 120/600\n",
            "10/10 [==============================] - 0s 10ms/step - loss: 0.6442 - categorical_accuracy: 0.6812 - val_loss: 1.2811 - val_categorical_accuracy: 0.5625\n",
            "Epoch 121/600\n",
            "10/10 [==============================] - 0s 11ms/step - loss: 0.6489 - categorical_accuracy: 0.6719 - val_loss: 1.2782 - val_categorical_accuracy: 0.5250\n",
            "Epoch 122/600\n",
            "10/10 [==============================] - 0s 12ms/step - loss: 0.6329 - categorical_accuracy: 0.6969 - val_loss: 1.2611 - val_categorical_accuracy: 0.5375\n",
            "Epoch 123/600\n",
            "10/10 [==============================] - 0s 9ms/step - loss: 0.6341 - categorical_accuracy: 0.6781 - val_loss: 1.2509 - val_categorical_accuracy: 0.5375\n",
            "Epoch 124/600\n",
            "10/10 [==============================] - 0s 15ms/step - loss: 0.6337 - categorical_accuracy: 0.6875 - val_loss: 1.2787 - val_categorical_accuracy: 0.5375\n",
            "Epoch 125/600\n",
            "10/10 [==============================] - 0s 10ms/step - loss: 0.6458 - categorical_accuracy: 0.6875 - val_loss: 1.2700 - val_categorical_accuracy: 0.5000\n",
            "Epoch 126/600\n",
            "10/10 [==============================] - 0s 22ms/step - loss: 0.6355 - categorical_accuracy: 0.6938 - val_loss: 1.2811 - val_categorical_accuracy: 0.5375\n",
            "Epoch 127/600\n",
            "10/10 [==============================] - 0s 16ms/step - loss: 0.6320 - categorical_accuracy: 0.7031 - val_loss: 1.2849 - val_categorical_accuracy: 0.5125\n",
            "Epoch 128/600\n",
            "10/10 [==============================] - 0s 15ms/step - loss: 0.6286 - categorical_accuracy: 0.6906 - val_loss: 1.2982 - val_categorical_accuracy: 0.5375\n",
            "Epoch 129/600\n",
            "10/10 [==============================] - 0s 17ms/step - loss: 0.6256 - categorical_accuracy: 0.6781 - val_loss: 1.3060 - val_categorical_accuracy: 0.5125\n",
            "Epoch 130/600\n",
            "10/10 [==============================] - 0s 11ms/step - loss: 0.6206 - categorical_accuracy: 0.6875 - val_loss: 1.2905 - val_categorical_accuracy: 0.5375\n",
            "Epoch 131/600\n",
            "10/10 [==============================] - 0s 12ms/step - loss: 0.6305 - categorical_accuracy: 0.6969 - val_loss: 1.2950 - val_categorical_accuracy: 0.5125\n",
            "Epoch 132/600\n",
            "10/10 [==============================] - 0s 20ms/step - loss: 0.6325 - categorical_accuracy: 0.7000 - val_loss: 1.3214 - val_categorical_accuracy: 0.5250\n",
            "Epoch 133/600\n",
            "10/10 [==============================] - 0s 20ms/step - loss: 0.6201 - categorical_accuracy: 0.7094 - val_loss: 1.3287 - val_categorical_accuracy: 0.5000\n",
            "Epoch 134/600\n",
            "10/10 [==============================] - 0s 20ms/step - loss: 0.6206 - categorical_accuracy: 0.7000 - val_loss: 1.3322 - val_categorical_accuracy: 0.5375\n",
            "Epoch 135/600\n",
            "10/10 [==============================] - 0s 29ms/step - loss: 0.6274 - categorical_accuracy: 0.7094 - val_loss: 1.3146 - val_categorical_accuracy: 0.5375\n",
            "Epoch 136/600\n",
            "10/10 [==============================] - 0s 25ms/step - loss: 0.6252 - categorical_accuracy: 0.7000 - val_loss: 1.3265 - val_categorical_accuracy: 0.4875\n",
            "Epoch 137/600\n",
            "10/10 [==============================] - 0s 35ms/step - loss: 0.6202 - categorical_accuracy: 0.7063 - val_loss: 1.3206 - val_categorical_accuracy: 0.5375\n",
            "Epoch 138/600\n",
            "10/10 [==============================] - 0s 26ms/step - loss: 0.6396 - categorical_accuracy: 0.7000 - val_loss: 1.3206 - val_categorical_accuracy: 0.4750\n",
            "Epoch 139/600\n",
            "10/10 [==============================] - 0s 20ms/step - loss: 0.6318 - categorical_accuracy: 0.6781 - val_loss: 1.3530 - val_categorical_accuracy: 0.5250\n",
            "Epoch 140/600\n",
            "10/10 [==============================] - 0s 25ms/step - loss: 0.6302 - categorical_accuracy: 0.7063 - val_loss: 1.2995 - val_categorical_accuracy: 0.5000\n",
            "Epoch 141/600\n",
            "10/10 [==============================] - 0s 22ms/step - loss: 0.6211 - categorical_accuracy: 0.7000 - val_loss: 1.3391 - val_categorical_accuracy: 0.5250\n",
            "Epoch 142/600\n",
            "10/10 [==============================] - 0s 26ms/step - loss: 0.6247 - categorical_accuracy: 0.6844 - val_loss: 1.3661 - val_categorical_accuracy: 0.5250\n",
            "Epoch 143/600\n",
            "10/10 [==============================] - 0s 27ms/step - loss: 0.6273 - categorical_accuracy: 0.6938 - val_loss: 1.3438 - val_categorical_accuracy: 0.4750\n",
            "Epoch 144/600\n",
            "10/10 [==============================] - 0s 29ms/step - loss: 0.6233 - categorical_accuracy: 0.6969 - val_loss: 1.3430 - val_categorical_accuracy: 0.5375\n",
            "Epoch 145/600\n",
            "10/10 [==============================] - 0s 21ms/step - loss: 0.6135 - categorical_accuracy: 0.7094 - val_loss: 1.3524 - val_categorical_accuracy: 0.5000\n",
            "Epoch 146/600\n",
            "10/10 [==============================] - 0s 24ms/step - loss: 0.6163 - categorical_accuracy: 0.6812 - val_loss: 1.3875 - val_categorical_accuracy: 0.5250\n",
            "Epoch 147/600\n",
            "10/10 [==============================] - 0s 25ms/step - loss: 0.6296 - categorical_accuracy: 0.6969 - val_loss: 1.3457 - val_categorical_accuracy: 0.5000\n",
            "Epoch 148/600\n",
            "10/10 [==============================] - 0s 34ms/step - loss: 0.6238 - categorical_accuracy: 0.7094 - val_loss: 1.3767 - val_categorical_accuracy: 0.5375\n",
            "Epoch 149/600\n",
            "10/10 [==============================] - 0s 14ms/step - loss: 0.6240 - categorical_accuracy: 0.6969 - val_loss: 1.3615 - val_categorical_accuracy: 0.4625\n",
            "Epoch 150/600\n",
            "10/10 [==============================] - 0s 10ms/step - loss: 0.6346 - categorical_accuracy: 0.6906 - val_loss: 1.3986 - val_categorical_accuracy: 0.5375\n",
            "Epoch 151/600\n",
            "10/10 [==============================] - 0s 15ms/step - loss: 0.6440 - categorical_accuracy: 0.7188 - val_loss: 1.3459 - val_categorical_accuracy: 0.4625\n",
            "Epoch 152/600\n",
            "10/10 [==============================] - 0s 23ms/step - loss: 0.6184 - categorical_accuracy: 0.7031 - val_loss: 1.3711 - val_categorical_accuracy: 0.5125\n",
            "Epoch 153/600\n",
            "10/10 [==============================] - 0s 12ms/step - loss: 0.6171 - categorical_accuracy: 0.6875 - val_loss: 1.3706 - val_categorical_accuracy: 0.5250\n",
            "Epoch 154/600\n",
            "10/10 [==============================] - 0s 11ms/step - loss: 0.6073 - categorical_accuracy: 0.7000 - val_loss: 1.3838 - val_categorical_accuracy: 0.5250\n",
            "Epoch 155/600\n",
            "10/10 [==============================] - 0s 20ms/step - loss: 0.6181 - categorical_accuracy: 0.6781 - val_loss: 1.3786 - val_categorical_accuracy: 0.5125\n",
            "Epoch 156/600\n",
            "10/10 [==============================] - 0s 19ms/step - loss: 0.6146 - categorical_accuracy: 0.7094 - val_loss: 1.3792 - val_categorical_accuracy: 0.4875\n",
            "Epoch 157/600\n",
            "10/10 [==============================] - 0s 15ms/step - loss: 0.6242 - categorical_accuracy: 0.7063 - val_loss: 1.4095 - val_categorical_accuracy: 0.5375\n",
            "Epoch 158/600\n",
            "10/10 [==============================] - 0s 21ms/step - loss: 0.6158 - categorical_accuracy: 0.6969 - val_loss: 1.4180 - val_categorical_accuracy: 0.4875\n",
            "Epoch 159/600\n",
            "10/10 [==============================] - 0s 13ms/step - loss: 0.6096 - categorical_accuracy: 0.7188 - val_loss: 1.3900 - val_categorical_accuracy: 0.5125\n",
            "Epoch 160/600\n",
            "10/10 [==============================] - 0s 12ms/step - loss: 0.6068 - categorical_accuracy: 0.7031 - val_loss: 1.3942 - val_categorical_accuracy: 0.5125\n",
            "Epoch 161/600\n",
            "10/10 [==============================] - 0s 12ms/step - loss: 0.6057 - categorical_accuracy: 0.7125 - val_loss: 1.4099 - val_categorical_accuracy: 0.5375\n",
            "Epoch 162/600\n",
            "10/10 [==============================] - 0s 21ms/step - loss: 0.6090 - categorical_accuracy: 0.7219 - val_loss: 1.4074 - val_categorical_accuracy: 0.5125\n",
            "Epoch 163/600\n",
            "10/10 [==============================] - 0s 10ms/step - loss: 0.6124 - categorical_accuracy: 0.7094 - val_loss: 1.4256 - val_categorical_accuracy: 0.4750\n",
            "Epoch 164/600\n",
            "10/10 [==============================] - 0s 22ms/step - loss: 0.6141 - categorical_accuracy: 0.7000 - val_loss: 1.4370 - val_categorical_accuracy: 0.5250\n",
            "Epoch 165/600\n",
            "10/10 [==============================] - 0s 27ms/step - loss: 0.6161 - categorical_accuracy: 0.7000 - val_loss: 1.3982 - val_categorical_accuracy: 0.4750\n",
            "Epoch 166/600\n",
            "10/10 [==============================] - 0s 25ms/step - loss: 0.6368 - categorical_accuracy: 0.6594 - val_loss: 1.4404 - val_categorical_accuracy: 0.5375\n",
            "Epoch 167/600\n",
            "10/10 [==============================] - 0s 17ms/step - loss: 0.6316 - categorical_accuracy: 0.6844 - val_loss: 1.4216 - val_categorical_accuracy: 0.5000\n",
            "Epoch 168/600\n",
            "10/10 [==============================] - 0s 18ms/step - loss: 0.6414 - categorical_accuracy: 0.6781 - val_loss: 1.4272 - val_categorical_accuracy: 0.5250\n",
            "Epoch 169/600\n",
            "10/10 [==============================] - 0s 22ms/step - loss: 0.6051 - categorical_accuracy: 0.7094 - val_loss: 1.4290 - val_categorical_accuracy: 0.5000\n",
            "Epoch 170/600\n",
            "10/10 [==============================] - 0s 10ms/step - loss: 0.6036 - categorical_accuracy: 0.7000 - val_loss: 1.4223 - val_categorical_accuracy: 0.5125\n",
            "Epoch 171/600\n",
            "10/10 [==============================] - 0s 13ms/step - loss: 0.6077 - categorical_accuracy: 0.7125 - val_loss: 1.4409 - val_categorical_accuracy: 0.5125\n",
            "Epoch 172/600\n",
            "10/10 [==============================] - 0s 10ms/step - loss: 0.5954 - categorical_accuracy: 0.7188 - val_loss: 1.4330 - val_categorical_accuracy: 0.5000\n",
            "Epoch 173/600\n",
            "10/10 [==============================] - 0s 11ms/step - loss: 0.6033 - categorical_accuracy: 0.6938 - val_loss: 1.4488 - val_categorical_accuracy: 0.5000\n",
            "Epoch 174/600\n",
            "10/10 [==============================] - 0s 12ms/step - loss: 0.5976 - categorical_accuracy: 0.7250 - val_loss: 1.4397 - val_categorical_accuracy: 0.5000\n",
            "Epoch 175/600\n",
            "10/10 [==============================] - 0s 9ms/step - loss: 0.5920 - categorical_accuracy: 0.7250 - val_loss: 1.4510 - val_categorical_accuracy: 0.4875\n",
            "Epoch 176/600\n",
            "10/10 [==============================] - 0s 13ms/step - loss: 0.6056 - categorical_accuracy: 0.7156 - val_loss: 1.4647 - val_categorical_accuracy: 0.5000\n",
            "Epoch 177/600\n",
            "10/10 [==============================] - 0s 10ms/step - loss: 0.6009 - categorical_accuracy: 0.7125 - val_loss: 1.4752 - val_categorical_accuracy: 0.5000\n",
            "Epoch 178/600\n",
            "10/10 [==============================] - 0s 18ms/step - loss: 0.5908 - categorical_accuracy: 0.7219 - val_loss: 1.4761 - val_categorical_accuracy: 0.4750\n",
            "Epoch 179/600\n",
            "10/10 [==============================] - 0s 19ms/step - loss: 0.5969 - categorical_accuracy: 0.7125 - val_loss: 1.4743 - val_categorical_accuracy: 0.5125\n",
            "Epoch 180/600\n",
            "10/10 [==============================] - 0s 10ms/step - loss: 0.5913 - categorical_accuracy: 0.7188 - val_loss: 1.4714 - val_categorical_accuracy: 0.5000\n",
            "Epoch 181/600\n",
            "10/10 [==============================] - 0s 20ms/step - loss: 0.5947 - categorical_accuracy: 0.7063 - val_loss: 1.4605 - val_categorical_accuracy: 0.5000\n",
            "Epoch 182/600\n",
            "10/10 [==============================] - 0s 26ms/step - loss: 0.5897 - categorical_accuracy: 0.7312 - val_loss: 1.4891 - val_categorical_accuracy: 0.5000\n",
            "Epoch 183/600\n",
            "10/10 [==============================] - 0s 15ms/step - loss: 0.6084 - categorical_accuracy: 0.7094 - val_loss: 1.4788 - val_categorical_accuracy: 0.4875\n",
            "Epoch 184/600\n",
            "10/10 [==============================] - 0s 14ms/step - loss: 0.5959 - categorical_accuracy: 0.7250 - val_loss: 1.5052 - val_categorical_accuracy: 0.5000\n",
            "Epoch 185/600\n",
            "10/10 [==============================] - 0s 13ms/step - loss: 0.5962 - categorical_accuracy: 0.7031 - val_loss: 1.4894 - val_categorical_accuracy: 0.5125\n",
            "Epoch 186/600\n",
            "10/10 [==============================] - 0s 15ms/step - loss: 0.5904 - categorical_accuracy: 0.7094 - val_loss: 1.4869 - val_categorical_accuracy: 0.4875\n",
            "Epoch 187/600\n",
            "10/10 [==============================] - 0s 18ms/step - loss: 0.5979 - categorical_accuracy: 0.7094 - val_loss: 1.4905 - val_categorical_accuracy: 0.4875\n",
            "Epoch 188/600\n",
            "10/10 [==============================] - 0s 15ms/step - loss: 0.5896 - categorical_accuracy: 0.7219 - val_loss: 1.5274 - val_categorical_accuracy: 0.4875\n",
            "Epoch 189/600\n",
            "10/10 [==============================] - 0s 20ms/step - loss: 0.5928 - categorical_accuracy: 0.7219 - val_loss: 1.5083 - val_categorical_accuracy: 0.5125\n",
            "Epoch 190/600\n",
            "10/10 [==============================] - 0s 10ms/step - loss: 0.5993 - categorical_accuracy: 0.7219 - val_loss: 1.5090 - val_categorical_accuracy: 0.4625\n",
            "Epoch 191/600\n",
            "10/10 [==============================] - 0s 11ms/step - loss: 0.5956 - categorical_accuracy: 0.7188 - val_loss: 1.5127 - val_categorical_accuracy: 0.5000\n",
            "Epoch 192/600\n",
            "10/10 [==============================] - 0s 11ms/step - loss: 0.5914 - categorical_accuracy: 0.7063 - val_loss: 1.5119 - val_categorical_accuracy: 0.5000\n",
            "Epoch 193/600\n",
            "10/10 [==============================] - 0s 11ms/step - loss: 0.5969 - categorical_accuracy: 0.6938 - val_loss: 1.5082 - val_categorical_accuracy: 0.4750\n",
            "Epoch 194/600\n",
            "10/10 [==============================] - 0s 14ms/step - loss: 0.5838 - categorical_accuracy: 0.7156 - val_loss: 1.5231 - val_categorical_accuracy: 0.5000\n",
            "Epoch 195/600\n",
            "10/10 [==============================] - 0s 22ms/step - loss: 0.5864 - categorical_accuracy: 0.7219 - val_loss: 1.5219 - val_categorical_accuracy: 0.5000\n",
            "Epoch 196/600\n",
            "10/10 [==============================] - 0s 18ms/step - loss: 0.5866 - categorical_accuracy: 0.7156 - val_loss: 1.5410 - val_categorical_accuracy: 0.5000\n",
            "Epoch 197/600\n",
            "10/10 [==============================] - 0s 11ms/step - loss: 0.5949 - categorical_accuracy: 0.7156 - val_loss: 1.5798 - val_categorical_accuracy: 0.5125\n",
            "Epoch 198/600\n",
            "10/10 [==============================] - 0s 10ms/step - loss: 0.5867 - categorical_accuracy: 0.7219 - val_loss: 1.5274 - val_categorical_accuracy: 0.4875\n",
            "Epoch 199/600\n",
            "10/10 [==============================] - 0s 11ms/step - loss: 0.5851 - categorical_accuracy: 0.7219 - val_loss: 1.5760 - val_categorical_accuracy: 0.4750\n",
            "Epoch 200/600\n",
            "10/10 [==============================] - 0s 16ms/step - loss: 0.5979 - categorical_accuracy: 0.7188 - val_loss: 1.5312 - val_categorical_accuracy: 0.5000\n",
            "Epoch 201/600\n",
            "10/10 [==============================] - 0s 14ms/step - loss: 0.5953 - categorical_accuracy: 0.6906 - val_loss: 1.5652 - val_categorical_accuracy: 0.5000\n",
            "Epoch 202/600\n",
            "10/10 [==============================] - 0s 20ms/step - loss: 0.6010 - categorical_accuracy: 0.7125 - val_loss: 1.5430 - val_categorical_accuracy: 0.4750\n",
            "Epoch 203/600\n",
            "10/10 [==============================] - 0s 12ms/step - loss: 0.5822 - categorical_accuracy: 0.7125 - val_loss: 1.5807 - val_categorical_accuracy: 0.5250\n",
            "Epoch 204/600\n",
            "10/10 [==============================] - 0s 10ms/step - loss: 0.5899 - categorical_accuracy: 0.7156 - val_loss: 1.5516 - val_categorical_accuracy: 0.5000\n",
            "Epoch 205/600\n",
            "10/10 [==============================] - 0s 21ms/step - loss: 0.5765 - categorical_accuracy: 0.7344 - val_loss: 1.5779 - val_categorical_accuracy: 0.4875\n",
            "Epoch 206/600\n",
            "10/10 [==============================] - 0s 14ms/step - loss: 0.5808 - categorical_accuracy: 0.7094 - val_loss: 1.5695 - val_categorical_accuracy: 0.4875\n",
            "Epoch 207/600\n",
            "10/10 [==============================] - 0s 11ms/step - loss: 0.5868 - categorical_accuracy: 0.7031 - val_loss: 1.5758 - val_categorical_accuracy: 0.5000\n",
            "Epoch 208/600\n",
            "10/10 [==============================] - 0s 14ms/step - loss: 0.5791 - categorical_accuracy: 0.7406 - val_loss: 1.5771 - val_categorical_accuracy: 0.5000\n",
            "Epoch 209/600\n",
            "10/10 [==============================] - 0s 11ms/step - loss: 0.5833 - categorical_accuracy: 0.7281 - val_loss: 1.5855 - val_categorical_accuracy: 0.4875\n",
            "Epoch 210/600\n",
            "10/10 [==============================] - 0s 14ms/step - loss: 0.5755 - categorical_accuracy: 0.7156 - val_loss: 1.6108 - val_categorical_accuracy: 0.5000\n",
            "Epoch 211/600\n",
            "10/10 [==============================] - 0s 12ms/step - loss: 0.5799 - categorical_accuracy: 0.7250 - val_loss: 1.5841 - val_categorical_accuracy: 0.5000\n",
            "Epoch 212/600\n",
            "10/10 [==============================] - 0s 9ms/step - loss: 0.5775 - categorical_accuracy: 0.7312 - val_loss: 1.6107 - val_categorical_accuracy: 0.5000\n",
            "Epoch 213/600\n",
            "10/10 [==============================] - 0s 9ms/step - loss: 0.5784 - categorical_accuracy: 0.7250 - val_loss: 1.6030 - val_categorical_accuracy: 0.4875\n",
            "Epoch 214/600\n",
            "10/10 [==============================] - 0s 25ms/step - loss: 0.5771 - categorical_accuracy: 0.7188 - val_loss: 1.6179 - val_categorical_accuracy: 0.4875\n",
            "Epoch 215/600\n",
            "10/10 [==============================] - 0s 36ms/step - loss: 0.5720 - categorical_accuracy: 0.7531 - val_loss: 1.6173 - val_categorical_accuracy: 0.5000\n",
            "Epoch 216/600\n",
            "10/10 [==============================] - 0s 30ms/step - loss: 0.5731 - categorical_accuracy: 0.7344 - val_loss: 1.6219 - val_categorical_accuracy: 0.5000\n",
            "Epoch 217/600\n",
            "10/10 [==============================] - 0s 16ms/step - loss: 0.5741 - categorical_accuracy: 0.7375 - val_loss: 1.6287 - val_categorical_accuracy: 0.5000\n",
            "Epoch 218/600\n",
            "10/10 [==============================] - 0s 23ms/step - loss: 0.5729 - categorical_accuracy: 0.7125 - val_loss: 1.6241 - val_categorical_accuracy: 0.4625\n",
            "Epoch 219/600\n",
            "10/10 [==============================] - 0s 35ms/step - loss: 0.5689 - categorical_accuracy: 0.7281 - val_loss: 1.6210 - val_categorical_accuracy: 0.4875\n",
            "Epoch 220/600\n",
            "10/10 [==============================] - 0s 24ms/step - loss: 0.5750 - categorical_accuracy: 0.7281 - val_loss: 1.6413 - val_categorical_accuracy: 0.4625\n",
            "Epoch 221/600\n",
            "10/10 [==============================] - 0s 28ms/step - loss: 0.5766 - categorical_accuracy: 0.7344 - val_loss: 1.6360 - val_categorical_accuracy: 0.5000\n",
            "Epoch 222/600\n",
            "10/10 [==============================] - 0s 37ms/step - loss: 0.5783 - categorical_accuracy: 0.7250 - val_loss: 1.6252 - val_categorical_accuracy: 0.4500\n",
            "Epoch 223/600\n",
            "10/10 [==============================] - 0s 21ms/step - loss: 0.5847 - categorical_accuracy: 0.7031 - val_loss: 1.6519 - val_categorical_accuracy: 0.5000\n",
            "Epoch 224/600\n",
            "10/10 [==============================] - 0s 23ms/step - loss: 0.5809 - categorical_accuracy: 0.7156 - val_loss: 1.6457 - val_categorical_accuracy: 0.4625\n",
            "Epoch 225/600\n",
            "10/10 [==============================] - 0s 31ms/step - loss: 0.5805 - categorical_accuracy: 0.7281 - val_loss: 1.6314 - val_categorical_accuracy: 0.5000\n",
            "Epoch 226/600\n",
            "10/10 [==============================] - 0s 23ms/step - loss: 0.5812 - categorical_accuracy: 0.6906 - val_loss: 1.6742 - val_categorical_accuracy: 0.4875\n",
            "Epoch 227/600\n",
            "10/10 [==============================] - 0s 27ms/step - loss: 0.5814 - categorical_accuracy: 0.7406 - val_loss: 1.6251 - val_categorical_accuracy: 0.4875\n",
            "Epoch 228/600\n",
            "10/10 [==============================] - 0s 10ms/step - loss: 0.5714 - categorical_accuracy: 0.7281 - val_loss: 1.6738 - val_categorical_accuracy: 0.5000\n",
            "Epoch 229/600\n",
            "10/10 [==============================] - 0s 9ms/step - loss: 0.5737 - categorical_accuracy: 0.7219 - val_loss: 1.6597 - val_categorical_accuracy: 0.4875\n",
            "Epoch 230/600\n",
            "10/10 [==============================] - 0s 8ms/step - loss: 0.5747 - categorical_accuracy: 0.7375 - val_loss: 1.6813 - val_categorical_accuracy: 0.5000\n",
            "Epoch 231/600\n",
            "10/10 [==============================] - 0s 9ms/step - loss: 0.5841 - categorical_accuracy: 0.7156 - val_loss: 1.6710 - val_categorical_accuracy: 0.4750\n",
            "Epoch 232/600\n",
            "10/10 [==============================] - 0s 9ms/step - loss: 0.5886 - categorical_accuracy: 0.6969 - val_loss: 1.6693 - val_categorical_accuracy: 0.5125\n",
            "Epoch 233/600\n",
            "10/10 [==============================] - 0s 10ms/step - loss: 0.5774 - categorical_accuracy: 0.7188 - val_loss: 1.6646 - val_categorical_accuracy: 0.5000\n",
            "Epoch 234/600\n",
            "10/10 [==============================] - 0s 8ms/step - loss: 0.5865 - categorical_accuracy: 0.7000 - val_loss: 1.6896 - val_categorical_accuracy: 0.5125\n",
            "Epoch 235/600\n",
            "10/10 [==============================] - 0s 6ms/step - loss: 0.5946 - categorical_accuracy: 0.7031 - val_loss: 1.7110 - val_categorical_accuracy: 0.5000\n",
            "Epoch 236/600\n",
            "10/10 [==============================] - 0s 7ms/step - loss: 0.5695 - categorical_accuracy: 0.7281 - val_loss: 1.6933 - val_categorical_accuracy: 0.4750\n",
            "Epoch 237/600\n",
            "10/10 [==============================] - 0s 8ms/step - loss: 0.5703 - categorical_accuracy: 0.7344 - val_loss: 1.6873 - val_categorical_accuracy: 0.5000\n",
            "Epoch 238/600\n",
            "10/10 [==============================] - 0s 8ms/step - loss: 0.5662 - categorical_accuracy: 0.7250 - val_loss: 1.6822 - val_categorical_accuracy: 0.5000\n",
            "Epoch 239/600\n",
            "10/10 [==============================] - 0s 8ms/step - loss: 0.5713 - categorical_accuracy: 0.7219 - val_loss: 1.7266 - val_categorical_accuracy: 0.5125\n",
            "Epoch 240/600\n",
            "10/10 [==============================] - 0s 7ms/step - loss: 0.5726 - categorical_accuracy: 0.7156 - val_loss: 1.6934 - val_categorical_accuracy: 0.4750\n",
            "Epoch 241/600\n",
            "10/10 [==============================] - 0s 6ms/step - loss: 0.5571 - categorical_accuracy: 0.7437 - val_loss: 1.6910 - val_categorical_accuracy: 0.5000\n",
            "Epoch 242/600\n",
            "10/10 [==============================] - 0s 6ms/step - loss: 0.5737 - categorical_accuracy: 0.7125 - val_loss: 1.7332 - val_categorical_accuracy: 0.4875\n",
            "Epoch 243/600\n",
            "10/10 [==============================] - 0s 8ms/step - loss: 0.5631 - categorical_accuracy: 0.7406 - val_loss: 1.7067 - val_categorical_accuracy: 0.5000\n",
            "Epoch 244/600\n",
            "10/10 [==============================] - 0s 8ms/step - loss: 0.5662 - categorical_accuracy: 0.7344 - val_loss: 1.6895 - val_categorical_accuracy: 0.5000\n",
            "Epoch 245/600\n",
            "10/10 [==============================] - 0s 6ms/step - loss: 0.5647 - categorical_accuracy: 0.7312 - val_loss: 1.7302 - val_categorical_accuracy: 0.5000\n",
            "Epoch 246/600\n",
            "10/10 [==============================] - 0s 8ms/step - loss: 0.5692 - categorical_accuracy: 0.7375 - val_loss: 1.7234 - val_categorical_accuracy: 0.4875\n",
            "Epoch 247/600\n",
            "10/10 [==============================] - 0s 6ms/step - loss: 0.5620 - categorical_accuracy: 0.7312 - val_loss: 1.7489 - val_categorical_accuracy: 0.5000\n",
            "Epoch 248/600\n",
            "10/10 [==============================] - 0s 6ms/step - loss: 0.5686 - categorical_accuracy: 0.7437 - val_loss: 1.7177 - val_categorical_accuracy: 0.4875\n",
            "Epoch 249/600\n",
            "10/10 [==============================] - 0s 6ms/step - loss: 0.5611 - categorical_accuracy: 0.7219 - val_loss: 1.7241 - val_categorical_accuracy: 0.5000\n",
            "Epoch 250/600\n",
            "10/10 [==============================] - 0s 8ms/step - loss: 0.5557 - categorical_accuracy: 0.7344 - val_loss: 1.7487 - val_categorical_accuracy: 0.5000\n",
            "Epoch 251/600\n",
            "10/10 [==============================] - 0s 6ms/step - loss: 0.5605 - categorical_accuracy: 0.7344 - val_loss: 1.7303 - val_categorical_accuracy: 0.4875\n",
            "Epoch 252/600\n",
            "10/10 [==============================] - 0s 8ms/step - loss: 0.5560 - categorical_accuracy: 0.7250 - val_loss: 1.7480 - val_categorical_accuracy: 0.4875\n",
            "Epoch 253/600\n",
            "10/10 [==============================] - 0s 8ms/step - loss: 0.5623 - categorical_accuracy: 0.7312 - val_loss: 1.7337 - val_categorical_accuracy: 0.5000\n",
            "Epoch 254/600\n",
            "10/10 [==============================] - 0s 8ms/step - loss: 0.5655 - categorical_accuracy: 0.7281 - val_loss: 1.7904 - val_categorical_accuracy: 0.4875\n",
            "Epoch 255/600\n",
            "10/10 [==============================] - 0s 9ms/step - loss: 0.5602 - categorical_accuracy: 0.7312 - val_loss: 1.7433 - val_categorical_accuracy: 0.4875\n",
            "Epoch 256/600\n",
            "10/10 [==============================] - 0s 7ms/step - loss: 0.5548 - categorical_accuracy: 0.7437 - val_loss: 1.7495 - val_categorical_accuracy: 0.5000\n",
            "Epoch 257/600\n",
            "10/10 [==============================] - 0s 6ms/step - loss: 0.5595 - categorical_accuracy: 0.7344 - val_loss: 1.7808 - val_categorical_accuracy: 0.5000\n",
            "Epoch 258/600\n",
            "10/10 [==============================] - 0s 6ms/step - loss: 0.5612 - categorical_accuracy: 0.7281 - val_loss: 1.7498 - val_categorical_accuracy: 0.5000\n",
            "Epoch 259/600\n",
            "10/10 [==============================] - 0s 6ms/step - loss: 0.5570 - categorical_accuracy: 0.7250 - val_loss: 1.7927 - val_categorical_accuracy: 0.5000\n",
            "Epoch 260/600\n",
            "10/10 [==============================] - 0s 8ms/step - loss: 0.5650 - categorical_accuracy: 0.7094 - val_loss: 1.8019 - val_categorical_accuracy: 0.5000\n",
            "Epoch 261/600\n",
            "10/10 [==============================] - 0s 8ms/step - loss: 0.5694 - categorical_accuracy: 0.7063 - val_loss: 1.7613 - val_categorical_accuracy: 0.5125\n",
            "Epoch 262/600\n",
            "10/10 [==============================] - 0s 7ms/step - loss: 0.5627 - categorical_accuracy: 0.7250 - val_loss: 1.7559 - val_categorical_accuracy: 0.4750\n",
            "Epoch 263/600\n",
            "10/10 [==============================] - 0s 7ms/step - loss: 0.5567 - categorical_accuracy: 0.7344 - val_loss: 1.7836 - val_categorical_accuracy: 0.5125\n",
            "Epoch 264/600\n",
            "10/10 [==============================] - 0s 7ms/step - loss: 0.5674 - categorical_accuracy: 0.7188 - val_loss: 1.7641 - val_categorical_accuracy: 0.5000\n",
            "Epoch 265/600\n",
            "10/10 [==============================] - 0s 6ms/step - loss: 0.5613 - categorical_accuracy: 0.7219 - val_loss: 1.8195 - val_categorical_accuracy: 0.5000\n",
            "Epoch 266/600\n",
            "10/10 [==============================] - 0s 8ms/step - loss: 0.5677 - categorical_accuracy: 0.7219 - val_loss: 1.7570 - val_categorical_accuracy: 0.4750\n",
            "Epoch 267/600\n",
            "10/10 [==============================] - 0s 8ms/step - loss: 0.5832 - categorical_accuracy: 0.7125 - val_loss: 1.8106 - val_categorical_accuracy: 0.5000\n",
            "Epoch 268/600\n",
            "10/10 [==============================] - 0s 7ms/step - loss: 0.5797 - categorical_accuracy: 0.7125 - val_loss: 1.7793 - val_categorical_accuracy: 0.4875\n",
            "Epoch 269/600\n",
            "10/10 [==============================] - 0s 7ms/step - loss: 0.5541 - categorical_accuracy: 0.7469 - val_loss: 1.8208 - val_categorical_accuracy: 0.5000\n",
            "Epoch 270/600\n",
            "10/10 [==============================] - 0s 8ms/step - loss: 0.5577 - categorical_accuracy: 0.7375 - val_loss: 1.7782 - val_categorical_accuracy: 0.4875\n",
            "Epoch 271/600\n",
            "10/10 [==============================] - 0s 6ms/step - loss: 0.5701 - categorical_accuracy: 0.6938 - val_loss: 1.8179 - val_categorical_accuracy: 0.5000\n",
            "Epoch 272/600\n",
            "10/10 [==============================] - 0s 8ms/step - loss: 0.5882 - categorical_accuracy: 0.7250 - val_loss: 1.8579 - val_categorical_accuracy: 0.4500\n",
            "Epoch 273/600\n",
            "10/10 [==============================] - 0s 8ms/step - loss: 0.5625 - categorical_accuracy: 0.7219 - val_loss: 1.7836 - val_categorical_accuracy: 0.5125\n",
            "Epoch 274/600\n",
            "10/10 [==============================] - 0s 6ms/step - loss: 0.5588 - categorical_accuracy: 0.7375 - val_loss: 1.7905 - val_categorical_accuracy: 0.4875\n",
            "Epoch 275/600\n",
            "10/10 [==============================] - 0s 8ms/step - loss: 0.5582 - categorical_accuracy: 0.7250 - val_loss: 1.8086 - val_categorical_accuracy: 0.4875\n",
            "Epoch 276/600\n",
            "10/10 [==============================] - 0s 8ms/step - loss: 0.5614 - categorical_accuracy: 0.7344 - val_loss: 1.8032 - val_categorical_accuracy: 0.4875\n",
            "Epoch 277/600\n",
            "10/10 [==============================] - 0s 7ms/step - loss: 0.5620 - categorical_accuracy: 0.7156 - val_loss: 1.8445 - val_categorical_accuracy: 0.5125\n",
            "Epoch 278/600\n",
            "10/10 [==============================] - 0s 7ms/step - loss: 0.5599 - categorical_accuracy: 0.7219 - val_loss: 1.8247 - val_categorical_accuracy: 0.4625\n",
            "Epoch 279/600\n",
            "10/10 [==============================] - 0s 9ms/step - loss: 0.5606 - categorical_accuracy: 0.7281 - val_loss: 1.8196 - val_categorical_accuracy: 0.5000\n",
            "Epoch 280/600\n",
            "10/10 [==============================] - 0s 6ms/step - loss: 0.5550 - categorical_accuracy: 0.7312 - val_loss: 1.8017 - val_categorical_accuracy: 0.4875\n",
            "Epoch 281/600\n",
            "10/10 [==============================] - 0s 10ms/step - loss: 0.5545 - categorical_accuracy: 0.7375 - val_loss: 1.8101 - val_categorical_accuracy: 0.5000\n",
            "Epoch 282/600\n",
            "10/10 [==============================] - 0s 8ms/step - loss: 0.5584 - categorical_accuracy: 0.7188 - val_loss: 1.8728 - val_categorical_accuracy: 0.4875\n",
            "Epoch 283/600\n",
            "10/10 [==============================] - 0s 6ms/step - loss: 0.5534 - categorical_accuracy: 0.7312 - val_loss: 1.8342 - val_categorical_accuracy: 0.5000\n",
            "Epoch 284/600\n",
            "10/10 [==============================] - 0s 8ms/step - loss: 0.5520 - categorical_accuracy: 0.7312 - val_loss: 1.8273 - val_categorical_accuracy: 0.5000\n",
            "Epoch 285/600\n",
            "10/10 [==============================] - 0s 8ms/step - loss: 0.5600 - categorical_accuracy: 0.7375 - val_loss: 1.8752 - val_categorical_accuracy: 0.5000\n",
            "Epoch 286/600\n",
            "10/10 [==============================] - 0s 8ms/step - loss: 0.5540 - categorical_accuracy: 0.7375 - val_loss: 1.8384 - val_categorical_accuracy: 0.4875\n",
            "Epoch 287/600\n",
            "10/10 [==============================] - 0s 8ms/step - loss: 0.5547 - categorical_accuracy: 0.7312 - val_loss: 1.8176 - val_categorical_accuracy: 0.5000\n",
            "Epoch 288/600\n",
            "10/10 [==============================] - 0s 6ms/step - loss: 0.5423 - categorical_accuracy: 0.7375 - val_loss: 1.8650 - val_categorical_accuracy: 0.4750\n",
            "Epoch 289/600\n",
            "10/10 [==============================] - 0s 6ms/step - loss: 0.5536 - categorical_accuracy: 0.7344 - val_loss: 1.8590 - val_categorical_accuracy: 0.4875\n",
            "Epoch 290/600\n",
            "10/10 [==============================] - 0s 9ms/step - loss: 0.5498 - categorical_accuracy: 0.7406 - val_loss: 1.8800 - val_categorical_accuracy: 0.5000\n",
            "Epoch 291/600\n",
            "10/10 [==============================] - 0s 8ms/step - loss: 0.5540 - categorical_accuracy: 0.7312 - val_loss: 1.8968 - val_categorical_accuracy: 0.5125\n",
            "Epoch 292/600\n",
            "10/10 [==============================] - 0s 8ms/step - loss: 0.5481 - categorical_accuracy: 0.7281 - val_loss: 1.8507 - val_categorical_accuracy: 0.4750\n",
            "Epoch 293/600\n",
            "10/10 [==============================] - 0s 6ms/step - loss: 0.5617 - categorical_accuracy: 0.7156 - val_loss: 1.8497 - val_categorical_accuracy: 0.5000\n",
            "Epoch 294/600\n",
            "10/10 [==============================] - 0s 6ms/step - loss: 0.5527 - categorical_accuracy: 0.7469 - val_loss: 1.8979 - val_categorical_accuracy: 0.4875\n",
            "Epoch 295/600\n",
            "10/10 [==============================] - 0s 8ms/step - loss: 0.5462 - categorical_accuracy: 0.7344 - val_loss: 1.8893 - val_categorical_accuracy: 0.4875\n",
            "Epoch 296/600\n",
            "10/10 [==============================] - 0s 6ms/step - loss: 0.5495 - categorical_accuracy: 0.7344 - val_loss: 1.8886 - val_categorical_accuracy: 0.5000\n",
            "Epoch 297/600\n",
            "10/10 [==============================] - 0s 8ms/step - loss: 0.5552 - categorical_accuracy: 0.7312 - val_loss: 1.8716 - val_categorical_accuracy: 0.5000\n",
            "Epoch 298/600\n",
            "10/10 [==============================] - 0s 6ms/step - loss: 0.5511 - categorical_accuracy: 0.7406 - val_loss: 1.8737 - val_categorical_accuracy: 0.5125\n",
            "Epoch 299/600\n",
            "10/10 [==============================] - 0s 6ms/step - loss: 0.5422 - categorical_accuracy: 0.7437 - val_loss: 1.9151 - val_categorical_accuracy: 0.5000\n",
            "Epoch 300/600\n",
            "10/10 [==============================] - 0s 8ms/step - loss: 0.5532 - categorical_accuracy: 0.7312 - val_loss: 1.9037 - val_categorical_accuracy: 0.5000\n",
            "Epoch 301/600\n",
            "10/10 [==============================] - 0s 7ms/step - loss: 0.5542 - categorical_accuracy: 0.6969 - val_loss: 1.8707 - val_categorical_accuracy: 0.4875\n",
            "Epoch 302/600\n",
            "10/10 [==============================] - 0s 8ms/step - loss: 0.5444 - categorical_accuracy: 0.7406 - val_loss: 1.9124 - val_categorical_accuracy: 0.5000\n",
            "Epoch 303/600\n",
            "10/10 [==============================] - 0s 8ms/step - loss: 0.5442 - categorical_accuracy: 0.7188 - val_loss: 1.9243 - val_categorical_accuracy: 0.5000\n",
            "Epoch 304/600\n",
            "10/10 [==============================] - 0s 8ms/step - loss: 0.5490 - categorical_accuracy: 0.7219 - val_loss: 1.9011 - val_categorical_accuracy: 0.4625\n",
            "Epoch 305/600\n",
            "10/10 [==============================] - 0s 8ms/step - loss: 0.5478 - categorical_accuracy: 0.7250 - val_loss: 1.8781 - val_categorical_accuracy: 0.5000\n",
            "Epoch 306/600\n",
            "10/10 [==============================] - 0s 8ms/step - loss: 0.5456 - categorical_accuracy: 0.7281 - val_loss: 1.9102 - val_categorical_accuracy: 0.5125\n",
            "Epoch 307/600\n",
            "10/10 [==============================] - 0s 8ms/step - loss: 0.5407 - categorical_accuracy: 0.7437 - val_loss: 1.9209 - val_categorical_accuracy: 0.4875\n",
            "Epoch 308/600\n",
            "10/10 [==============================] - 0s 8ms/step - loss: 0.5396 - categorical_accuracy: 0.7531 - val_loss: 1.9194 - val_categorical_accuracy: 0.5000\n",
            "Epoch 309/600\n",
            "10/10 [==============================] - 0s 8ms/step - loss: 0.5418 - categorical_accuracy: 0.7469 - val_loss: 1.9613 - val_categorical_accuracy: 0.4750\n",
            "Epoch 310/600\n",
            "10/10 [==============================] - 0s 7ms/step - loss: 0.5502 - categorical_accuracy: 0.7312 - val_loss: 1.9060 - val_categorical_accuracy: 0.5125\n",
            "Epoch 311/600\n",
            "10/10 [==============================] - 0s 7ms/step - loss: 0.5445 - categorical_accuracy: 0.7406 - val_loss: 1.9406 - val_categorical_accuracy: 0.4750\n",
            "Epoch 312/600\n",
            "10/10 [==============================] - 0s 8ms/step - loss: 0.5393 - categorical_accuracy: 0.7594 - val_loss: 1.9227 - val_categorical_accuracy: 0.5000\n",
            "Epoch 313/600\n",
            "10/10 [==============================] - 0s 8ms/step - loss: 0.5373 - categorical_accuracy: 0.7531 - val_loss: 1.9656 - val_categorical_accuracy: 0.4875\n",
            "Epoch 314/600\n",
            "10/10 [==============================] - 0s 6ms/step - loss: 0.5586 - categorical_accuracy: 0.7125 - val_loss: 1.9334 - val_categorical_accuracy: 0.4875\n",
            "Epoch 315/600\n",
            "10/10 [==============================] - 0s 8ms/step - loss: 0.5462 - categorical_accuracy: 0.7156 - val_loss: 1.9467 - val_categorical_accuracy: 0.4875\n",
            "Epoch 316/600\n",
            "10/10 [==============================] - 0s 8ms/step - loss: 0.5466 - categorical_accuracy: 0.7406 - val_loss: 1.9543 - val_categorical_accuracy: 0.5250\n",
            "Epoch 317/600\n",
            "10/10 [==============================] - 0s 7ms/step - loss: 0.5490 - categorical_accuracy: 0.7344 - val_loss: 1.9918 - val_categorical_accuracy: 0.4875\n",
            "Epoch 318/600\n",
            "10/10 [==============================] - 0s 6ms/step - loss: 0.5489 - categorical_accuracy: 0.7250 - val_loss: 1.9218 - val_categorical_accuracy: 0.5000\n",
            "Epoch 319/600\n",
            "10/10 [==============================] - 0s 6ms/step - loss: 0.5487 - categorical_accuracy: 0.7312 - val_loss: 1.9658 - val_categorical_accuracy: 0.5000\n",
            "Epoch 320/600\n",
            "10/10 [==============================] - 0s 7ms/step - loss: 0.5416 - categorical_accuracy: 0.7375 - val_loss: 1.9987 - val_categorical_accuracy: 0.5000\n",
            "Epoch 321/600\n",
            "10/10 [==============================] - 0s 6ms/step - loss: 0.5497 - categorical_accuracy: 0.7375 - val_loss: 1.9538 - val_categorical_accuracy: 0.4750\n",
            "Epoch 322/600\n",
            "10/10 [==============================] - 0s 6ms/step - loss: 0.5442 - categorical_accuracy: 0.7406 - val_loss: 2.0185 - val_categorical_accuracy: 0.5125\n",
            "Epoch 323/600\n",
            "10/10 [==============================] - 0s 7ms/step - loss: 0.5424 - categorical_accuracy: 0.7437 - val_loss: 1.9434 - val_categorical_accuracy: 0.4875\n",
            "Epoch 324/600\n",
            "10/10 [==============================] - 0s 6ms/step - loss: 0.5377 - categorical_accuracy: 0.7437 - val_loss: 1.9514 - val_categorical_accuracy: 0.4875\n",
            "Epoch 325/600\n",
            "10/10 [==============================] - 0s 7ms/step - loss: 0.5407 - categorical_accuracy: 0.7500 - val_loss: 2.0401 - val_categorical_accuracy: 0.4875\n",
            "Epoch 326/600\n",
            "10/10 [==============================] - 0s 8ms/step - loss: 0.5532 - categorical_accuracy: 0.7156 - val_loss: 1.9877 - val_categorical_accuracy: 0.5125\n",
            "Epoch 327/600\n",
            "10/10 [==============================] - 0s 8ms/step - loss: 0.5420 - categorical_accuracy: 0.7594 - val_loss: 1.9734 - val_categorical_accuracy: 0.4875\n",
            "Epoch 328/600\n",
            "10/10 [==============================] - 0s 6ms/step - loss: 0.5359 - categorical_accuracy: 0.7563 - val_loss: 1.9725 - val_categorical_accuracy: 0.5125\n",
            "Epoch 329/600\n",
            "10/10 [==============================] - 0s 8ms/step - loss: 0.5363 - categorical_accuracy: 0.7344 - val_loss: 2.0332 - val_categorical_accuracy: 0.4500\n",
            "Epoch 330/600\n",
            "10/10 [==============================] - 0s 7ms/step - loss: 0.5418 - categorical_accuracy: 0.7344 - val_loss: 1.9922 - val_categorical_accuracy: 0.5125\n",
            "Epoch 331/600\n",
            "10/10 [==============================] - 0s 7ms/step - loss: 0.5518 - categorical_accuracy: 0.7188 - val_loss: 1.9640 - val_categorical_accuracy: 0.5000\n",
            "Epoch 332/600\n",
            "10/10 [==============================] - 0s 8ms/step - loss: 0.5298 - categorical_accuracy: 0.7469 - val_loss: 1.9881 - val_categorical_accuracy: 0.5000\n",
            "Epoch 333/600\n",
            "10/10 [==============================] - 0s 8ms/step - loss: 0.5484 - categorical_accuracy: 0.7312 - val_loss: 2.0496 - val_categorical_accuracy: 0.4875\n",
            "Epoch 334/600\n",
            "10/10 [==============================] - 0s 7ms/step - loss: 0.5335 - categorical_accuracy: 0.7406 - val_loss: 2.0115 - val_categorical_accuracy: 0.4875\n",
            "Epoch 335/600\n",
            "10/10 [==============================] - 0s 8ms/step - loss: 0.5366 - categorical_accuracy: 0.7406 - val_loss: 1.9877 - val_categorical_accuracy: 0.5250\n",
            "Epoch 336/600\n",
            "10/10 [==============================] - 0s 6ms/step - loss: 0.5397 - categorical_accuracy: 0.7437 - val_loss: 1.9999 - val_categorical_accuracy: 0.5000\n",
            "Epoch 337/600\n",
            "10/10 [==============================] - 0s 7ms/step - loss: 0.5405 - categorical_accuracy: 0.7437 - val_loss: 1.9870 - val_categorical_accuracy: 0.5000\n",
            "Epoch 338/600\n",
            "10/10 [==============================] - 0s 6ms/step - loss: 0.5289 - categorical_accuracy: 0.7437 - val_loss: 1.9989 - val_categorical_accuracy: 0.5125\n",
            "Epoch 339/600\n",
            "10/10 [==============================] - 0s 8ms/step - loss: 0.5393 - categorical_accuracy: 0.7344 - val_loss: 2.0172 - val_categorical_accuracy: 0.4750\n",
            "Epoch 340/600\n",
            "10/10 [==============================] - 0s 6ms/step - loss: 0.5353 - categorical_accuracy: 0.7469 - val_loss: 2.0000 - val_categorical_accuracy: 0.5000\n",
            "Epoch 341/600\n",
            "10/10 [==============================] - 0s 8ms/step - loss: 0.5354 - categorical_accuracy: 0.7375 - val_loss: 2.0099 - val_categorical_accuracy: 0.5000\n",
            "Epoch 342/600\n",
            "10/10 [==============================] - 0s 8ms/step - loss: 0.5320 - categorical_accuracy: 0.7469 - val_loss: 2.0478 - val_categorical_accuracy: 0.5000\n",
            "Epoch 343/600\n",
            "10/10 [==============================] - 0s 8ms/step - loss: 0.5345 - categorical_accuracy: 0.7469 - val_loss: 2.0249 - val_categorical_accuracy: 0.4750\n",
            "Epoch 344/600\n",
            "10/10 [==============================] - 0s 8ms/step - loss: 0.5448 - categorical_accuracy: 0.7250 - val_loss: 2.0597 - val_categorical_accuracy: 0.5000\n",
            "Epoch 345/600\n",
            "10/10 [==============================] - 0s 7ms/step - loss: 0.5378 - categorical_accuracy: 0.7437 - val_loss: 1.9805 - val_categorical_accuracy: 0.4500\n",
            "Epoch 346/600\n",
            "10/10 [==============================] - 0s 6ms/step - loss: 0.5409 - categorical_accuracy: 0.7156 - val_loss: 2.0190 - val_categorical_accuracy: 0.5125\n",
            "Epoch 347/600\n",
            "10/10 [==============================] - 0s 7ms/step - loss: 0.5312 - categorical_accuracy: 0.7437 - val_loss: 1.9797 - val_categorical_accuracy: 0.5000\n",
            "Epoch 348/600\n",
            "10/10 [==============================] - 0s 8ms/step - loss: 0.5282 - categorical_accuracy: 0.7531 - val_loss: 2.0200 - val_categorical_accuracy: 0.5000\n",
            "Epoch 349/600\n",
            "10/10 [==============================] - 0s 8ms/step - loss: 0.5355 - categorical_accuracy: 0.7344 - val_loss: 2.0300 - val_categorical_accuracy: 0.5000\n",
            "Epoch 350/600\n",
            "10/10 [==============================] - 0s 6ms/step - loss: 0.5386 - categorical_accuracy: 0.7406 - val_loss: 2.0578 - val_categorical_accuracy: 0.4500\n",
            "Epoch 351/600\n",
            "10/10 [==============================] - 0s 8ms/step - loss: 0.5425 - categorical_accuracy: 0.7406 - val_loss: 2.0290 - val_categorical_accuracy: 0.5000\n",
            "Epoch 352/600\n",
            "10/10 [==============================] - 0s 6ms/step - loss: 0.5572 - categorical_accuracy: 0.7031 - val_loss: 2.0615 - val_categorical_accuracy: 0.4625\n",
            "Epoch 353/600\n",
            "10/10 [==============================] - 0s 8ms/step - loss: 0.5423 - categorical_accuracy: 0.7406 - val_loss: 1.9896 - val_categorical_accuracy: 0.4875\n",
            "Epoch 354/600\n",
            "10/10 [==============================] - 0s 8ms/step - loss: 0.5549 - categorical_accuracy: 0.7188 - val_loss: 2.0721 - val_categorical_accuracy: 0.5125\n",
            "Epoch 355/600\n",
            "10/10 [==============================] - 0s 8ms/step - loss: 0.5536 - categorical_accuracy: 0.7312 - val_loss: 2.0527 - val_categorical_accuracy: 0.4875\n",
            "Epoch 356/600\n",
            "10/10 [==============================] - 0s 7ms/step - loss: 0.5301 - categorical_accuracy: 0.7281 - val_loss: 2.0317 - val_categorical_accuracy: 0.5000\n",
            "Epoch 357/600\n",
            "10/10 [==============================] - 0s 8ms/step - loss: 0.5441 - categorical_accuracy: 0.7188 - val_loss: 2.0836 - val_categorical_accuracy: 0.4500\n",
            "Epoch 358/600\n",
            "10/10 [==============================] - 0s 8ms/step - loss: 0.5414 - categorical_accuracy: 0.7094 - val_loss: 2.0429 - val_categorical_accuracy: 0.5125\n",
            "Epoch 359/600\n",
            "10/10 [==============================] - 0s 8ms/step - loss: 0.5425 - categorical_accuracy: 0.7500 - val_loss: 2.0705 - val_categorical_accuracy: 0.4500\n",
            "Epoch 360/600\n",
            "10/10 [==============================] - 0s 9ms/step - loss: 0.5301 - categorical_accuracy: 0.7312 - val_loss: 2.0558 - val_categorical_accuracy: 0.5125\n",
            "Epoch 361/600\n",
            "10/10 [==============================] - 0s 9ms/step - loss: 0.5393 - categorical_accuracy: 0.7437 - val_loss: 2.0736 - val_categorical_accuracy: 0.4750\n",
            "Epoch 362/600\n",
            "10/10 [==============================] - 0s 8ms/step - loss: 0.5250 - categorical_accuracy: 0.7312 - val_loss: 2.0730 - val_categorical_accuracy: 0.5000\n",
            "Epoch 363/600\n",
            "10/10 [==============================] - 0s 10ms/step - loss: 0.5348 - categorical_accuracy: 0.7375 - val_loss: 2.1153 - val_categorical_accuracy: 0.5250\n",
            "Epoch 364/600\n",
            "10/10 [==============================] - 0s 8ms/step - loss: 0.5294 - categorical_accuracy: 0.7156 - val_loss: 2.0715 - val_categorical_accuracy: 0.5000\n",
            "Epoch 365/600\n",
            "10/10 [==============================] - 0s 10ms/step - loss: 0.5475 - categorical_accuracy: 0.7406 - val_loss: 2.0619 - val_categorical_accuracy: 0.4875\n",
            "Epoch 366/600\n",
            "10/10 [==============================] - 0s 12ms/step - loss: 0.5536 - categorical_accuracy: 0.7312 - val_loss: 2.0800 - val_categorical_accuracy: 0.5000\n",
            "Epoch 367/600\n",
            "10/10 [==============================] - 0s 9ms/step - loss: 0.5458 - categorical_accuracy: 0.7375 - val_loss: 2.0962 - val_categorical_accuracy: 0.4625\n",
            "Epoch 368/600\n",
            "10/10 [==============================] - 0s 11ms/step - loss: 0.5391 - categorical_accuracy: 0.7344 - val_loss: 2.0713 - val_categorical_accuracy: 0.5000\n",
            "Epoch 369/600\n",
            "10/10 [==============================] - 0s 11ms/step - loss: 0.5345 - categorical_accuracy: 0.7250 - val_loss: 2.0940 - val_categorical_accuracy: 0.4750\n",
            "Epoch 370/600\n",
            "10/10 [==============================] - 0s 9ms/step - loss: 0.5310 - categorical_accuracy: 0.7500 - val_loss: 2.1049 - val_categorical_accuracy: 0.5000\n",
            "Epoch 371/600\n",
            "10/10 [==============================] - 0s 8ms/step - loss: 0.5281 - categorical_accuracy: 0.7563 - val_loss: 2.0591 - val_categorical_accuracy: 0.4875\n",
            "Epoch 372/600\n",
            "10/10 [==============================] - 0s 10ms/step - loss: 0.5238 - categorical_accuracy: 0.7250 - val_loss: 2.1009 - val_categorical_accuracy: 0.5000\n",
            "Epoch 373/600\n",
            "10/10 [==============================] - 0s 9ms/step - loss: 0.5266 - categorical_accuracy: 0.7594 - val_loss: 2.0972 - val_categorical_accuracy: 0.4875\n",
            "Epoch 374/600\n",
            "10/10 [==============================] - 0s 10ms/step - loss: 0.5321 - categorical_accuracy: 0.7375 - val_loss: 2.1256 - val_categorical_accuracy: 0.5000\n",
            "Epoch 375/600\n",
            "10/10 [==============================] - 0s 10ms/step - loss: 0.5311 - categorical_accuracy: 0.7281 - val_loss: 2.0951 - val_categorical_accuracy: 0.4875\n",
            "Epoch 376/600\n",
            "10/10 [==============================] - 0s 10ms/step - loss: 0.5215 - categorical_accuracy: 0.7375 - val_loss: 2.1033 - val_categorical_accuracy: 0.5000\n",
            "Epoch 377/600\n",
            "10/10 [==============================] - 0s 10ms/step - loss: 0.5373 - categorical_accuracy: 0.7437 - val_loss: 2.0628 - val_categorical_accuracy: 0.5125\n",
            "Epoch 378/600\n",
            "10/10 [==============================] - 0s 11ms/step - loss: 0.5335 - categorical_accuracy: 0.7375 - val_loss: 2.1164 - val_categorical_accuracy: 0.5000\n",
            "Epoch 379/600\n",
            "10/10 [==============================] - 0s 8ms/step - loss: 0.5328 - categorical_accuracy: 0.7437 - val_loss: 2.1349 - val_categorical_accuracy: 0.4750\n",
            "Epoch 380/600\n",
            "10/10 [==============================] - 0s 9ms/step - loss: 0.5227 - categorical_accuracy: 0.7563 - val_loss: 2.1330 - val_categorical_accuracy: 0.5000\n",
            "Epoch 381/600\n",
            "10/10 [==============================] - 0s 9ms/step - loss: 0.5197 - categorical_accuracy: 0.7531 - val_loss: 2.1113 - val_categorical_accuracy: 0.4750\n",
            "Epoch 382/600\n",
            "10/10 [==============================] - 0s 10ms/step - loss: 0.5273 - categorical_accuracy: 0.7406 - val_loss: 2.0965 - val_categorical_accuracy: 0.5125\n",
            "Epoch 383/600\n",
            "10/10 [==============================] - 0s 9ms/step - loss: 0.5183 - categorical_accuracy: 0.7563 - val_loss: 2.1514 - val_categorical_accuracy: 0.4625\n",
            "Epoch 384/600\n",
            "10/10 [==============================] - 0s 10ms/step - loss: 0.5254 - categorical_accuracy: 0.7406 - val_loss: 2.1436 - val_categorical_accuracy: 0.5000\n",
            "Epoch 385/600\n",
            "10/10 [==============================] - 0s 9ms/step - loss: 0.5232 - categorical_accuracy: 0.7375 - val_loss: 2.1309 - val_categorical_accuracy: 0.5000\n",
            "Epoch 386/600\n",
            "10/10 [==============================] - 0s 10ms/step - loss: 0.5267 - categorical_accuracy: 0.7563 - val_loss: 2.1370 - val_categorical_accuracy: 0.4750\n",
            "Epoch 387/600\n",
            "10/10 [==============================] - 0s 9ms/step - loss: 0.5240 - categorical_accuracy: 0.7531 - val_loss: 2.1385 - val_categorical_accuracy: 0.5000\n",
            "Epoch 388/600\n",
            "10/10 [==============================] - 0s 9ms/step - loss: 0.5213 - categorical_accuracy: 0.7406 - val_loss: 2.1453 - val_categorical_accuracy: 0.4750\n",
            "Epoch 389/600\n",
            "10/10 [==============================] - 0s 9ms/step - loss: 0.5215 - categorical_accuracy: 0.7563 - val_loss: 2.1828 - val_categorical_accuracy: 0.5000\n",
            "Epoch 390/600\n",
            "10/10 [==============================] - 0s 8ms/step - loss: 0.5187 - categorical_accuracy: 0.7469 - val_loss: 2.1532 - val_categorical_accuracy: 0.4750\n",
            "Epoch 391/600\n",
            "10/10 [==============================] - 0s 9ms/step - loss: 0.5196 - categorical_accuracy: 0.7531 - val_loss: 2.1351 - val_categorical_accuracy: 0.4750\n",
            "Epoch 392/600\n",
            "10/10 [==============================] - 0s 11ms/step - loss: 0.5254 - categorical_accuracy: 0.7344 - val_loss: 2.1713 - val_categorical_accuracy: 0.4625\n",
            "Epoch 393/600\n",
            "10/10 [==============================] - 0s 10ms/step - loss: 0.5199 - categorical_accuracy: 0.7594 - val_loss: 2.1799 - val_categorical_accuracy: 0.4875\n",
            "Epoch 394/600\n",
            "10/10 [==============================] - 0s 10ms/step - loss: 0.5197 - categorical_accuracy: 0.7437 - val_loss: 2.1562 - val_categorical_accuracy: 0.4875\n",
            "Epoch 395/600\n",
            "10/10 [==============================] - 0s 9ms/step - loss: 0.5195 - categorical_accuracy: 0.7531 - val_loss: 2.1257 - val_categorical_accuracy: 0.5000\n",
            "Epoch 396/600\n",
            "10/10 [==============================] - 0s 14ms/step - loss: 0.5235 - categorical_accuracy: 0.7469 - val_loss: 2.1807 - val_categorical_accuracy: 0.4750\n",
            "Epoch 397/600\n",
            "10/10 [==============================] - 0s 9ms/step - loss: 0.5323 - categorical_accuracy: 0.7437 - val_loss: 2.1446 - val_categorical_accuracy: 0.5125\n",
            "Epoch 398/600\n",
            "10/10 [==============================] - 0s 10ms/step - loss: 0.5313 - categorical_accuracy: 0.7406 - val_loss: 2.1896 - val_categorical_accuracy: 0.4500\n",
            "Epoch 399/600\n",
            "10/10 [==============================] - 0s 10ms/step - loss: 0.5184 - categorical_accuracy: 0.7656 - val_loss: 2.1895 - val_categorical_accuracy: 0.5125\n",
            "Epoch 400/600\n",
            "10/10 [==============================] - 0s 10ms/step - loss: 0.5179 - categorical_accuracy: 0.7469 - val_loss: 2.1782 - val_categorical_accuracy: 0.5000\n",
            "Epoch 401/600\n",
            "10/10 [==============================] - 0s 10ms/step - loss: 0.5191 - categorical_accuracy: 0.7500 - val_loss: 2.1476 - val_categorical_accuracy: 0.5000\n",
            "Epoch 402/600\n",
            "10/10 [==============================] - 0s 8ms/step - loss: 0.5155 - categorical_accuracy: 0.7406 - val_loss: 2.1981 - val_categorical_accuracy: 0.5000\n",
            "Epoch 403/600\n",
            "10/10 [==============================] - 0s 8ms/step - loss: 0.5206 - categorical_accuracy: 0.7437 - val_loss: 2.1923 - val_categorical_accuracy: 0.4875\n",
            "Epoch 404/600\n",
            "10/10 [==============================] - 0s 8ms/step - loss: 0.5130 - categorical_accuracy: 0.7437 - val_loss: 2.1602 - val_categorical_accuracy: 0.4875\n",
            "Epoch 405/600\n",
            "10/10 [==============================] - 0s 8ms/step - loss: 0.5152 - categorical_accuracy: 0.7531 - val_loss: 2.2069 - val_categorical_accuracy: 0.5000\n",
            "Epoch 406/600\n",
            "10/10 [==============================] - 0s 8ms/step - loss: 0.5178 - categorical_accuracy: 0.7406 - val_loss: 2.1953 - val_categorical_accuracy: 0.5000\n",
            "Epoch 407/600\n",
            "10/10 [==============================] - 0s 8ms/step - loss: 0.5207 - categorical_accuracy: 0.7375 - val_loss: 2.1896 - val_categorical_accuracy: 0.4750\n",
            "Epoch 408/600\n",
            "10/10 [==============================] - 0s 6ms/step - loss: 0.5179 - categorical_accuracy: 0.7406 - val_loss: 2.1890 - val_categorical_accuracy: 0.4875\n",
            "Epoch 409/600\n",
            "10/10 [==============================] - 0s 8ms/step - loss: 0.5250 - categorical_accuracy: 0.7469 - val_loss: 2.2711 - val_categorical_accuracy: 0.4625\n",
            "Epoch 410/600\n",
            "10/10 [==============================] - 0s 9ms/step - loss: 0.5341 - categorical_accuracy: 0.7281 - val_loss: 2.2184 - val_categorical_accuracy: 0.5125\n",
            "Epoch 411/600\n",
            "10/10 [==============================] - 0s 8ms/step - loss: 0.5516 - categorical_accuracy: 0.7219 - val_loss: 2.2001 - val_categorical_accuracy: 0.4500\n",
            "Epoch 412/600\n",
            "10/10 [==============================] - 0s 7ms/step - loss: 0.5294 - categorical_accuracy: 0.7344 - val_loss: 2.1365 - val_categorical_accuracy: 0.5000\n",
            "Epoch 413/600\n",
            "10/10 [==============================] - 0s 8ms/step - loss: 0.5244 - categorical_accuracy: 0.7500 - val_loss: 2.2049 - val_categorical_accuracy: 0.4875\n",
            "Epoch 414/600\n",
            "10/10 [==============================] - 0s 8ms/step - loss: 0.5155 - categorical_accuracy: 0.7531 - val_loss: 2.2011 - val_categorical_accuracy: 0.5125\n",
            "Epoch 415/600\n",
            "10/10 [==============================] - 0s 8ms/step - loss: 0.5185 - categorical_accuracy: 0.7531 - val_loss: 2.1955 - val_categorical_accuracy: 0.4625\n",
            "Epoch 416/600\n",
            "10/10 [==============================] - 0s 7ms/step - loss: 0.5175 - categorical_accuracy: 0.7531 - val_loss: 2.2198 - val_categorical_accuracy: 0.5250\n",
            "Epoch 417/600\n",
            "10/10 [==============================] - 0s 8ms/step - loss: 0.5193 - categorical_accuracy: 0.7406 - val_loss: 2.1921 - val_categorical_accuracy: 0.5000\n",
            "Epoch 418/600\n",
            "10/10 [==============================] - 0s 6ms/step - loss: 0.5186 - categorical_accuracy: 0.7500 - val_loss: 2.2470 - val_categorical_accuracy: 0.4875\n",
            "Epoch 419/600\n",
            "10/10 [==============================] - 0s 8ms/step - loss: 0.5224 - categorical_accuracy: 0.7500 - val_loss: 2.1857 - val_categorical_accuracy: 0.4875\n",
            "Epoch 420/600\n",
            "10/10 [==============================] - 0s 8ms/step - loss: 0.5202 - categorical_accuracy: 0.7469 - val_loss: 2.2143 - val_categorical_accuracy: 0.4875\n",
            "Epoch 421/600\n",
            "10/10 [==============================] - 0s 8ms/step - loss: 0.5149 - categorical_accuracy: 0.7563 - val_loss: 2.2224 - val_categorical_accuracy: 0.5000\n",
            "Epoch 422/600\n",
            "10/10 [==============================] - 0s 8ms/step - loss: 0.5159 - categorical_accuracy: 0.7344 - val_loss: 2.2243 - val_categorical_accuracy: 0.5125\n",
            "Epoch 423/600\n",
            "10/10 [==============================] - 0s 7ms/step - loss: 0.5270 - categorical_accuracy: 0.7437 - val_loss: 2.2411 - val_categorical_accuracy: 0.4750\n",
            "Epoch 424/600\n",
            "10/10 [==============================] - 0s 8ms/step - loss: 0.5242 - categorical_accuracy: 0.7469 - val_loss: 2.2319 - val_categorical_accuracy: 0.5250\n",
            "Epoch 425/600\n",
            "10/10 [==============================] - 0s 7ms/step - loss: 0.5107 - categorical_accuracy: 0.7531 - val_loss: 2.2641 - val_categorical_accuracy: 0.4625\n",
            "Epoch 426/600\n",
            "10/10 [==============================] - 0s 8ms/step - loss: 0.5226 - categorical_accuracy: 0.7531 - val_loss: 2.2221 - val_categorical_accuracy: 0.4875\n",
            "Epoch 427/600\n",
            "10/10 [==============================] - 0s 6ms/step - loss: 0.5225 - categorical_accuracy: 0.7375 - val_loss: 2.2657 - val_categorical_accuracy: 0.4625\n",
            "Epoch 428/600\n",
            "10/10 [==============================] - 0s 7ms/step - loss: 0.5155 - categorical_accuracy: 0.7469 - val_loss: 2.1986 - val_categorical_accuracy: 0.5125\n",
            "Epoch 429/600\n",
            "10/10 [==============================] - 0s 7ms/step - loss: 0.5128 - categorical_accuracy: 0.7625 - val_loss: 2.2548 - val_categorical_accuracy: 0.4500\n",
            "Epoch 430/600\n",
            "10/10 [==============================] - 0s 8ms/step - loss: 0.5195 - categorical_accuracy: 0.7250 - val_loss: 2.2614 - val_categorical_accuracy: 0.5000\n",
            "Epoch 431/600\n",
            "10/10 [==============================] - 0s 7ms/step - loss: 0.5612 - categorical_accuracy: 0.7125 - val_loss: 2.3131 - val_categorical_accuracy: 0.4500\n",
            "Epoch 432/600\n",
            "10/10 [==============================] - 0s 7ms/step - loss: 0.5331 - categorical_accuracy: 0.7281 - val_loss: 2.2783 - val_categorical_accuracy: 0.4875\n",
            "Epoch 433/600\n",
            "10/10 [==============================] - 0s 7ms/step - loss: 0.5202 - categorical_accuracy: 0.7406 - val_loss: 2.2163 - val_categorical_accuracy: 0.5125\n",
            "Epoch 434/600\n",
            "10/10 [==============================] - 0s 7ms/step - loss: 0.5169 - categorical_accuracy: 0.7469 - val_loss: 2.3050 - val_categorical_accuracy: 0.4875\n",
            "Epoch 435/600\n",
            "10/10 [==============================] - 0s 9ms/step - loss: 0.5222 - categorical_accuracy: 0.7375 - val_loss: 2.2351 - val_categorical_accuracy: 0.5125\n",
            "Epoch 436/600\n",
            "10/10 [==============================] - 0s 8ms/step - loss: 0.5142 - categorical_accuracy: 0.7531 - val_loss: 2.2529 - val_categorical_accuracy: 0.4875\n",
            "Epoch 437/600\n",
            "10/10 [==============================] - 0s 9ms/step - loss: 0.5059 - categorical_accuracy: 0.7531 - val_loss: 2.2732 - val_categorical_accuracy: 0.5125\n",
            "Epoch 438/600\n",
            "10/10 [==============================] - 0s 8ms/step - loss: 0.5244 - categorical_accuracy: 0.7406 - val_loss: 2.2648 - val_categorical_accuracy: 0.4750\n",
            "Epoch 439/600\n",
            "10/10 [==============================] - 0s 8ms/step - loss: 0.5318 - categorical_accuracy: 0.7312 - val_loss: 2.2810 - val_categorical_accuracy: 0.5000\n",
            "Epoch 440/600\n",
            "10/10 [==============================] - 0s 8ms/step - loss: 0.5270 - categorical_accuracy: 0.7469 - val_loss: 2.3302 - val_categorical_accuracy: 0.4500\n",
            "Epoch 441/600\n",
            "10/10 [==============================] - 0s 7ms/step - loss: 0.5116 - categorical_accuracy: 0.7469 - val_loss: 2.2327 - val_categorical_accuracy: 0.4875\n",
            "Epoch 442/600\n",
            "10/10 [==============================] - 0s 7ms/step - loss: 0.5178 - categorical_accuracy: 0.7500 - val_loss: 2.2556 - val_categorical_accuracy: 0.5250\n",
            "Epoch 443/600\n",
            "10/10 [==============================] - 0s 7ms/step - loss: 0.5116 - categorical_accuracy: 0.7437 - val_loss: 2.2754 - val_categorical_accuracy: 0.4750\n",
            "Epoch 444/600\n",
            "10/10 [==============================] - 0s 6ms/step - loss: 0.5190 - categorical_accuracy: 0.7500 - val_loss: 2.2565 - val_categorical_accuracy: 0.4750\n",
            "Epoch 445/600\n",
            "10/10 [==============================] - 0s 6ms/step - loss: 0.5093 - categorical_accuracy: 0.7437 - val_loss: 2.3658 - val_categorical_accuracy: 0.4875\n",
            "Epoch 446/600\n",
            "10/10 [==============================] - 0s 7ms/step - loss: 0.5100 - categorical_accuracy: 0.7656 - val_loss: 2.2543 - val_categorical_accuracy: 0.4875\n",
            "Epoch 447/600\n",
            "10/10 [==============================] - 0s 7ms/step - loss: 0.5023 - categorical_accuracy: 0.7625 - val_loss: 2.2644 - val_categorical_accuracy: 0.5000\n",
            "Epoch 448/600\n",
            "10/10 [==============================] - 0s 9ms/step - loss: 0.5162 - categorical_accuracy: 0.7563 - val_loss: 2.3271 - val_categorical_accuracy: 0.5000\n",
            "Epoch 449/600\n",
            "10/10 [==============================] - 0s 6ms/step - loss: 0.5097 - categorical_accuracy: 0.7312 - val_loss: 2.2773 - val_categorical_accuracy: 0.4875\n",
            "Epoch 450/600\n",
            "10/10 [==============================] - 0s 6ms/step - loss: 0.5182 - categorical_accuracy: 0.7500 - val_loss: 2.3235 - val_categorical_accuracy: 0.4750\n",
            "Epoch 451/600\n",
            "10/10 [==============================] - 0s 6ms/step - loss: 0.5216 - categorical_accuracy: 0.7406 - val_loss: 2.2809 - val_categorical_accuracy: 0.5000\n",
            "Epoch 452/600\n",
            "10/10 [==============================] - 0s 8ms/step - loss: 0.5111 - categorical_accuracy: 0.7469 - val_loss: 2.2969 - val_categorical_accuracy: 0.4875\n",
            "Epoch 453/600\n",
            "10/10 [==============================] - 0s 8ms/step - loss: 0.5180 - categorical_accuracy: 0.7469 - val_loss: 2.3316 - val_categorical_accuracy: 0.4750\n",
            "Epoch 454/600\n",
            "10/10 [==============================] - 0s 8ms/step - loss: 0.5080 - categorical_accuracy: 0.7406 - val_loss: 2.3027 - val_categorical_accuracy: 0.5125\n",
            "Epoch 455/600\n",
            "10/10 [==============================] - 0s 6ms/step - loss: 0.5165 - categorical_accuracy: 0.7469 - val_loss: 2.3229 - val_categorical_accuracy: 0.5000\n",
            "Epoch 456/600\n",
            "10/10 [==============================] - 0s 8ms/step - loss: 0.5059 - categorical_accuracy: 0.7594 - val_loss: 2.3447 - val_categorical_accuracy: 0.5000\n",
            "Epoch 457/600\n",
            "10/10 [==============================] - 0s 8ms/step - loss: 0.5049 - categorical_accuracy: 0.7469 - val_loss: 2.3151 - val_categorical_accuracy: 0.4750\n",
            "Epoch 458/600\n",
            "10/10 [==============================] - 0s 6ms/step - loss: 0.5122 - categorical_accuracy: 0.7437 - val_loss: 2.2867 - val_categorical_accuracy: 0.4875\n",
            "Epoch 459/600\n",
            "10/10 [==============================] - 0s 6ms/step - loss: 0.5106 - categorical_accuracy: 0.7375 - val_loss: 2.3211 - val_categorical_accuracy: 0.5000\n",
            "Epoch 460/600\n",
            "10/10 [==============================] - 0s 9ms/step - loss: 0.5037 - categorical_accuracy: 0.7563 - val_loss: 2.3264 - val_categorical_accuracy: 0.5000\n",
            "Epoch 461/600\n",
            "10/10 [==============================] - 0s 8ms/step - loss: 0.5004 - categorical_accuracy: 0.7625 - val_loss: 2.3115 - val_categorical_accuracy: 0.4750\n",
            "Epoch 462/600\n",
            "10/10 [==============================] - 0s 8ms/step - loss: 0.5016 - categorical_accuracy: 0.7656 - val_loss: 2.3184 - val_categorical_accuracy: 0.5125\n",
            "Epoch 463/600\n",
            "10/10 [==============================] - 0s 6ms/step - loss: 0.5121 - categorical_accuracy: 0.7344 - val_loss: 2.3330 - val_categorical_accuracy: 0.5125\n",
            "Epoch 464/600\n",
            "10/10 [==============================] - 0s 8ms/step - loss: 0.5022 - categorical_accuracy: 0.7563 - val_loss: 2.3379 - val_categorical_accuracy: 0.5125\n",
            "Epoch 465/600\n",
            "10/10 [==============================] - 0s 8ms/step - loss: 0.5059 - categorical_accuracy: 0.7375 - val_loss: 2.3316 - val_categorical_accuracy: 0.5125\n",
            "Epoch 466/600\n",
            "10/10 [==============================] - 0s 6ms/step - loss: 0.5155 - categorical_accuracy: 0.7406 - val_loss: 2.3325 - val_categorical_accuracy: 0.4875\n",
            "Epoch 467/600\n",
            "10/10 [==============================] - 0s 9ms/step - loss: 0.5070 - categorical_accuracy: 0.7406 - val_loss: 2.3865 - val_categorical_accuracy: 0.4500\n",
            "Epoch 468/600\n",
            "10/10 [==============================] - 0s 7ms/step - loss: 0.5065 - categorical_accuracy: 0.7594 - val_loss: 2.3474 - val_categorical_accuracy: 0.5000\n",
            "Epoch 469/600\n",
            "10/10 [==============================] - 0s 7ms/step - loss: 0.5113 - categorical_accuracy: 0.7469 - val_loss: 2.3834 - val_categorical_accuracy: 0.4875\n",
            "Epoch 470/600\n",
            "10/10 [==============================] - 0s 9ms/step - loss: 0.5116 - categorical_accuracy: 0.7500 - val_loss: 2.3324 - val_categorical_accuracy: 0.5000\n",
            "Epoch 471/600\n",
            "10/10 [==============================] - 0s 6ms/step - loss: 0.5092 - categorical_accuracy: 0.7281 - val_loss: 2.3733 - val_categorical_accuracy: 0.5000\n",
            "Epoch 472/600\n",
            "10/10 [==============================] - 0s 7ms/step - loss: 0.5046 - categorical_accuracy: 0.7594 - val_loss: 2.3389 - val_categorical_accuracy: 0.5000\n",
            "Epoch 473/600\n",
            "10/10 [==============================] - 0s 8ms/step - loss: 0.5166 - categorical_accuracy: 0.7094 - val_loss: 2.3743 - val_categorical_accuracy: 0.5000\n",
            "Epoch 474/600\n",
            "10/10 [==============================] - 0s 8ms/step - loss: 0.5082 - categorical_accuracy: 0.7563 - val_loss: 2.3820 - val_categorical_accuracy: 0.4875\n",
            "Epoch 475/600\n",
            "10/10 [==============================] - 0s 7ms/step - loss: 0.5037 - categorical_accuracy: 0.7500 - val_loss: 2.3765 - val_categorical_accuracy: 0.4750\n",
            "Epoch 476/600\n",
            "10/10 [==============================] - 0s 8ms/step - loss: 0.5031 - categorical_accuracy: 0.7625 - val_loss: 2.3789 - val_categorical_accuracy: 0.5125\n",
            "Epoch 477/600\n",
            "10/10 [==============================] - 0s 8ms/step - loss: 0.5155 - categorical_accuracy: 0.7406 - val_loss: 2.4003 - val_categorical_accuracy: 0.5000\n",
            "Epoch 478/600\n",
            "10/10 [==============================] - 0s 8ms/step - loss: 0.5062 - categorical_accuracy: 0.7469 - val_loss: 2.3112 - val_categorical_accuracy: 0.5125\n",
            "Epoch 479/600\n",
            "10/10 [==============================] - 0s 8ms/step - loss: 0.4994 - categorical_accuracy: 0.7531 - val_loss: 2.4073 - val_categorical_accuracy: 0.5000\n",
            "Epoch 480/600\n",
            "10/10 [==============================] - 0s 7ms/step - loss: 0.5022 - categorical_accuracy: 0.7688 - val_loss: 2.3640 - val_categorical_accuracy: 0.4750\n",
            "Epoch 481/600\n",
            "10/10 [==============================] - 0s 8ms/step - loss: 0.4966 - categorical_accuracy: 0.7625 - val_loss: 2.3741 - val_categorical_accuracy: 0.4875\n",
            "Epoch 482/600\n",
            "10/10 [==============================] - 0s 7ms/step - loss: 0.5028 - categorical_accuracy: 0.7406 - val_loss: 2.4001 - val_categorical_accuracy: 0.5000\n",
            "Epoch 483/600\n",
            "10/10 [==============================] - 0s 8ms/step - loss: 0.5071 - categorical_accuracy: 0.7563 - val_loss: 2.4188 - val_categorical_accuracy: 0.4875\n",
            "Epoch 484/600\n",
            "10/10 [==============================] - 0s 7ms/step - loss: 0.5020 - categorical_accuracy: 0.7500 - val_loss: 2.3600 - val_categorical_accuracy: 0.5250\n",
            "Epoch 485/600\n",
            "10/10 [==============================] - 0s 7ms/step - loss: 0.5029 - categorical_accuracy: 0.7594 - val_loss: 2.3622 - val_categorical_accuracy: 0.4875\n",
            "Epoch 486/600\n",
            "10/10 [==============================] - 0s 7ms/step - loss: 0.5078 - categorical_accuracy: 0.7563 - val_loss: 2.4560 - val_categorical_accuracy: 0.5000\n",
            "Epoch 487/600\n",
            "10/10 [==============================] - 0s 7ms/step - loss: 0.5091 - categorical_accuracy: 0.7437 - val_loss: 2.4072 - val_categorical_accuracy: 0.5000\n",
            "Epoch 488/600\n",
            "10/10 [==============================] - 0s 8ms/step - loss: 0.4991 - categorical_accuracy: 0.7531 - val_loss: 2.4432 - val_categorical_accuracy: 0.5125\n",
            "Epoch 489/600\n",
            "10/10 [==============================] - 0s 7ms/step - loss: 0.4991 - categorical_accuracy: 0.7625 - val_loss: 2.3946 - val_categorical_accuracy: 0.4625\n",
            "Epoch 490/600\n",
            "10/10 [==============================] - 0s 6ms/step - loss: 0.5146 - categorical_accuracy: 0.7406 - val_loss: 2.4456 - val_categorical_accuracy: 0.5000\n",
            "Epoch 491/600\n",
            "10/10 [==============================] - 0s 8ms/step - loss: 0.5222 - categorical_accuracy: 0.7375 - val_loss: 2.4277 - val_categorical_accuracy: 0.4750\n",
            "Epoch 492/600\n",
            "10/10 [==============================] - 0s 9ms/step - loss: 0.5008 - categorical_accuracy: 0.7625 - val_loss: 2.3468 - val_categorical_accuracy: 0.5250\n",
            "Epoch 493/600\n",
            "10/10 [==============================] - 0s 6ms/step - loss: 0.4967 - categorical_accuracy: 0.7563 - val_loss: 2.4341 - val_categorical_accuracy: 0.4875\n",
            "Epoch 494/600\n",
            "10/10 [==============================] - 0s 7ms/step - loss: 0.4949 - categorical_accuracy: 0.7688 - val_loss: 2.4027 - val_categorical_accuracy: 0.5125\n",
            "Epoch 495/600\n",
            "10/10 [==============================] - 0s 7ms/step - loss: 0.5011 - categorical_accuracy: 0.7531 - val_loss: 2.3847 - val_categorical_accuracy: 0.5000\n",
            "Epoch 496/600\n",
            "10/10 [==============================] - 0s 8ms/step - loss: 0.5041 - categorical_accuracy: 0.7437 - val_loss: 2.4239 - val_categorical_accuracy: 0.5000\n",
            "Epoch 497/600\n",
            "10/10 [==============================] - 0s 8ms/step - loss: 0.5009 - categorical_accuracy: 0.7625 - val_loss: 2.3935 - val_categorical_accuracy: 0.4875\n",
            "Epoch 498/600\n",
            "10/10 [==============================] - 0s 7ms/step - loss: 0.4999 - categorical_accuracy: 0.7563 - val_loss: 2.4484 - val_categorical_accuracy: 0.4875\n",
            "Epoch 499/600\n",
            "10/10 [==============================] - 0s 8ms/step - loss: 0.5029 - categorical_accuracy: 0.7563 - val_loss: 2.4548 - val_categorical_accuracy: 0.5000\n",
            "Epoch 500/600\n",
            "10/10 [==============================] - 0s 7ms/step - loss: 0.4957 - categorical_accuracy: 0.7531 - val_loss: 2.4281 - val_categorical_accuracy: 0.4875\n",
            "Epoch 501/600\n",
            "10/10 [==============================] - 0s 7ms/step - loss: 0.5066 - categorical_accuracy: 0.7469 - val_loss: 2.4226 - val_categorical_accuracy: 0.5000\n",
            "Epoch 502/600\n",
            "10/10 [==============================] - 0s 6ms/step - loss: 0.4970 - categorical_accuracy: 0.7563 - val_loss: 2.4029 - val_categorical_accuracy: 0.4750\n",
            "Epoch 503/600\n",
            "10/10 [==============================] - 0s 8ms/step - loss: 0.4981 - categorical_accuracy: 0.7406 - val_loss: 2.4420 - val_categorical_accuracy: 0.5125\n",
            "Epoch 504/600\n",
            "10/10 [==============================] - 0s 8ms/step - loss: 0.4922 - categorical_accuracy: 0.7563 - val_loss: 2.4045 - val_categorical_accuracy: 0.4875\n",
            "Epoch 505/600\n",
            "10/10 [==============================] - 0s 7ms/step - loss: 0.5048 - categorical_accuracy: 0.7594 - val_loss: 2.4509 - val_categorical_accuracy: 0.4750\n",
            "Epoch 506/600\n",
            "10/10 [==============================] - 0s 9ms/step - loss: 0.4890 - categorical_accuracy: 0.7656 - val_loss: 2.4289 - val_categorical_accuracy: 0.5000\n",
            "Epoch 507/600\n",
            "10/10 [==============================] - 0s 7ms/step - loss: 0.4962 - categorical_accuracy: 0.7563 - val_loss: 2.4545 - val_categorical_accuracy: 0.5000\n",
            "Epoch 508/600\n",
            "10/10 [==============================] - 0s 6ms/step - loss: 0.5071 - categorical_accuracy: 0.7531 - val_loss: 2.4653 - val_categorical_accuracy: 0.5000\n",
            "Epoch 509/600\n",
            "10/10 [==============================] - 0s 7ms/step - loss: 0.5072 - categorical_accuracy: 0.7625 - val_loss: 2.4396 - val_categorical_accuracy: 0.4875\n",
            "Epoch 510/600\n",
            "10/10 [==============================] - 0s 7ms/step - loss: 0.4961 - categorical_accuracy: 0.7531 - val_loss: 2.4622 - val_categorical_accuracy: 0.5000\n",
            "Epoch 511/600\n",
            "10/10 [==============================] - 0s 9ms/step - loss: 0.5036 - categorical_accuracy: 0.7469 - val_loss: 2.4376 - val_categorical_accuracy: 0.5000\n",
            "Epoch 512/600\n",
            "10/10 [==============================] - 0s 8ms/step - loss: 0.4951 - categorical_accuracy: 0.7500 - val_loss: 2.4949 - val_categorical_accuracy: 0.4875\n",
            "Epoch 513/600\n",
            "10/10 [==============================] - 0s 6ms/step - loss: 0.4923 - categorical_accuracy: 0.7531 - val_loss: 2.4737 - val_categorical_accuracy: 0.4625\n",
            "Epoch 514/600\n",
            "10/10 [==============================] - 0s 7ms/step - loss: 0.4975 - categorical_accuracy: 0.7531 - val_loss: 2.4839 - val_categorical_accuracy: 0.4625\n",
            "Epoch 515/600\n",
            "10/10 [==============================] - 0s 8ms/step - loss: 0.4931 - categorical_accuracy: 0.7563 - val_loss: 2.4950 - val_categorical_accuracy: 0.5125\n",
            "Epoch 516/600\n",
            "10/10 [==============================] - 0s 8ms/step - loss: 0.5005 - categorical_accuracy: 0.7594 - val_loss: 2.4613 - val_categorical_accuracy: 0.4875\n",
            "Epoch 517/600\n",
            "10/10 [==============================] - 0s 7ms/step - loss: 0.5041 - categorical_accuracy: 0.7469 - val_loss: 2.4726 - val_categorical_accuracy: 0.4750\n",
            "Epoch 518/600\n",
            "10/10 [==============================] - 0s 8ms/step - loss: 0.5003 - categorical_accuracy: 0.7344 - val_loss: 2.4777 - val_categorical_accuracy: 0.5000\n",
            "Epoch 519/600\n",
            "10/10 [==============================] - 0s 6ms/step - loss: 0.5264 - categorical_accuracy: 0.7344 - val_loss: 2.4780 - val_categorical_accuracy: 0.4875\n",
            "Epoch 520/600\n",
            "10/10 [==============================] - 0s 7ms/step - loss: 0.5214 - categorical_accuracy: 0.7406 - val_loss: 2.5124 - val_categorical_accuracy: 0.5000\n",
            "Epoch 521/600\n",
            "10/10 [==============================] - 0s 7ms/step - loss: 0.5120 - categorical_accuracy: 0.7469 - val_loss: 2.4466 - val_categorical_accuracy: 0.4625\n",
            "Epoch 522/600\n",
            "10/10 [==============================] - 0s 8ms/step - loss: 0.5117 - categorical_accuracy: 0.7500 - val_loss: 2.5028 - val_categorical_accuracy: 0.5250\n",
            "Epoch 523/600\n",
            "10/10 [==============================] - 0s 8ms/step - loss: 0.5074 - categorical_accuracy: 0.7344 - val_loss: 2.5508 - val_categorical_accuracy: 0.4500\n",
            "Epoch 524/600\n",
            "10/10 [==============================] - 0s 9ms/step - loss: 0.5125 - categorical_accuracy: 0.7437 - val_loss: 2.3980 - val_categorical_accuracy: 0.5125\n",
            "Epoch 525/600\n",
            "10/10 [==============================] - 0s 10ms/step - loss: 0.4978 - categorical_accuracy: 0.7531 - val_loss: 2.4944 - val_categorical_accuracy: 0.5000\n",
            "Epoch 526/600\n",
            "10/10 [==============================] - 0s 10ms/step - loss: 0.5003 - categorical_accuracy: 0.7656 - val_loss: 2.5026 - val_categorical_accuracy: 0.5000\n",
            "Epoch 527/600\n",
            "10/10 [==============================] - 0s 10ms/step - loss: 0.4946 - categorical_accuracy: 0.7281 - val_loss: 2.4698 - val_categorical_accuracy: 0.5000\n",
            "Epoch 528/600\n",
            "10/10 [==============================] - 0s 10ms/step - loss: 0.5110 - categorical_accuracy: 0.7500 - val_loss: 2.5593 - val_categorical_accuracy: 0.4750\n",
            "Epoch 529/600\n",
            "10/10 [==============================] - 0s 10ms/step - loss: 0.5222 - categorical_accuracy: 0.7219 - val_loss: 2.4466 - val_categorical_accuracy: 0.5000\n",
            "Epoch 530/600\n",
            "10/10 [==============================] - 0s 10ms/step - loss: 0.5401 - categorical_accuracy: 0.7250 - val_loss: 2.4697 - val_categorical_accuracy: 0.5000\n",
            "Epoch 531/600\n",
            "10/10 [==============================] - 0s 9ms/step - loss: 0.5099 - categorical_accuracy: 0.7531 - val_loss: 2.4204 - val_categorical_accuracy: 0.5125\n",
            "Epoch 532/600\n",
            "10/10 [==============================] - 0s 9ms/step - loss: 0.4993 - categorical_accuracy: 0.7437 - val_loss: 2.5022 - val_categorical_accuracy: 0.5000\n",
            "Epoch 533/600\n",
            "10/10 [==============================] - 0s 10ms/step - loss: 0.4999 - categorical_accuracy: 0.7625 - val_loss: 2.4869 - val_categorical_accuracy: 0.5125\n",
            "Epoch 534/600\n",
            "10/10 [==============================] - 0s 12ms/step - loss: 0.4943 - categorical_accuracy: 0.7500 - val_loss: 2.4632 - val_categorical_accuracy: 0.4875\n",
            "Epoch 535/600\n",
            "10/10 [==============================] - 0s 11ms/step - loss: 0.5176 - categorical_accuracy: 0.7250 - val_loss: 2.4878 - val_categorical_accuracy: 0.5250\n",
            "Epoch 536/600\n",
            "10/10 [==============================] - 0s 8ms/step - loss: 0.5150 - categorical_accuracy: 0.7594 - val_loss: 2.4861 - val_categorical_accuracy: 0.5000\n",
            "Epoch 537/600\n",
            "10/10 [==============================] - 0s 9ms/step - loss: 0.4970 - categorical_accuracy: 0.7594 - val_loss: 2.5089 - val_categorical_accuracy: 0.4875\n",
            "Epoch 538/600\n",
            "10/10 [==============================] - 0s 9ms/step - loss: 0.4957 - categorical_accuracy: 0.7500 - val_loss: 2.4807 - val_categorical_accuracy: 0.4750\n",
            "Epoch 539/600\n",
            "10/10 [==============================] - 0s 10ms/step - loss: 0.4952 - categorical_accuracy: 0.7469 - val_loss: 2.5248 - val_categorical_accuracy: 0.4875\n",
            "Epoch 540/600\n",
            "10/10 [==============================] - 0s 9ms/step - loss: 0.4920 - categorical_accuracy: 0.7531 - val_loss: 2.4979 - val_categorical_accuracy: 0.4750\n",
            "Epoch 541/600\n",
            "10/10 [==============================] - 0s 8ms/step - loss: 0.4892 - categorical_accuracy: 0.7531 - val_loss: 2.5215 - val_categorical_accuracy: 0.4750\n",
            "Epoch 542/600\n",
            "10/10 [==============================] - 0s 10ms/step - loss: 0.4970 - categorical_accuracy: 0.7500 - val_loss: 2.4429 - val_categorical_accuracy: 0.5250\n",
            "Epoch 543/600\n",
            "10/10 [==============================] - 0s 11ms/step - loss: 0.4907 - categorical_accuracy: 0.7500 - val_loss: 2.5834 - val_categorical_accuracy: 0.4625\n",
            "Epoch 544/600\n",
            "10/10 [==============================] - 0s 11ms/step - loss: 0.4910 - categorical_accuracy: 0.7625 - val_loss: 2.5037 - val_categorical_accuracy: 0.5125\n",
            "Epoch 545/600\n",
            "10/10 [==============================] - 0s 9ms/step - loss: 0.4913 - categorical_accuracy: 0.7625 - val_loss: 2.4959 - val_categorical_accuracy: 0.4875\n",
            "Epoch 546/600\n",
            "10/10 [==============================] - 0s 9ms/step - loss: 0.4999 - categorical_accuracy: 0.7500 - val_loss: 2.5807 - val_categorical_accuracy: 0.5125\n",
            "Epoch 547/600\n",
            "10/10 [==============================] - 0s 9ms/step - loss: 0.4927 - categorical_accuracy: 0.7531 - val_loss: 2.5239 - val_categorical_accuracy: 0.4750\n",
            "Epoch 548/600\n",
            "10/10 [==============================] - 0s 10ms/step - loss: 0.4908 - categorical_accuracy: 0.7563 - val_loss: 2.5245 - val_categorical_accuracy: 0.4875\n",
            "Epoch 549/600\n",
            "10/10 [==============================] - 0s 10ms/step - loss: 0.4953 - categorical_accuracy: 0.7469 - val_loss: 2.5135 - val_categorical_accuracy: 0.5000\n",
            "Epoch 550/600\n",
            "10/10 [==============================] - 0s 10ms/step - loss: 0.4852 - categorical_accuracy: 0.7656 - val_loss: 2.5519 - val_categorical_accuracy: 0.4875\n",
            "Epoch 551/600\n",
            "10/10 [==============================] - 0s 10ms/step - loss: 0.5044 - categorical_accuracy: 0.7531 - val_loss: 2.6071 - val_categorical_accuracy: 0.4750\n",
            "Epoch 552/600\n",
            "10/10 [==============================] - 0s 9ms/step - loss: 0.4954 - categorical_accuracy: 0.7375 - val_loss: 2.5788 - val_categorical_accuracy: 0.5000\n",
            "Epoch 553/600\n",
            "10/10 [==============================] - 0s 11ms/step - loss: 0.5068 - categorical_accuracy: 0.7625 - val_loss: 2.5166 - val_categorical_accuracy: 0.4875\n",
            "Epoch 554/600\n",
            "10/10 [==============================] - 0s 10ms/step - loss: 0.5084 - categorical_accuracy: 0.7563 - val_loss: 2.4620 - val_categorical_accuracy: 0.5125\n",
            "Epoch 555/600\n",
            "10/10 [==============================] - 0s 12ms/step - loss: 0.5080 - categorical_accuracy: 0.7594 - val_loss: 2.5203 - val_categorical_accuracy: 0.4875\n",
            "Epoch 556/600\n",
            "10/10 [==============================] - 0s 9ms/step - loss: 0.5107 - categorical_accuracy: 0.7375 - val_loss: 2.5405 - val_categorical_accuracy: 0.5125\n",
            "Epoch 557/600\n",
            "10/10 [==============================] - 0s 9ms/step - loss: 0.5031 - categorical_accuracy: 0.7281 - val_loss: 2.5487 - val_categorical_accuracy: 0.4750\n",
            "Epoch 558/600\n",
            "10/10 [==============================] - 0s 8ms/step - loss: 0.4924 - categorical_accuracy: 0.7469 - val_loss: 2.6159 - val_categorical_accuracy: 0.4875\n",
            "Epoch 559/600\n",
            "10/10 [==============================] - 0s 9ms/step - loss: 0.4859 - categorical_accuracy: 0.7531 - val_loss: 2.5771 - val_categorical_accuracy: 0.4875\n",
            "Epoch 560/600\n",
            "10/10 [==============================] - 0s 8ms/step - loss: 0.4902 - categorical_accuracy: 0.7656 - val_loss: 2.5606 - val_categorical_accuracy: 0.4750\n",
            "Epoch 561/600\n",
            "10/10 [==============================] - 0s 11ms/step - loss: 0.4935 - categorical_accuracy: 0.7594 - val_loss: 2.5332 - val_categorical_accuracy: 0.4875\n",
            "Epoch 562/600\n",
            "10/10 [==============================] - 0s 10ms/step - loss: 0.4899 - categorical_accuracy: 0.7688 - val_loss: 2.4976 - val_categorical_accuracy: 0.5000\n",
            "Epoch 563/600\n",
            "10/10 [==============================] - 0s 10ms/step - loss: 0.4906 - categorical_accuracy: 0.7437 - val_loss: 2.5585 - val_categorical_accuracy: 0.4750\n",
            "Epoch 564/600\n",
            "10/10 [==============================] - 0s 11ms/step - loss: 0.4912 - categorical_accuracy: 0.7531 - val_loss: 2.5880 - val_categorical_accuracy: 0.5000\n",
            "Epoch 565/600\n",
            "10/10 [==============================] - 0s 10ms/step - loss: 0.4916 - categorical_accuracy: 0.7344 - val_loss: 2.5601 - val_categorical_accuracy: 0.4625\n",
            "Epoch 566/600\n",
            "10/10 [==============================] - 0s 10ms/step - loss: 0.4942 - categorical_accuracy: 0.7594 - val_loss: 2.5204 - val_categorical_accuracy: 0.5000\n",
            "Epoch 567/600\n",
            "10/10 [==============================] - 0s 10ms/step - loss: 0.4895 - categorical_accuracy: 0.7625 - val_loss: 2.5676 - val_categorical_accuracy: 0.5125\n",
            "Epoch 568/600\n",
            "10/10 [==============================] - 0s 9ms/step - loss: 0.4924 - categorical_accuracy: 0.7625 - val_loss: 2.5835 - val_categorical_accuracy: 0.4625\n",
            "Epoch 569/600\n",
            "10/10 [==============================] - 0s 10ms/step - loss: 0.5035 - categorical_accuracy: 0.7594 - val_loss: 2.5599 - val_categorical_accuracy: 0.4875\n",
            "Epoch 570/600\n",
            "10/10 [==============================] - 0s 9ms/step - loss: 0.4952 - categorical_accuracy: 0.7531 - val_loss: 2.6120 - val_categorical_accuracy: 0.4875\n",
            "Epoch 571/600\n",
            "10/10 [==============================] - 0s 7ms/step - loss: 0.4991 - categorical_accuracy: 0.7563 - val_loss: 2.5211 - val_categorical_accuracy: 0.4750\n",
            "Epoch 572/600\n",
            "10/10 [==============================] - 0s 9ms/step - loss: 0.4919 - categorical_accuracy: 0.7531 - val_loss: 2.5387 - val_categorical_accuracy: 0.5000\n",
            "Epoch 573/600\n",
            "10/10 [==============================] - 0s 9ms/step - loss: 0.4871 - categorical_accuracy: 0.7500 - val_loss: 2.6031 - val_categorical_accuracy: 0.4750\n",
            "Epoch 574/600\n",
            "10/10 [==============================] - 0s 9ms/step - loss: 0.4959 - categorical_accuracy: 0.7531 - val_loss: 2.6062 - val_categorical_accuracy: 0.5000\n",
            "Epoch 575/600\n",
            "10/10 [==============================] - 0s 7ms/step - loss: 0.4979 - categorical_accuracy: 0.7531 - val_loss: 2.5426 - val_categorical_accuracy: 0.4625\n",
            "Epoch 576/600\n",
            "10/10 [==============================] - 0s 8ms/step - loss: 0.4923 - categorical_accuracy: 0.7531 - val_loss: 2.5661 - val_categorical_accuracy: 0.5000\n",
            "Epoch 577/600\n",
            "10/10 [==============================] - 0s 8ms/step - loss: 0.4848 - categorical_accuracy: 0.7688 - val_loss: 2.5886 - val_categorical_accuracy: 0.4875\n",
            "Epoch 578/600\n",
            "10/10 [==============================] - 0s 7ms/step - loss: 0.4908 - categorical_accuracy: 0.7594 - val_loss: 2.6233 - val_categorical_accuracy: 0.5250\n",
            "Epoch 579/600\n",
            "10/10 [==============================] - 0s 7ms/step - loss: 0.4911 - categorical_accuracy: 0.7437 - val_loss: 2.5952 - val_categorical_accuracy: 0.4875\n",
            "Epoch 580/600\n",
            "10/10 [==============================] - 0s 8ms/step - loss: 0.4897 - categorical_accuracy: 0.7594 - val_loss: 2.6153 - val_categorical_accuracy: 0.5125\n",
            "Epoch 581/600\n",
            "10/10 [==============================] - 0s 8ms/step - loss: 0.4960 - categorical_accuracy: 0.7625 - val_loss: 2.6088 - val_categorical_accuracy: 0.4875\n",
            "Epoch 582/600\n",
            "10/10 [==============================] - 0s 8ms/step - loss: 0.5011 - categorical_accuracy: 0.7344 - val_loss: 2.6136 - val_categorical_accuracy: 0.5000\n",
            "Epoch 583/600\n",
            "10/10 [==============================] - 0s 7ms/step - loss: 0.4932 - categorical_accuracy: 0.7594 - val_loss: 2.5807 - val_categorical_accuracy: 0.4875\n",
            "Epoch 584/600\n",
            "10/10 [==============================] - 0s 7ms/step - loss: 0.4913 - categorical_accuracy: 0.7563 - val_loss: 2.6852 - val_categorical_accuracy: 0.4875\n",
            "Epoch 585/600\n",
            "10/10 [==============================] - 0s 8ms/step - loss: 0.4939 - categorical_accuracy: 0.7625 - val_loss: 2.6356 - val_categorical_accuracy: 0.4625\n",
            "Epoch 586/600\n",
            "10/10 [==============================] - 0s 8ms/step - loss: 0.4862 - categorical_accuracy: 0.7812 - val_loss: 2.6339 - val_categorical_accuracy: 0.5000\n",
            "Epoch 587/600\n",
            "10/10 [==============================] - 0s 8ms/step - loss: 0.4989 - categorical_accuracy: 0.7563 - val_loss: 2.5889 - val_categorical_accuracy: 0.4750\n",
            "Epoch 588/600\n",
            "10/10 [==============================] - 0s 7ms/step - loss: 0.4902 - categorical_accuracy: 0.7719 - val_loss: 2.6351 - val_categorical_accuracy: 0.4750\n",
            "Epoch 589/600\n",
            "10/10 [==============================] - 0s 8ms/step - loss: 0.4915 - categorical_accuracy: 0.7531 - val_loss: 2.6148 - val_categorical_accuracy: 0.4875\n",
            "Epoch 590/600\n",
            "10/10 [==============================] - 0s 9ms/step - loss: 0.4832 - categorical_accuracy: 0.7656 - val_loss: 2.6036 - val_categorical_accuracy: 0.5125\n",
            "Epoch 591/600\n",
            "10/10 [==============================] - 0s 7ms/step - loss: 0.4895 - categorical_accuracy: 0.7594 - val_loss: 2.6943 - val_categorical_accuracy: 0.4625\n",
            "Epoch 592/600\n",
            "10/10 [==============================] - 0s 8ms/step - loss: 0.4855 - categorical_accuracy: 0.7500 - val_loss: 2.6653 - val_categorical_accuracy: 0.4750\n",
            "Epoch 593/600\n",
            "10/10 [==============================] - 0s 8ms/step - loss: 0.4906 - categorical_accuracy: 0.7625 - val_loss: 2.6302 - val_categorical_accuracy: 0.4875\n",
            "Epoch 594/600\n",
            "10/10 [==============================] - 0s 8ms/step - loss: 0.4832 - categorical_accuracy: 0.7563 - val_loss: 2.6382 - val_categorical_accuracy: 0.5125\n",
            "Epoch 595/600\n",
            "10/10 [==============================] - 0s 6ms/step - loss: 0.4979 - categorical_accuracy: 0.7437 - val_loss: 2.6254 - val_categorical_accuracy: 0.5125\n",
            "Epoch 596/600\n",
            "10/10 [==============================] - 0s 8ms/step - loss: 0.4850 - categorical_accuracy: 0.7625 - val_loss: 2.6557 - val_categorical_accuracy: 0.4875\n",
            "Epoch 597/600\n",
            "10/10 [==============================] - 0s 8ms/step - loss: 0.4842 - categorical_accuracy: 0.7625 - val_loss: 2.6870 - val_categorical_accuracy: 0.4875\n",
            "Epoch 598/600\n",
            "10/10 [==============================] - 0s 8ms/step - loss: 0.4869 - categorical_accuracy: 0.7594 - val_loss: 2.7093 - val_categorical_accuracy: 0.5000\n",
            "Epoch 599/600\n",
            "10/10 [==============================] - 0s 8ms/step - loss: 0.4767 - categorical_accuracy: 0.7563 - val_loss: 2.6462 - val_categorical_accuracy: 0.4875\n",
            "Epoch 600/600\n",
            "10/10 [==============================] - 0s 8ms/step - loss: 0.4812 - categorical_accuracy: 0.7594 - val_loss: 2.6726 - val_categorical_accuracy: 0.4625\n"
          ]
        }
      ],
      "source": [
        "#Definign the number of epochs\n",
        "EPOCHS = 600\n",
        "#fitting the model\n",
        "history = model.fit(X_train, y_train_tc,epochs=EPOCHS, validation_split = 0.2, verbose=1)"
      ]
    },
    {
      "cell_type": "markdown",
      "metadata": {
        "id": "b99V-kZCnPlW"
      },
      "source": [
        "Let's plot the  validation and training loss"
      ]
    },
    {
      "cell_type": "code",
      "source": [
        "print(history.history.keys)"
      ],
      "metadata": {
        "colab": {
          "base_uri": "https://localhost:8080/"
        },
        "id": "Ycyh3A3Y87BJ",
        "outputId": "ddcdda49-297d-4941-e3b7-ee9af30693f5"
      },
      "execution_count": null,
      "outputs": [
        {
          "output_type": "stream",
          "name": "stdout",
          "text": [
            "<built-in method keys of dict object at 0x7ece7a77c700>\n"
          ]
        }
      ]
    },
    {
      "cell_type": "code",
      "execution_count": null,
      "metadata": {
        "colab": {
          "base_uri": "https://localhost:8080/",
          "height": 564
        },
        "id": "rC2n_0_wmcJH",
        "outputId": "ba5d75b9-29c0-4340-a069-8864f73bfaf4"
      },
      "outputs": [
        {
          "output_type": "display_data",
          "data": {
            "text/plain": [
              "<Figure size 800x600 with 1 Axes>"
            ],
            "image/png": "[encoded data removed]"
          },
          "metadata": {}
        }
      ],
      "source": [
        "N = 600\n",
        "import pylab as plt\n",
        "plt.figure(figsize=(8,6))\n",
        "plt.plot(np.arange(0, N), history.history[\"loss\"], label=\"train_loss\")\n",
        "plt.plot(np.arange(0, N), history.history[\"val_loss\"], label=\"val_loss\")\n",
        "\n",
        "plt.title(\"Training Loss and Validation loss on the dataset\")\n",
        "plt.xlabel(\"Epoch #\")\n",
        "plt.ylabel(\"train_Loss/val_loss\")\n",
        "plt.legend(loc=\"upper right\")\n",
        "plt.show()"
      ]
    },
    {
      "cell_type": "markdown",
      "metadata": {
        "id": "nVrtVVx8nNuE"
      },
      "source": [
        "From the above plot, we can say that the train and validation are having a smooth loss"
      ]
    },
    {
      "cell_type": "markdown",
      "metadata": {
        "id": "ny16YdKMEicj"
      },
      "source": [
        "#### Testing the model"
      ]
    },
    {
      "cell_type": "code",
      "execution_count": null,
      "metadata": {
        "colab": {
          "base_uri": "https://localhost:8080/",
          "height": 720
        },
        "id": "nEraOcCBnNuE",
        "outputId": "4efed016-5e5b-4836-dcba-040f56ad376a"
      },
      "outputs": [
        {
          "output_type": "error",
          "ename": "ValueError",
          "evalue": "ignored",
          "traceback": [
            "\u001b[0;31m---------------------------------------------------------------------------\u001b[0m",
            "\u001b[0;31mValueError\u001b[0m                                Traceback (most recent call last)",
            "\u001b[0;32m<ipython-input-69-427f7c4e90e5>\u001b[0m in \u001b[0;36m<cell line: 1>\u001b[0;34m()\u001b[0m\n\u001b[0;32m----> 1\u001b[0;31m \u001b[0mmodel\u001b[0m\u001b[0;34m.\u001b[0m\u001b[0mevaluate\u001b[0m\u001b[0;34m(\u001b[0m\u001b[0mX_test\u001b[0m\u001b[0;34m,\u001b[0m\u001b[0my_test\u001b[0m\u001b[0;34m)\u001b[0m\u001b[0;34m\u001b[0m\u001b[0;34m\u001b[0m\u001b[0m\n\u001b[0m",
            "\u001b[0;32m/usr/local/lib/python3.10/dist-packages/keras/src/utils/traceback_utils.py\u001b[0m in \u001b[0;36merror_handler\u001b[0;34m(*args, **kwargs)\u001b[0m\n\u001b[1;32m     68\u001b[0m             \u001b[0;31m# To get the full stack trace, call:\u001b[0m\u001b[0;34m\u001b[0m\u001b[0;34m\u001b[0m\u001b[0m\n\u001b[1;32m     69\u001b[0m             \u001b[0;31m# `tf.debugging.disable_traceback_filtering()`\u001b[0m\u001b[0;34m\u001b[0m\u001b[0;34m\u001b[0m\u001b[0m\n\u001b[0;32m---> 70\u001b[0;31m             \u001b[0;32mraise\u001b[0m \u001b[0me\u001b[0m\u001b[0;34m.\u001b[0m\u001b[0mwith_traceback\u001b[0m\u001b[0;34m(\u001b[0m\u001b[0mfiltered_tb\u001b[0m\u001b[0;34m)\u001b[0m \u001b[0;32mfrom\u001b[0m \u001b[0;32mNone\u001b[0m\u001b[0;34m\u001b[0m\u001b[0;34m\u001b[0m\u001b[0m\n\u001b[0m\u001b[1;32m     71\u001b[0m         \u001b[0;32mfinally\u001b[0m\u001b[0;34m:\u001b[0m\u001b[0;34m\u001b[0m\u001b[0;34m\u001b[0m\u001b[0m\n\u001b[1;32m     72\u001b[0m             \u001b[0;32mdel\u001b[0m \u001b[0mfiltered_tb\u001b[0m\u001b[0;34m\u001b[0m\u001b[0;34m\u001b[0m\u001b[0m\n",
            "\u001b[0;32m/usr/local/lib/python3.10/dist-packages/keras/src/engine/training.py\u001b[0m in \u001b[0;36mtf__test_function\u001b[0;34m(iterator)\u001b[0m\n\u001b[1;32m     13\u001b[0m                 \u001b[0;32mtry\u001b[0m\u001b[0;34m:\u001b[0m\u001b[0;34m\u001b[0m\u001b[0;34m\u001b[0m\u001b[0m\n\u001b[1;32m     14\u001b[0m                     \u001b[0mdo_return\u001b[0m \u001b[0;34m=\u001b[0m \u001b[0;32mTrue\u001b[0m\u001b[0;34m\u001b[0m\u001b[0;34m\u001b[0m\u001b[0m\n\u001b[0;32m---> 15\u001b[0;31m                     \u001b[0mretval_\u001b[0m \u001b[0;34m=\u001b[0m \u001b[0mag__\u001b[0m\u001b[0;34m.\u001b[0m\u001b[0mconverted_call\u001b[0m\u001b[0;34m(\u001b[0m\u001b[0mag__\u001b[0m\u001b[0;34m.\u001b[0m\u001b[0mld\u001b[0m\u001b[0;34m(\u001b[0m\u001b[0mstep_function\u001b[0m\u001b[0;34m)\u001b[0m\u001b[0;34m,\u001b[0m \u001b[0;34m(\u001b[0m\u001b[0mag__\u001b[0m\u001b[0;34m.\u001b[0m\u001b[0mld\u001b[0m\u001b[0;34m(\u001b[0m\u001b[0mself\u001b[0m\u001b[0;34m)\u001b[0m\u001b[0;34m,\u001b[0m \u001b[0mag__\u001b[0m\u001b[0;34m.\u001b[0m\u001b[0mld\u001b[0m\u001b[0;34m(\u001b[0m\u001b[0miterator\u001b[0m\u001b[0;34m)\u001b[0m\u001b[0;34m)\u001b[0m\u001b[0;34m,\u001b[0m \u001b[0;32mNone\u001b[0m\u001b[0;34m,\u001b[0m \u001b[0mfscope\u001b[0m\u001b[0;34m)\u001b[0m\u001b[0;34m\u001b[0m\u001b[0;34m\u001b[0m\u001b[0m\n\u001b[0m\u001b[1;32m     16\u001b[0m                 \u001b[0;32mexcept\u001b[0m\u001b[0;34m:\u001b[0m\u001b[0;34m\u001b[0m\u001b[0;34m\u001b[0m\u001b[0m\n\u001b[1;32m     17\u001b[0m                     \u001b[0mdo_return\u001b[0m \u001b[0;34m=\u001b[0m \u001b[0;32mFalse\u001b[0m\u001b[0;34m\u001b[0m\u001b[0;34m\u001b[0m\u001b[0m\n",
            "\u001b[0;31mValueError\u001b[0m: in user code:\n\n    File \"/usr/local/lib/python3.10/dist-packages/keras/src/engine/training.py\", line 1972, in test_function  *\n        return step_function(self, iterator)\n    File \"/usr/local/lib/python3.10/dist-packages/keras/src/engine/training.py\", line 1956, in step_function  **\n        outputs = model.distribute_strategy.run(run_step, args=(data,))\n    File \"/usr/local/lib/python3.10/dist-packages/keras/src/engine/training.py\", line 1944, in run_step  **\n        outputs = model.test_step(data)\n    File \"/usr/local/lib/python3.10/dist-packages/keras/src/engine/training.py\", line 1852, in test_step\n        self.compute_loss(x, y, y_pred, sample_weight)\n    File \"/usr/local/lib/python3.10/dist-packages/keras/src/engine/training.py\", line 1139, in compute_loss\n        return self.compiled_loss(\n    File \"/usr/local/lib/python3.10/dist-packages/keras/src/engine/compile_utils.py\", line 265, in __call__\n        loss_value = loss_obj(y_t, y_p, sample_weight=sw)\n    File \"/usr/local/lib/python3.10/dist-packages/keras/src/losses.py\", line 142, in __call__\n        losses = call_fn(y_true, y_pred)\n    File \"/usr/local/lib/python3.10/dist-packages/keras/src/losses.py\", line 268, in call  **\n        return ag_fn(y_true, y_pred, **self._fn_kwargs)\n    File \"/usr/local/lib/python3.10/dist-packages/keras/src/losses.py\", line 2122, in categorical_crossentropy\n        return backend.categorical_crossentropy(\n    File \"/usr/local/lib/python3.10/dist-packages/keras/src/backend.py\", line 5560, in categorical_crossentropy\n        target.shape.assert_is_compatible_with(output.shape)\n\n    ValueError: Shapes (None, 1) and (None, 3) are incompatible\n"
          ]
        }
      ],
      "source": [
        "model.evaluate(X_test,y_test)"
      ]
    },
    {
      "cell_type": "markdown",
      "metadata": {
        "id": "HOuGwdr1Etu9"
      },
      "source": [
        "Let’s predict\n"
      ]
    },
    {
      "cell_type": "code",
      "execution_count": null,
      "metadata": {
        "id": "S6EzZe-2Lnaa",
        "colab": {
          "base_uri": "https://localhost:8080/"
        },
        "outputId": "5d9cc278-d551-44fe-b3c9-7862b4ce77b3"
      },
      "outputs": [
        {
          "output_type": "stream",
          "name": "stdout",
          "text": [
            "5/5 [==============================] - 0s 3ms/step\n"
          ]
        }
      ],
      "source": [
        "#Lets Print the predicted prices\n",
        "y_pred=model.predict(X_test)\n",
        "#y_pred1=target_scaler.inverse_transform(test_predictionsk.reshape(-1, 1))"
      ]
    },
    {
      "cell_type": "code",
      "source": [
        "y_pred\n"
      ],
      "metadata": {
        "id": "RXhQaCktyKlw",
        "outputId": "b0a283b4-513c-41b0-e99d-1a764d7c9799",
        "colab": {
          "base_uri": "https://localhost:8080/"
        }
      },
      "execution_count": null,
      "outputs": [
        {
          "output_type": "execute_result",
          "data": {
            "text/plain": [
              "array([[6.14356339e-01, 6.59346333e-05, 3.85577768e-01],\n",
              "       [6.54776990e-01, 1.85389798e-02, 3.26684028e-01],\n",
              "       [5.84807575e-01, 2.16711566e-01, 1.98480859e-01],\n",
              "       [4.16485280e-01, 2.04133570e-01, 3.79381180e-01],\n",
              "       [2.77852118e-01, 6.86180770e-01, 3.59670334e-02],\n",
              "       [4.11658019e-01, 1.94959670e-01, 3.93382281e-01],\n",
              "       [6.50821507e-01, 1.86879098e-01, 1.62299395e-01],\n",
              "       [5.50742924e-01, 4.19052839e-01, 3.02043129e-02],\n",
              "       [9.98160303e-01, 1.74936315e-03, 9.03691835e-05],\n",
              "       [9.98394430e-01, 1.60548266e-03, 1.12984793e-07],\n",
              "       [5.50742924e-01, 4.19052839e-01, 3.02043129e-02],\n",
              "       [7.80621290e-01, 1.83008537e-01, 3.63701731e-02],\n",
              "       [9.29678619e-01, 6.45404158e-04, 6.96759075e-02],\n",
              "       [3.59613866e-01, 6.20544732e-01, 1.98413953e-02],\n",
              "       [5.99601924e-01, 4.00192559e-01, 2.05526943e-04],\n",
              "       [2.21152991e-01, 3.94959390e-01, 3.83887649e-01],\n",
              "       [8.62493038e-01, 1.35454416e-01, 2.05249176e-03],\n",
              "       [9.72546101e-01, 1.25353951e-02, 1.49184894e-02],\n",
              "       [9.99985456e-01, 1.45873455e-05, 5.67793902e-11],\n",
              "       [5.02003729e-01, 4.88198906e-01, 9.79737751e-03],\n",
              "       [4.16485280e-01, 2.04133570e-01, 3.79381180e-01],\n",
              "       [3.25169653e-01, 3.85977983e-01, 2.88852394e-01],\n",
              "       [2.95581366e-03, 9.97044146e-01, 3.89418098e-08],\n",
              "       [2.77852118e-01, 6.86180770e-01, 3.59670334e-02],\n",
              "       [4.90407914e-01, 2.55485028e-01, 2.54106969e-01],\n",
              "       [6.84677720e-01, 1.72131389e-01, 1.43190861e-01],\n",
              "       [3.61492127e-01, 4.87999439e-01, 1.50508448e-01],\n",
              "       [4.53915805e-01, 5.46084106e-01, 4.98005974e-08],\n",
              "       [2.10549340e-01, 4.87271607e-01, 3.02179068e-01],\n",
              "       [4.65730399e-01, 1.09150191e-03, 5.33178091e-01],\n",
              "       [8.53886306e-01, 1.46094218e-01, 1.95045632e-05],\n",
              "       [6.42115295e-01, 1.41884506e-01, 2.16000170e-01],\n",
              "       [4.39593315e-01, 2.07740530e-01, 3.52666140e-01],\n",
              "       [1.85474217e-01, 1.78089812e-01, 6.36435986e-01],\n",
              "       [3.25169653e-01, 3.85977983e-01, 2.88852394e-01],\n",
              "       [2.81027168e-01, 2.69478112e-01, 4.49494660e-01],\n",
              "       [6.17425382e-01, 2.01973453e-01, 1.80601239e-01],\n",
              "       [7.14873254e-01, 2.84044415e-01, 1.08235283e-03],\n",
              "       [4.94143814e-01, 3.00172389e-01, 2.05683872e-01],\n",
              "       [9.18292880e-01, 3.88853922e-02, 4.28217277e-02],\n",
              "       [9.94995117e-01, 2.07737111e-03, 2.92751822e-03],\n",
              "       [5.73110163e-01, 6.27691019e-03, 4.20612901e-01],\n",
              "       [4.39823955e-01, 4.12570089e-02, 5.18919051e-01],\n",
              "       [3.25169653e-01, 3.85977983e-01, 2.88852394e-01],\n",
              "       [5.52080035e-01, 2.21932471e-01, 2.25987509e-01],\n",
              "       [9.81720924e-01, 1.80606823e-02, 2.18323141e-04],\n",
              "       [8.31391096e-01, 1.68495759e-01, 1.13219678e-04],\n",
              "       [2.54683107e-01, 5.05348980e-01, 2.39967957e-01],\n",
              "       [3.95099461e-01, 4.21703219e-01, 1.83197409e-01],\n",
              "       [6.50821507e-01, 1.86879098e-01, 1.62299395e-01],\n",
              "       [5.36629319e-01, 4.63277876e-01, 9.27943693e-05],\n",
              "       [4.67513919e-01, 2.08615363e-01, 3.23870689e-01],\n",
              "       [1.00000000e+00, 2.57167061e-18, 5.39720104e-34],\n",
              "       [5.37949383e-01, 2.00981498e-01, 2.61069149e-01],\n",
              "       [6.84677720e-01, 1.72131389e-01, 1.43190861e-01],\n",
              "       [5.02986014e-01, 2.05370992e-01, 2.91642964e-01],\n",
              "       [3.63620222e-02, 9.63637948e-01, 1.27390154e-10],\n",
              "       [5.24884880e-01, 2.75071800e-01, 2.00043365e-01],\n",
              "       [7.38550782e-01, 2.58069456e-01, 3.37977917e-03],\n",
              "       [1.95660025e-01, 4.70009327e-01, 3.34330678e-01],\n",
              "       [1.57350838e-01, 2.68185407e-01, 5.74463785e-01],\n",
              "       [5.56012094e-01, 2.26440698e-01, 2.17547238e-01],\n",
              "       [6.31365879e-03, 9.93686378e-01, 1.82744522e-08],\n",
              "       [6.14409506e-01, 3.91351664e-03, 3.81676912e-01],\n",
              "       [1.95660025e-01, 4.70009327e-01, 3.34330678e-01],\n",
              "       [5.55638194e-01, 4.44176286e-01, 1.85502620e-04],\n",
              "       [7.38550782e-01, 2.58069456e-01, 3.37977917e-03],\n",
              "       [4.98210013e-01, 5.63015975e-02, 4.45488393e-01],\n",
              "       [8.69574904e-01, 1.21000938e-01, 9.42417793e-03],\n",
              "       [5.00524879e-01, 2.77461737e-01, 2.22013339e-01],\n",
              "       [3.25362265e-01, 5.36508679e-01, 1.38129026e-01],\n",
              "       [5.91024756e-01, 1.77974537e-01, 2.31000662e-01],\n",
              "       [1.00000000e+00, 1.22693153e-17, 9.77911016e-34],\n",
              "       [5.56012094e-01, 2.26440698e-01, 2.17547238e-01],\n",
              "       [6.05038941e-01, 1.89260900e-01, 2.05700144e-01],\n",
              "       [2.97578543e-01, 7.60471895e-02, 6.26374304e-01],\n",
              "       [5.00524879e-01, 2.77461737e-01, 2.22013339e-01],\n",
              "       [8.50013077e-01, 1.47301480e-01, 2.68545281e-03],\n",
              "       [2.54193842e-01, 2.99325079e-01, 4.46481079e-01],\n",
              "       [6.44732416e-01, 1.80338100e-01, 1.74929470e-01],\n",
              "       [2.44679198e-01, 7.55274475e-01, 4.62648241e-05],\n",
              "       [2.64958531e-01, 2.66715661e-02, 7.08369911e-01],\n",
              "       [7.54403114e-01, 2.30466694e-01, 1.51302088e-02],\n",
              "       [3.61492127e-01, 4.87999439e-01, 1.50508448e-01],\n",
              "       [1.85474217e-01, 1.78089812e-01, 6.36435986e-01],\n",
              "       [7.51028001e-01, 2.47882202e-01, 1.08982786e-03],\n",
              "       [1.85474217e-01, 1.78089812e-01, 6.36435986e-01],\n",
              "       [8.62493038e-01, 1.35454416e-01, 2.05249176e-03],\n",
              "       [6.96001887e-01, 1.64256275e-01, 1.39741808e-01],\n",
              "       [8.55923712e-01, 1.44076273e-01, 5.47922337e-14],\n",
              "       [6.96001887e-01, 1.64256275e-01, 1.39741808e-01],\n",
              "       [1.38940662e-01, 5.89188755e-01, 2.71870553e-01],\n",
              "       [9.99119341e-01, 6.59846177e-04, 2.20834016e-04],\n",
              "       [6.84677720e-01, 1.72131389e-01, 1.43190861e-01],\n",
              "       [9.99039173e-01, 9.49487090e-04, 1.13593487e-05],\n",
              "       [4.98210013e-01, 5.63015975e-02, 4.45488393e-01],\n",
              "       [7.63294160e-01, 2.36521795e-01, 1.84118937e-04],\n",
              "       [5.37505865e-01, 2.73773260e-02, 4.35116857e-01],\n",
              "       [6.38275802e-01, 3.54248017e-01, 7.47619988e-03],\n",
              "       [4.05581892e-01, 3.91283214e-01, 2.03134879e-01],\n",
              "       [5.24884880e-01, 2.75071800e-01, 2.00043365e-01],\n",
              "       [3.63582224e-01, 6.15323126e-01, 2.10946128e-02],\n",
              "       [2.21952841e-01, 7.78047085e-01, 1.22061422e-07],\n",
              "       [9.99970436e-01, 2.95335667e-05, 3.24393956e-09],\n",
              "       [1.23048775e-01, 5.22770286e-01, 3.54180992e-01],\n",
              "       [5.09985611e-02, 9.49001431e-01, 8.85992779e-10],\n",
              "       [5.84807575e-01, 2.16711566e-01, 1.98480859e-01],\n",
              "       [3.05159152e-01, 1.39691517e-01, 5.55149376e-01],\n",
              "       [6.96001887e-01, 1.64256275e-01, 1.39741808e-01],\n",
              "       [2.54193842e-01, 2.99325079e-01, 4.46481079e-01],\n",
              "       [9.97359931e-01, 1.35102693e-03, 1.28900667e-03],\n",
              "       [7.99539447e-01, 2.00117663e-01, 3.42912972e-04],\n",
              "       [6.95785940e-01, 5.50260693e-02, 2.49188036e-01],\n",
              "       [5.75095296e-01, 4.23137546e-01, 1.76711206e-03],\n",
              "       [6.42115295e-01, 1.41884506e-01, 2.16000170e-01],\n",
              "       [5.99601924e-01, 4.00192559e-01, 2.05526943e-04],\n",
              "       [1.85474217e-01, 1.78089812e-01, 6.36435986e-01],\n",
              "       [5.72065532e-01, 1.95565343e-01, 2.32369170e-01],\n",
              "       [5.17946720e-01, 4.69920129e-01, 1.21331904e-02],\n",
              "       [5.56012094e-01, 2.26440698e-01, 2.17547238e-01],\n",
              "       [1.95660025e-01, 4.70009327e-01, 3.34330678e-01],\n",
              "       [2.45963857e-01, 6.26951277e-01, 1.27084896e-01],\n",
              "       [3.25169653e-01, 3.85977983e-01, 2.88852394e-01],\n",
              "       [6.84677720e-01, 1.72131389e-01, 1.43190861e-01],\n",
              "       [1.95660025e-01, 4.70009327e-01, 3.34330678e-01],\n",
              "       [6.78019106e-01, 2.15567932e-01, 1.06412947e-01],\n",
              "       [5.55638194e-01, 4.44176286e-01, 1.85502620e-04],\n",
              "       [3.53049368e-01, 3.81246984e-01, 2.65703678e-01],\n",
              "       [5.00524879e-01, 2.77461737e-01, 2.22013339e-01],\n",
              "       [4.52327758e-01, 5.81443822e-03, 5.41857779e-01],\n",
              "       [3.53049368e-01, 3.81246984e-01, 2.65703678e-01],\n",
              "       [9.91067946e-01, 4.41447925e-03, 4.51757759e-03],\n",
              "       [6.17425382e-01, 2.01973453e-01, 1.80601239e-01],\n",
              "       [9.99988437e-01, 1.15216944e-05, 2.62852939e-08],\n",
              "       [9.99119341e-01, 6.59846177e-04, 2.20834016e-04],\n",
              "       [3.59613866e-01, 6.20544732e-01, 1.98413953e-02],\n",
              "       [1.76492557e-01, 3.13221753e-01, 5.10285676e-01],\n",
              "       [4.67513919e-01, 2.08615363e-01, 3.23870689e-01],\n",
              "       [2.95581366e-03, 9.97044146e-01, 3.89418098e-08],\n",
              "       [1.95660025e-01, 4.70009327e-01, 3.34330678e-01],\n",
              "       [9.13299263e-01, 2.46804382e-04, 8.64539370e-02],\n",
              "       [6.05038941e-01, 1.89260900e-01, 2.05700144e-01],\n",
              "       [5.50742924e-01, 4.19052839e-01, 3.02043129e-02],\n",
              "       [4.22996551e-01, 1.04366034e-01, 4.72637415e-01],\n",
              "       [3.32327224e-02, 7.03644753e-01, 2.63122499e-01],\n",
              "       [7.87741661e-01, 4.03573774e-02, 1.71900973e-01],\n",
              "       [6.50502503e-01, 3.31938833e-01, 1.75586306e-02],\n",
              "       [5.23981750e-01, 4.15630102e-01, 6.03882112e-02],\n",
              "       [9.34142411e-01, 6.20069243e-02, 3.85066681e-03],\n",
              "       [5.40378571e-01, 1.55778810e-01, 3.03842574e-01]], dtype=float32)"
            ]
          },
          "metadata": {},
          "execution_count": 89
        }
      ]
    },
    {
      "cell_type": "code",
      "source": [
        "np.round(y_pred)"
      ],
      "metadata": {
        "id": "nBrLnYqHDFS2",
        "outputId": "9e0dca2b-22cc-4771-dbf3-f28ac335974f",
        "colab": {
          "base_uri": "https://localhost:8080/"
        }
      },
      "execution_count": null,
      "outputs": [
        {
          "output_type": "execute_result",
          "data": {
            "text/plain": [
              "array([[1., 0., 0.],\n",
              "       [1., 0., 0.],\n",
              "       [1., 0., 0.],\n",
              "       [0., 0., 0.],\n",
              "       [0., 1., 0.],\n",
              "       [0., 0., 0.],\n",
              "       [1., 0., 0.],\n",
              "       [1., 0., 0.],\n",
              "       [1., 0., 0.],\n",
              "       [1., 0., 0.],\n",
              "       [1., 0., 0.],\n",
              "       [1., 0., 0.],\n",
              "       [1., 0., 0.],\n",
              "       [0., 1., 0.],\n",
              "       [1., 0., 0.],\n",
              "       [0., 0., 0.],\n",
              "       [1., 0., 0.],\n",
              "       [1., 0., 0.],\n",
              "       [1., 0., 0.],\n",
              "       [1., 0., 0.],\n",
              "       [0., 0., 0.],\n",
              "       [0., 0., 0.],\n",
              "       [0., 1., 0.],\n",
              "       [0., 1., 0.],\n",
              "       [0., 0., 0.],\n",
              "       [1., 0., 0.],\n",
              "       [0., 0., 0.],\n",
              "       [0., 1., 0.],\n",
              "       [0., 0., 0.],\n",
              "       [0., 0., 1.],\n",
              "       [1., 0., 0.],\n",
              "       [1., 0., 0.],\n",
              "       [0., 0., 0.],\n",
              "       [0., 0., 1.],\n",
              "       [0., 0., 0.],\n",
              "       [0., 0., 0.],\n",
              "       [1., 0., 0.],\n",
              "       [1., 0., 0.],\n",
              "       [0., 0., 0.],\n",
              "       [1., 0., 0.],\n",
              "       [1., 0., 0.],\n",
              "       [1., 0., 0.],\n",
              "       [0., 0., 1.],\n",
              "       [0., 0., 0.],\n",
              "       [1., 0., 0.],\n",
              "       [1., 0., 0.],\n",
              "       [1., 0., 0.],\n",
              "       [0., 1., 0.],\n",
              "       [0., 0., 0.],\n",
              "       [1., 0., 0.],\n",
              "       [1., 0., 0.],\n",
              "       [0., 0., 0.],\n",
              "       [1., 0., 0.],\n",
              "       [1., 0., 0.],\n",
              "       [1., 0., 0.],\n",
              "       [1., 0., 0.],\n",
              "       [0., 1., 0.],\n",
              "       [1., 0., 0.],\n",
              "       [1., 0., 0.],\n",
              "       [0., 0., 0.],\n",
              "       [0., 0., 1.],\n",
              "       [1., 0., 0.],\n",
              "       [0., 1., 0.],\n",
              "       [1., 0., 0.],\n",
              "       [0., 0., 0.],\n",
              "       [1., 0., 0.],\n",
              "       [1., 0., 0.],\n",
              "       [0., 0., 0.],\n",
              "       [1., 0., 0.],\n",
              "       [1., 0., 0.],\n",
              "       [0., 1., 0.],\n",
              "       [1., 0., 0.],\n",
              "       [1., 0., 0.],\n",
              "       [1., 0., 0.],\n",
              "       [1., 0., 0.],\n",
              "       [0., 0., 1.],\n",
              "       [1., 0., 0.],\n",
              "       [1., 0., 0.],\n",
              "       [0., 0., 0.],\n",
              "       [1., 0., 0.],\n",
              "       [0., 1., 0.],\n",
              "       [0., 0., 1.],\n",
              "       [1., 0., 0.],\n",
              "       [0., 0., 0.],\n",
              "       [0., 0., 1.],\n",
              "       [1., 0., 0.],\n",
              "       [0., 0., 1.],\n",
              "       [1., 0., 0.],\n",
              "       [1., 0., 0.],\n",
              "       [1., 0., 0.],\n",
              "       [1., 0., 0.],\n",
              "       [0., 1., 0.],\n",
              "       [1., 0., 0.],\n",
              "       [1., 0., 0.],\n",
              "       [1., 0., 0.],\n",
              "       [0., 0., 0.],\n",
              "       [1., 0., 0.],\n",
              "       [1., 0., 0.],\n",
              "       [1., 0., 0.],\n",
              "       [0., 0., 0.],\n",
              "       [1., 0., 0.],\n",
              "       [0., 1., 0.],\n",
              "       [0., 1., 0.],\n",
              "       [1., 0., 0.],\n",
              "       [0., 1., 0.],\n",
              "       [0., 1., 0.],\n",
              "       [1., 0., 0.],\n",
              "       [0., 0., 1.],\n",
              "       [1., 0., 0.],\n",
              "       [0., 0., 0.],\n",
              "       [1., 0., 0.],\n",
              "       [1., 0., 0.],\n",
              "       [1., 0., 0.],\n",
              "       [1., 0., 0.],\n",
              "       [1., 0., 0.],\n",
              "       [1., 0., 0.],\n",
              "       [0., 0., 1.],\n",
              "       [1., 0., 0.],\n",
              "       [1., 0., 0.],\n",
              "       [1., 0., 0.],\n",
              "       [0., 0., 0.],\n",
              "       [0., 1., 0.],\n",
              "       [0., 0., 0.],\n",
              "       [1., 0., 0.],\n",
              "       [0., 0., 0.],\n",
              "       [1., 0., 0.],\n",
              "       [1., 0., 0.],\n",
              "       [0., 0., 0.],\n",
              "       [1., 0., 0.],\n",
              "       [0., 0., 1.],\n",
              "       [0., 0., 0.],\n",
              "       [1., 0., 0.],\n",
              "       [1., 0., 0.],\n",
              "       [1., 0., 0.],\n",
              "       [1., 0., 0.],\n",
              "       [0., 1., 0.],\n",
              "       [0., 0., 1.],\n",
              "       [0., 0., 0.],\n",
              "       [0., 1., 0.],\n",
              "       [0., 0., 0.],\n",
              "       [1., 0., 0.],\n",
              "       [1., 0., 0.],\n",
              "       [1., 0., 0.],\n",
              "       [0., 0., 0.],\n",
              "       [0., 1., 0.],\n",
              "       [1., 0., 0.],\n",
              "       [1., 0., 0.],\n",
              "       [1., 0., 0.],\n",
              "       [1., 0., 0.],\n",
              "       [1., 0., 0.]], dtype=float32)"
            ]
          },
          "metadata": {},
          "execution_count": 90
        }
      ]
    },
    {
      "cell_type": "markdown",
      "metadata": {
        "id": "OW-6u_WKo6JV"
      },
      "source": [
        "Let's Calculate the R2 to evaluate the model"
      ]
    },
    {
      "cell_type": "code",
      "execution_count": null,
      "metadata": {
        "colab": {
          "base_uri": "https://localhost:8080/",
          "height": 321
        },
        "id": "P5gg0t4toj85",
        "outputId": "1d5c2192-29ea-4df8-8e1f-85f3029c4756"
      },
      "outputs": [
        {
          "output_type": "error",
          "ename": "ValueError",
          "evalue": "ignored",
          "traceback": [
            "\u001b[0;31m---------------------------------------------------------------------------\u001b[0m",
            "\u001b[0;31mValueError\u001b[0m                                Traceback (most recent call last)",
            "\u001b[0;32m<ipython-input-79-d036171a38a6>\u001b[0m in \u001b[0;36m<cell line: 1>\u001b[0;34m()\u001b[0m\n\u001b[0;32m----> 1\u001b[0;31m \u001b[0msklearn\u001b[0m\u001b[0;34m.\u001b[0m\u001b[0mmetrics\u001b[0m\u001b[0;34m.\u001b[0m\u001b[0mprecision_score\u001b[0m\u001b[0;34m(\u001b[0m\u001b[0my_test\u001b[0m\u001b[0;34m,\u001b[0m\u001b[0my_pred\u001b[0m\u001b[0;34m)\u001b[0m\u001b[0;34m\u001b[0m\u001b[0;34m\u001b[0m\u001b[0m\n\u001b[0m",
            "\u001b[0;32m/usr/local/lib/python3.10/dist-packages/sklearn/metrics/_classification.py\u001b[0m in \u001b[0;36mprecision_score\u001b[0;34m(y_true, y_pred, labels, pos_label, average, sample_weight, zero_division)\u001b[0m\n\u001b[1;32m   1952\u001b[0m     \u001b[0marray\u001b[0m\u001b[0;34m(\u001b[0m\u001b[0;34m[\u001b[0m\u001b[0;36m0.5\u001b[0m\u001b[0;34m,\u001b[0m \u001b[0;36m1.\u001b[0m \u001b[0;34m,\u001b[0m \u001b[0;36m1.\u001b[0m \u001b[0;34m]\u001b[0m\u001b[0;34m)\u001b[0m\u001b[0;34m\u001b[0m\u001b[0;34m\u001b[0m\u001b[0m\n\u001b[1;32m   1953\u001b[0m     \"\"\"\n\u001b[0;32m-> 1954\u001b[0;31m     p, _, _, _ = precision_recall_fscore_support(\n\u001b[0m\u001b[1;32m   1955\u001b[0m         \u001b[0my_true\u001b[0m\u001b[0;34m,\u001b[0m\u001b[0;34m\u001b[0m\u001b[0;34m\u001b[0m\u001b[0m\n\u001b[1;32m   1956\u001b[0m         \u001b[0my_pred\u001b[0m\u001b[0;34m,\u001b[0m\u001b[0;34m\u001b[0m\u001b[0;34m\u001b[0m\u001b[0m\n",
            "\u001b[0;32m/usr/local/lib/python3.10/dist-packages/sklearn/metrics/_classification.py\u001b[0m in \u001b[0;36mprecision_recall_fscore_support\u001b[0;34m(y_true, y_pred, beta, labels, pos_label, average, warn_for, sample_weight, zero_division)\u001b[0m\n\u001b[1;32m   1571\u001b[0m     \u001b[0;32mif\u001b[0m \u001b[0mbeta\u001b[0m \u001b[0;34m<\u001b[0m \u001b[0;36m0\u001b[0m\u001b[0;34m:\u001b[0m\u001b[0;34m\u001b[0m\u001b[0;34m\u001b[0m\u001b[0m\n\u001b[1;32m   1572\u001b[0m         \u001b[0;32mraise\u001b[0m \u001b[0mValueError\u001b[0m\u001b[0;34m(\u001b[0m\u001b[0;34m\"beta should be >=0 in the F-beta score\"\u001b[0m\u001b[0;34m)\u001b[0m\u001b[0;34m\u001b[0m\u001b[0;34m\u001b[0m\u001b[0m\n\u001b[0;32m-> 1573\u001b[0;31m     \u001b[0mlabels\u001b[0m \u001b[0;34m=\u001b[0m \u001b[0m_check_set_wise_labels\u001b[0m\u001b[0;34m(\u001b[0m\u001b[0my_true\u001b[0m\u001b[0;34m,\u001b[0m \u001b[0my_pred\u001b[0m\u001b[0;34m,\u001b[0m \u001b[0maverage\u001b[0m\u001b[0;34m,\u001b[0m \u001b[0mlabels\u001b[0m\u001b[0;34m,\u001b[0m \u001b[0mpos_label\u001b[0m\u001b[0;34m)\u001b[0m\u001b[0;34m\u001b[0m\u001b[0;34m\u001b[0m\u001b[0m\n\u001b[0m\u001b[1;32m   1574\u001b[0m \u001b[0;34m\u001b[0m\u001b[0m\n\u001b[1;32m   1575\u001b[0m     \u001b[0;31m# Calculate tp_sum, pred_sum, true_sum ###\u001b[0m\u001b[0;34m\u001b[0m\u001b[0;34m\u001b[0m\u001b[0m\n",
            "\u001b[0;32m/usr/local/lib/python3.10/dist-packages/sklearn/metrics/_classification.py\u001b[0m in \u001b[0;36m_check_set_wise_labels\u001b[0;34m(y_true, y_pred, average, labels, pos_label)\u001b[0m\n\u001b[1;32m   1372\u001b[0m         \u001b[0;32mraise\u001b[0m \u001b[0mValueError\u001b[0m\u001b[0;34m(\u001b[0m\u001b[0;34m\"average has to be one of \"\u001b[0m \u001b[0;34m+\u001b[0m \u001b[0mstr\u001b[0m\u001b[0;34m(\u001b[0m\u001b[0maverage_options\u001b[0m\u001b[0;34m)\u001b[0m\u001b[0;34m)\u001b[0m\u001b[0;34m\u001b[0m\u001b[0;34m\u001b[0m\u001b[0m\n\u001b[1;32m   1373\u001b[0m \u001b[0;34m\u001b[0m\u001b[0m\n\u001b[0;32m-> 1374\u001b[0;31m     \u001b[0my_type\u001b[0m\u001b[0;34m,\u001b[0m \u001b[0my_true\u001b[0m\u001b[0;34m,\u001b[0m \u001b[0my_pred\u001b[0m \u001b[0;34m=\u001b[0m \u001b[0m_check_targets\u001b[0m\u001b[0;34m(\u001b[0m\u001b[0my_true\u001b[0m\u001b[0;34m,\u001b[0m \u001b[0my_pred\u001b[0m\u001b[0;34m)\u001b[0m\u001b[0;34m\u001b[0m\u001b[0;34m\u001b[0m\u001b[0m\n\u001b[0m\u001b[1;32m   1375\u001b[0m     \u001b[0;31m# Convert to Python primitive type to avoid NumPy type / Python str\u001b[0m\u001b[0;34m\u001b[0m\u001b[0;34m\u001b[0m\u001b[0m\n\u001b[1;32m   1376\u001b[0m     \u001b[0;31m# comparison. See https://github.com/numpy/numpy/issues/6784\u001b[0m\u001b[0;34m\u001b[0m\u001b[0;34m\u001b[0m\u001b[0m\n",
            "\u001b[0;32m/usr/local/lib/python3.10/dist-packages/sklearn/metrics/_classification.py\u001b[0m in \u001b[0;36m_check_targets\u001b[0;34m(y_true, y_pred)\u001b[0m\n\u001b[1;32m     93\u001b[0m \u001b[0;34m\u001b[0m\u001b[0m\n\u001b[1;32m     94\u001b[0m     \u001b[0;32mif\u001b[0m \u001b[0mlen\u001b[0m\u001b[0;34m(\u001b[0m\u001b[0my_type\u001b[0m\u001b[0;34m)\u001b[0m \u001b[0;34m>\u001b[0m \u001b[0;36m1\u001b[0m\u001b[0;34m:\u001b[0m\u001b[0;34m\u001b[0m\u001b[0;34m\u001b[0m\u001b[0m\n\u001b[0;32m---> 95\u001b[0;31m         raise ValueError(\n\u001b[0m\u001b[1;32m     96\u001b[0m             \"Classification metrics can't handle a mix of {0} and {1} targets\".format(\n\u001b[1;32m     97\u001b[0m                 \u001b[0mtype_true\u001b[0m\u001b[0;34m,\u001b[0m \u001b[0mtype_pred\u001b[0m\u001b[0;34m\u001b[0m\u001b[0;34m\u001b[0m\u001b[0m\n",
            "\u001b[0;31mValueError\u001b[0m: Classification metrics can't handle a mix of multilabel-indicator and continuous-multioutput targets"
          ]
        }
      ],
      "source": [
        "#sklearn.metrics.precision_score(y_test,y_pred)"
      ]
    },
    {
      "cell_type": "markdown",
      "metadata": {
        "id": "mset_vUAlTWe"
      },
      "source": [
        "R2 is 0.61 and it seems to be fine, But this can be improved."
      ]
    },
    {
      "cell_type": "markdown",
      "metadata": {
        "id": "9KYWOFNVnNuG"
      },
      "source": [
        "Now let's try to increase the number of hidden layers and neurons in the hidden layers and see if we can get a good r2 score."
      ]
    },
    {
      "cell_type": "code",
      "execution_count": null,
      "metadata": {
        "id": "rwWzxvY4nNuG"
      },
      "outputs": [],
      "source": [
        "backend.clear_session()\n",
        "#Fixing the seed for random number generators so that we can ensure we receive the same output everytime\n",
        "np.random.seed(1)\n",
        "import random\n",
        "random.seed(1)\n",
        "tf.random.set_seed(1)"
      ]
    },
    {
      "cell_type": "code",
      "execution_count": null,
      "metadata": {
        "id": "XpBbqONDnNuG"
      },
      "outputs": [],
      "source": [
        "# Initializing the model\n",
        "model_2 = Sequential()\n",
        "# Adding input layer with 14 variables and 64 neurons with relu as activation function\n",
        "model_2.add(Dense(64, activation='relu', input_shape=(X_train.shape[1],)))\n",
        "# adding second hidden layer with 32 neurons and relu as activation function\n",
        "model_2.add(Dense(32, activation='relu'))\n",
        "# adding first hidden layer with 8 neurons and relu as activation function\n",
        "model_2.add(Dense(16, activation='relu'))\n",
        "# adding the output layer with 1 neuron and linear as activation function\n",
        "model_2.add(Dense(3, activation='softmax'))"
      ]
    },
    {
      "cell_type": "code",
      "execution_count": null,
      "metadata": {
        "id": "tQPRtphBnNuG",
        "outputId": "d7e5c50e-3157-4f2f-ee83-63b8cba7ef6c",
        "colab": {
          "base_uri": "https://localhost:8080/"
        }
      },
      "outputs": [
        {
          "output_type": "stream",
          "name": "stdout",
          "text": [
            "Model: \"sequential\"\n",
            "_________________________________________________________________\n",
            " Layer (type)                Output Shape              Param #   \n",
            "=================================================================\n",
            " dense (Dense)               (None, 64)                768       \n",
            "                                                                 \n",
            " dense_1 (Dense)             (None, 32)                2080      \n",
            "                                                                 \n",
            " dense_2 (Dense)             (None, 16)                528       \n",
            "                                                                 \n",
            " dense_3 (Dense)             (None, 3)                 51        \n",
            "                                                                 \n",
            "=================================================================\n",
            "Total params: 3427 (13.39 KB)\n",
            "Trainable params: 3427 (13.39 KB)\n",
            "Non-trainable params: 0 (0.00 Byte)\n",
            "_________________________________________________________________\n"
          ]
        }
      ],
      "source": [
        "# Summary of the model\n",
        "model_2.summary()"
      ]
    },
    {
      "cell_type": "code",
      "execution_count": null,
      "metadata": {
        "id": "saAZvlovnNuH",
        "outputId": "5b03fed8-5216-4b07-81d3-2c9b44c73b66",
        "colab": {
          "base_uri": "https://localhost:8080/"
        }
      },
      "outputs": [
        {
          "output_type": "stream",
          "name": "stdout",
          "text": [
            "Epoch 1/50\n",
            "9/9 [==============================] - 2s 28ms/step - loss: 1.0377 - accuracy: 0.5929 - val_loss: 0.9913 - val_accuracy: 0.6000\n",
            "Epoch 2/50\n",
            "9/9 [==============================] - 0s 7ms/step - loss: 0.9673 - accuracy: 0.6357 - val_loss: 0.9481 - val_accuracy: 0.6000\n",
            "Epoch 3/50\n",
            "9/9 [==============================] - 0s 8ms/step - loss: 0.9230 - accuracy: 0.6357 - val_loss: 0.9328 - val_accuracy: 0.6000\n",
            "Epoch 4/50\n",
            "9/9 [==============================] - 0s 7ms/step - loss: 0.9001 - accuracy: 0.6357 - val_loss: 0.9244 - val_accuracy: 0.6000\n",
            "Epoch 5/50\n",
            "9/9 [==============================] - 0s 9ms/step - loss: 0.8902 - accuracy: 0.6357 - val_loss: 0.9147 - val_accuracy: 0.6000\n",
            "Epoch 6/50\n",
            "9/9 [==============================] - 0s 8ms/step - loss: 0.8838 - accuracy: 0.6357 - val_loss: 0.9109 - val_accuracy: 0.6000\n",
            "Epoch 7/50\n",
            "9/9 [==============================] - 0s 9ms/step - loss: 0.8789 - accuracy: 0.6357 - val_loss: 0.9112 - val_accuracy: 0.6000\n",
            "Epoch 8/50\n",
            "9/9 [==============================] - 0s 8ms/step - loss: 0.8763 - accuracy: 0.6357 - val_loss: 0.9093 - val_accuracy: 0.6000\n",
            "Epoch 9/50\n",
            "9/9 [==============================] - 0s 7ms/step - loss: 0.8716 - accuracy: 0.6357 - val_loss: 0.9130 - val_accuracy: 0.6000\n",
            "Epoch 10/50\n",
            "9/9 [==============================] - 0s 7ms/step - loss: 0.8684 - accuracy: 0.6357 - val_loss: 0.9112 - val_accuracy: 0.6000\n",
            "Epoch 11/50\n",
            "9/9 [==============================] - 0s 8ms/step - loss: 0.8659 - accuracy: 0.6357 - val_loss: 0.9171 - val_accuracy: 0.6000\n",
            "Epoch 12/50\n",
            "9/9 [==============================] - 0s 7ms/step - loss: 0.8621 - accuracy: 0.6357 - val_loss: 0.9105 - val_accuracy: 0.6000\n",
            "Epoch 13/50\n",
            "9/9 [==============================] - 0s 8ms/step - loss: 0.8587 - accuracy: 0.6357 - val_loss: 0.9129 - val_accuracy: 0.6000\n",
            "Epoch 14/50\n",
            "9/9 [==============================] - 0s 8ms/step - loss: 0.8551 - accuracy: 0.6357 - val_loss: 0.9115 - val_accuracy: 0.6000\n",
            "Epoch 15/50\n",
            "9/9 [==============================] - 0s 9ms/step - loss: 0.8523 - accuracy: 0.6357 - val_loss: 0.9135 - val_accuracy: 0.6000\n",
            "Epoch 16/50\n",
            "9/9 [==============================] - 0s 7ms/step - loss: 0.8496 - accuracy: 0.6357 - val_loss: 0.9157 - val_accuracy: 0.6000\n",
            "Epoch 17/50\n",
            "9/9 [==============================] - 0s 7ms/step - loss: 0.8452 - accuracy: 0.6357 - val_loss: 0.9152 - val_accuracy: 0.6000\n",
            "Epoch 18/50\n",
            "9/9 [==============================] - 0s 7ms/step - loss: 0.8415 - accuracy: 0.6357 - val_loss: 0.9153 - val_accuracy: 0.6000\n",
            "Epoch 19/50\n",
            "9/9 [==============================] - 0s 10ms/step - loss: 0.8395 - accuracy: 0.6357 - val_loss: 0.9194 - val_accuracy: 0.6000\n",
            "Epoch 20/50\n",
            "9/9 [==============================] - 0s 8ms/step - loss: 0.8358 - accuracy: 0.6357 - val_loss: 0.9207 - val_accuracy: 0.6000\n",
            "Epoch 21/50\n",
            "9/9 [==============================] - 0s 9ms/step - loss: 0.8346 - accuracy: 0.6357 - val_loss: 0.9204 - val_accuracy: 0.6000\n",
            "Epoch 22/50\n",
            "9/9 [==============================] - 0s 8ms/step - loss: 0.8312 - accuracy: 0.6357 - val_loss: 0.9208 - val_accuracy: 0.6000\n",
            "Epoch 23/50\n",
            "9/9 [==============================] - 0s 7ms/step - loss: 0.8284 - accuracy: 0.6357 - val_loss: 0.9208 - val_accuracy: 0.6000\n",
            "Epoch 24/50\n",
            "9/9 [==============================] - 0s 9ms/step - loss: 0.8277 - accuracy: 0.6357 - val_loss: 0.9249 - val_accuracy: 0.6000\n",
            "Epoch 25/50\n",
            "9/9 [==============================] - 0s 7ms/step - loss: 0.8215 - accuracy: 0.6357 - val_loss: 0.9240 - val_accuracy: 0.6000\n",
            "Epoch 26/50\n",
            "9/9 [==============================] - 0s 8ms/step - loss: 0.8209 - accuracy: 0.6429 - val_loss: 0.9207 - val_accuracy: 0.6000\n",
            "Epoch 27/50\n",
            "9/9 [==============================] - 0s 8ms/step - loss: 0.8158 - accuracy: 0.6357 - val_loss: 0.9229 - val_accuracy: 0.6000\n",
            "Epoch 28/50\n",
            "9/9 [==============================] - 0s 7ms/step - loss: 0.8134 - accuracy: 0.6357 - val_loss: 0.9235 - val_accuracy: 0.6000\n",
            "Epoch 29/50\n",
            "9/9 [==============================] - 0s 8ms/step - loss: 0.8118 - accuracy: 0.6393 - val_loss: 0.9239 - val_accuracy: 0.5857\n",
            "Epoch 30/50\n",
            "9/9 [==============================] - 0s 8ms/step - loss: 0.8092 - accuracy: 0.6393 - val_loss: 0.9301 - val_accuracy: 0.6000\n",
            "Epoch 31/50\n",
            "9/9 [==============================] - 0s 8ms/step - loss: 0.8055 - accuracy: 0.6393 - val_loss: 0.9290 - val_accuracy: 0.5857\n",
            "Epoch 32/50\n",
            "9/9 [==============================] - 0s 11ms/step - loss: 0.8042 - accuracy: 0.6357 - val_loss: 0.9308 - val_accuracy: 0.6000\n",
            "Epoch 33/50\n",
            "9/9 [==============================] - 0s 8ms/step - loss: 0.8014 - accuracy: 0.6393 - val_loss: 0.9255 - val_accuracy: 0.5857\n",
            "Epoch 34/50\n",
            "9/9 [==============================] - 0s 8ms/step - loss: 0.8009 - accuracy: 0.6429 - val_loss: 0.9258 - val_accuracy: 0.6000\n",
            "Epoch 35/50\n",
            "9/9 [==============================] - 0s 9ms/step - loss: 0.7964 - accuracy: 0.6393 - val_loss: 0.9344 - val_accuracy: 0.6000\n",
            "Epoch 36/50\n",
            "9/9 [==============================] - 0s 9ms/step - loss: 0.7915 - accuracy: 0.6464 - val_loss: 0.9343 - val_accuracy: 0.5857\n",
            "Epoch 37/50\n",
            "9/9 [==============================] - 0s 7ms/step - loss: 0.7922 - accuracy: 0.6464 - val_loss: 0.9334 - val_accuracy: 0.6000\n",
            "Epoch 38/50\n",
            "9/9 [==============================] - 0s 8ms/step - loss: 0.7890 - accuracy: 0.6500 - val_loss: 0.9357 - val_accuracy: 0.5571\n",
            "Epoch 39/50\n",
            "9/9 [==============================] - 0s 7ms/step - loss: 0.7869 - accuracy: 0.6464 - val_loss: 0.9274 - val_accuracy: 0.6000\n",
            "Epoch 40/50\n",
            "9/9 [==============================] - 0s 8ms/step - loss: 0.7855 - accuracy: 0.6429 - val_loss: 0.9366 - val_accuracy: 0.5714\n",
            "Epoch 41/50\n",
            "9/9 [==============================] - 0s 7ms/step - loss: 0.7811 - accuracy: 0.6464 - val_loss: 0.9395 - val_accuracy: 0.5857\n",
            "Epoch 42/50\n",
            "9/9 [==============================] - 0s 10ms/step - loss: 0.7818 - accuracy: 0.6536 - val_loss: 0.9371 - val_accuracy: 0.5571\n",
            "Epoch 43/50\n",
            "9/9 [==============================] - 0s 9ms/step - loss: 0.7784 - accuracy: 0.6500 - val_loss: 0.9409 - val_accuracy: 0.6000\n",
            "Epoch 44/50\n",
            "9/9 [==============================] - 0s 10ms/step - loss: 0.7734 - accuracy: 0.6464 - val_loss: 0.9369 - val_accuracy: 0.5571\n",
            "Epoch 45/50\n",
            "9/9 [==============================] - 0s 8ms/step - loss: 0.7730 - accuracy: 0.6500 - val_loss: 0.9427 - val_accuracy: 0.5857\n",
            "Epoch 46/50\n",
            "9/9 [==============================] - 0s 8ms/step - loss: 0.7718 - accuracy: 0.6536 - val_loss: 0.9382 - val_accuracy: 0.5857\n",
            "Epoch 47/50\n",
            "9/9 [==============================] - 0s 9ms/step - loss: 0.7680 - accuracy: 0.6536 - val_loss: 0.9354 - val_accuracy: 0.5571\n",
            "Epoch 48/50\n",
            "9/9 [==============================] - 0s 11ms/step - loss: 0.7669 - accuracy: 0.6500 - val_loss: 0.9467 - val_accuracy: 0.5571\n",
            "Epoch 49/50\n",
            "9/9 [==============================] - 0s 12ms/step - loss: 0.7643 - accuracy: 0.6500 - val_loss: 0.9483 - val_accuracy: 0.5571\n",
            "Epoch 50/50\n",
            "9/9 [==============================] - 0s 11ms/step - loss: 0.7651 - accuracy: 0.6464 - val_loss: 0.9464 - val_accuracy: 0.5714\n"
          ]
        }
      ],
      "source": [
        "# Defining the optimizer\n",
        "optimizer = tf.keras.optimizers.Adam(0.001)\n",
        "# Compiling the model\n",
        "model_2.compile(loss='categorical_crossentropy',\n",
        "              optimizer=optimizer,\n",
        "              metrics=['accuracy'])\n",
        "# Fitting the model on train data\n",
        "history = model_2.fit(X_train, y_train, validation_split = 0.2, epochs=500)"
      ]
    },
    {
      "cell_type": "code",
      "execution_count": null,
      "metadata": {
        "id": "6byQizwTnNuH",
        "outputId": "3a7e1294-3940-4834-dea3-4d377e1760d7",
        "colab": {
          "base_uri": "https://localhost:8080/",
          "height": 452
        }
      },
      "outputs": [
        {
          "output_type": "display_data",
          "data": {
            "text/plain": [
              "<Figure size 640x480 with 1 Axes>"
            ],
            "image/png": "[encoded data removed]"
          },
          "metadata": {}
        }
      ],
      "source": [
        "from matplotlib import pyplot\n",
        "pyplot.title('Training Loss and Validation loss on the dataset')\n",
        "pyplot.plot(history.history['loss'], label='train')\n",
        "pyplot.plot(history.history['val_loss'], label='validate')\n",
        "pyplot.legend()\n",
        "pyplot.show()"
      ]
    },
    {
      "cell_type": "markdown",
      "metadata": {
        "id": "-_WOqmUAnNuH"
      },
      "source": [
        "From the above plot, we can observe that there is some noise in the validation data."
      ]
    },
    {
      "cell_type": "markdown",
      "metadata": {
        "id": "gbkEvNTHnNuH"
      },
      "source": [
        "Predicting on test data"
      ]
    },
    {
      "cell_type": "code",
      "execution_count": null,
      "metadata": {
        "id": "brHxjWNtnNuI",
        "outputId": "df3e9d9f-df67-4d45-850d-1b27745fe41e",
        "colab": {
          "base_uri": "https://localhost:8080/"
        }
      },
      "outputs": [
        {
          "output_type": "stream",
          "name": "stdout",
          "text": [
            "5/5 [==============================] - 0s 4ms/step - loss: 1.1337 - accuracy: 0.5200\n"
          ]
        },
        {
          "output_type": "execute_result",
          "data": {
            "text/plain": [
              "[1.1337090730667114, 0.5199999809265137]"
            ]
          },
          "metadata": {},
          "execution_count": 96
        }
      ],
      "source": [
        "model_2.evaluate(X_test,y_test)"
      ]
    },
    {
      "cell_type": "code",
      "source": [
        "from sklearn.metrics import precision_score\n",
        "from sklearn.datasets import load_iris\n",
        "from sklearn.model_selection import train_test_split\n",
        "from sklearn.linear_model import LogisticRegression\n",
        "\n",
        "# Load the Iris dataset as an example\n",
        "data = load_iris()\n",
        "X = data.data\n",
        "y = data.target\n",
        "\n",
        "# Split the dataset into a training set and a test set\n",
        "X_train, X_test, y_train, y_test = train_test_split(X, y, test_size=0.2, random_state=42)\n",
        "\n",
        "# Create and train a classifier (e.g., logistic regression)\n",
        "classifier = LogisticRegression(max_iter=1000)\n",
        "classifier.fit(X_train, y_train)\n",
        "\n",
        "# Make predictions on the test data\n",
        "y_pred = classifier.predict(X_test)\n",
        "\n",
        "# Calculate precision for each class\n",
        "precision_per_class = precision_score(y_test, y_pred, average=None)\n",
        "\n",
        "# Calculate the macro-average precision\n",
        "macro_precision = precision_score(y_test, y_pred, average='macro')\n",
        "\n",
        "# Calculate the weighted-average precision\n",
        "weighted_precision = precision_score(y_test, y_pred, average='weighted')\n",
        "\n",
        "# Print precision for each class and macro and weighted averages\n",
        "print(\"Precision per class:\")\n",
        "for class_label, precision in enumerate(precision_per_class):\n",
        "    print(f\"Class {class_label}: {precision:.4f}\")\n",
        "\n",
        "print(f\"Macro-average Precision: {macro_precision:.4f}\")\n",
        "print(f\"Weighted-average Precision: {weighted_precision:.4f}\")\n"
      ],
      "metadata": {
        "id": "bkbC6_qKgoZw"
      },
      "execution_count": null,
      "outputs": []
    },
    {
      "cell_type": "code",
      "source": [
        "history"
      ],
      "metadata": {
        "id": "0W6JZPB5v7Xa"
      },
      "execution_count": null,
      "outputs": []
    },
    {
      "cell_type": "code",
      "execution_count": null,
      "metadata": {
        "id": "VXqETWnnnNuI"
      },
      "outputs": [],
      "source": [
        "#Lets Print the predicted prices\n",
        "test_predictions_2=model_2.predict(X_test)\n",
        "y_pred_2=target_scaler.inverse_transform(test_predictions_2.reshape(-1, 1))"
      ]
    },
    {
      "cell_type": "code",
      "execution_count": null,
      "metadata": {
        "id": "F9QMtcb9nNuI",
        "outputId": "3a5b43d0-2acb-4ddd-a4d6-865695f9da8b"
      },
      "outputs": [
        {
          "data": {
            "text/plain": [
              "0.7318446891254543"
            ]
          },
          "execution_count": 34,
          "metadata": {},
          "output_type": "execute_result"
        }
      ],
      "source": [
        "sklearn.metrics.r2_score(target_scaler.inverse_transform(y_test.reshape(-1, 1)),y_pred_2)"
      ]
    },
    {
      "cell_type": "markdown",
      "metadata": {
        "id": "WCiQt1RPnNuI"
      },
      "source": [
        "We got 0.73 as an r2 score which is good when compared to the previous model score. Hence increasing the hidden layers work, and we can say that the second model is more generalized when compared to the first model."
      ]
    },
    {
      "cell_type": "markdown",
      "metadata": {
        "id": "R2fegjGWrMQV"
      },
      "source": [
        "**Conclusion:**\n",
        "\n",
        "- Cars which are manufactured recently are costly and have  less mileage.\n",
        "\n",
        "- Price of car is highly dependent on the mileage and the manufacturing year\n",
        "\n",
        "- Automatic cars have higher price range than manual type cars.\n",
        "\n",
        "- There is an increment in price of automatic cars between 2010 and 2015.\n",
        "\n",
        "\n",
        "\n"
      ]
    },
    {
      "cell_type": "markdown",
      "metadata": {
        "id": "X8xCBIesKGbY"
      },
      "source": [
        "We learnt creating a very simple regression models using Neural Networks on used cars data and predicted prices.\n",
        "\n",
        "\n",
        "## <i>Happy Learning!</i>"
      ]
    }
  ],
  "metadata": {
    "colab": {
      "provenance": [],
      "gpuType": "T4",
      "include_colab_link": true
    },
    "kernelspec": {
      "display_name": "Python 3",
      "name": "python3"
    },
    "language_info": {
      "codemirror_mode": {
        "name": "ipython",
        "version": 3
      },
      "file_extension": ".py",
      "mimetype": "text/x-python",
      "name": "python",
      "nbconvert_exporter": "python",
      "pygments_lexer": "ipython3",
      "version": "3.8.8"
    },
    "accelerator": "GPU"
  },
  "nbformat": 4,
  "nbformat_minor": 0
}